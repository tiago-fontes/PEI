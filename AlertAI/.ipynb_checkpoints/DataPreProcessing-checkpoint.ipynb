{
 "cells": [
  {
   "cell_type": "markdown",
   "metadata": {},
   "source": [
    "# AlertAI - Data Pre-Processing \n",
    "This notebook is responsible for the development of the data prepocessing unit that will in de future be integrated in the pipeline of AlertAI component in RideCare Project.\n",
    "\n",
    "#### by PEILoad"
   ]
  },
  {
   "cell_type": "markdown",
   "metadata": {},
   "source": [
    "### The steps of this task are:\n",
    "1. Import Required Libraries \n",
    "2. Acquire the Data\n",
    "3. Data Preparation\n",
    "4. Re-Write processed Data"
   ]
  },
  {
   "cell_type": "markdown",
   "metadata": {},
   "source": [
    "## 1. Import Libraries\n",
    "This section, as name says, is destined to import the libraries that will be used in the file."
   ]
  },
  {
   "cell_type": "code",
   "execution_count": 1,
   "metadata": {},
   "outputs": [],
   "source": [
    "import numpy as np\n",
    "import pandas as pd\n",
    "import math\n",
    "import sklearn\n",
    "import seaborn as sns\n",
    "import matplotlib.pyplot as plt\n",
    "from scipy import stats\n",
    "from sklearn.utils import shuffle"
   ]
  },
  {
   "cell_type": "markdown",
   "metadata": {},
   "source": [
    "## 2. Data Acquisition\n",
    "Step corresponding to gather the Data in order to manipulate it later on."
   ]
  },
  {
   "cell_type": "code",
   "execution_count": 2,
   "metadata": {},
   "outputs": [
    {
     "data": {
      "text/html": [
       "<div>\n",
       "<style scoped>\n",
       "    .dataframe tbody tr th:only-of-type {\n",
       "        vertical-align: middle;\n",
       "    }\n",
       "\n",
       "    .dataframe tbody tr th {\n",
       "        vertical-align: top;\n",
       "    }\n",
       "\n",
       "    .dataframe thead th {\n",
       "        text-align: right;\n",
       "    }\n",
       "</style>\n",
       "<table border=\"1\" class=\"dataframe\">\n",
       "  <thead>\n",
       "    <tr style=\"text-align: right;\">\n",
       "      <th></th>\n",
       "      <th>sensors.id</th>\n",
       "      <th>sensors.carId</th>\n",
       "      <th>sensors.carLocation</th>\n",
       "      <th>sensors.timeValue</th>\n",
       "      <th>sensors.pm25</th>\n",
       "      <th>sensors.pm10</th>\n",
       "      <th>sensors.temperature</th>\n",
       "      <th>sensors.gas</th>\n",
       "      <th>sensors.humidity</th>\n",
       "      <th>sensors.pressure</th>\n",
       "      <th>sensors.altitude</th>\n",
       "      <th>sensors.tags</th>\n",
       "      <th>sensors.classification</th>\n",
       "    </tr>\n",
       "  </thead>\n",
       "  <tbody>\n",
       "    <tr>\n",
       "      <th>0</th>\n",
       "      <td>553</td>\n",
       "      <td>66-ZZ-66</td>\n",
       "      <td>41.5608 -8.3968</td>\n",
       "      <td>2020-12-02 23:54:53</td>\n",
       "      <td>9.5</td>\n",
       "      <td>13.0</td>\n",
       "      <td>21.639570</td>\n",
       "      <td>21515</td>\n",
       "      <td>43.570138</td>\n",
       "      <td>982.296484</td>\n",
       "      <td>260.956467</td>\n",
       "      <td>Existência de fumo, vidros fechados, AC desligado</td>\n",
       "      <td>1</td>\n",
       "    </tr>\n",
       "    <tr>\n",
       "      <th>1</th>\n",
       "      <td>552</td>\n",
       "      <td>66-ZZ-66</td>\n",
       "      <td>41.5608 -8.3968</td>\n",
       "      <td>2020-12-02 22:24:04</td>\n",
       "      <td>16.5</td>\n",
       "      <td>24.7</td>\n",
       "      <td>20.131758</td>\n",
       "      <td>34165</td>\n",
       "      <td>46.910041</td>\n",
       "      <td>982.307568</td>\n",
       "      <td>260.861841</td>\n",
       "      <td>Existência de fumo, vidros fechados, AC desligado</td>\n",
       "      <td>1</td>\n",
       "    </tr>\n",
       "    <tr>\n",
       "      <th>2</th>\n",
       "      <td>551</td>\n",
       "      <td>66-ZZ-66</td>\n",
       "      <td>41.5608 -8.3968</td>\n",
       "      <td>2020-12-02 22:23:53</td>\n",
       "      <td>16.1</td>\n",
       "      <td>25.5</td>\n",
       "      <td>20.107344</td>\n",
       "      <td>33695</td>\n",
       "      <td>46.782896</td>\n",
       "      <td>982.325957</td>\n",
       "      <td>260.704846</td>\n",
       "      <td>Existência de fumo, vidros fechados, AC desligado</td>\n",
       "      <td>1</td>\n",
       "    </tr>\n",
       "    <tr>\n",
       "      <th>3</th>\n",
       "      <td>550</td>\n",
       "      <td>66-ZZ-66</td>\n",
       "      <td>41.5608 -8.3968</td>\n",
       "      <td>2020-12-02 22:23:43</td>\n",
       "      <td>16.0</td>\n",
       "      <td>26.4</td>\n",
       "      <td>20.089375</td>\n",
       "      <td>33113</td>\n",
       "      <td>46.737320</td>\n",
       "      <td>982.321309</td>\n",
       "      <td>260.744524</td>\n",
       "      <td>Existência de fumo, vidros fechados, AC desligado</td>\n",
       "      <td>1</td>\n",
       "    </tr>\n",
       "    <tr>\n",
       "      <th>4</th>\n",
       "      <td>549</td>\n",
       "      <td>66-ZZ-66</td>\n",
       "      <td>41.5608 -8.3968</td>\n",
       "      <td>2020-12-02 22:23:32</td>\n",
       "      <td>15.9</td>\n",
       "      <td>24.4</td>\n",
       "      <td>20.071992</td>\n",
       "      <td>32696</td>\n",
       "      <td>46.847113</td>\n",
       "      <td>982.322707</td>\n",
       "      <td>260.732590</td>\n",
       "      <td>Existência de fumo, vidros fechados, AC desligado</td>\n",
       "      <td>1</td>\n",
       "    </tr>\n",
       "  </tbody>\n",
       "</table>\n",
       "</div>"
      ],
      "text/plain": [
       "   sensors.id sensors.carId sensors.carLocation    sensors.timeValue  \\\n",
       "0         553      66-ZZ-66     41.5608 -8.3968  2020-12-02 23:54:53   \n",
       "1         552      66-ZZ-66     41.5608 -8.3968  2020-12-02 22:24:04   \n",
       "2         551      66-ZZ-66     41.5608 -8.3968  2020-12-02 22:23:53   \n",
       "3         550      66-ZZ-66     41.5608 -8.3968  2020-12-02 22:23:43   \n",
       "4         549      66-ZZ-66     41.5608 -8.3968  2020-12-02 22:23:32   \n",
       "\n",
       "   sensors.pm25  sensors.pm10  sensors.temperature  sensors.gas  \\\n",
       "0           9.5          13.0            21.639570        21515   \n",
       "1          16.5          24.7            20.131758        34165   \n",
       "2          16.1          25.5            20.107344        33695   \n",
       "3          16.0          26.4            20.089375        33113   \n",
       "4          15.9          24.4            20.071992        32696   \n",
       "\n",
       "   sensors.humidity  sensors.pressure  sensors.altitude  \\\n",
       "0         43.570138        982.296484        260.956467   \n",
       "1         46.910041        982.307568        260.861841   \n",
       "2         46.782896        982.325957        260.704846   \n",
       "3         46.737320        982.321309        260.744524   \n",
       "4         46.847113        982.322707        260.732590   \n",
       "\n",
       "                                        sensors.tags  sensors.classification  \n",
       "0  Existência de fumo, vidros fechados, AC desligado                       1  \n",
       "1  Existência de fumo, vidros fechados, AC desligado                       1  \n",
       "2  Existência de fumo, vidros fechados, AC desligado                       1  \n",
       "3  Existência de fumo, vidros fechados, AC desligado                       1  \n",
       "4  Existência de fumo, vidros fechados, AC desligado                       1  "
      ]
     },
     "execution_count": 2,
     "metadata": {},
     "output_type": "execute_result"
    }
   ],
   "source": [
    "data = pd.read_csv(\"data/raw_data.csv\") \n",
    "data.head()"
   ]
  },
  {
   "cell_type": "markdown",
   "metadata": {},
   "source": [
    "## 3. Data Pre-processing\n",
    "Where the \"magic\" happens!\n",
    "Section where the data will be cleaned and ready to fill de model."
   ]
  },
  {
   "cell_type": "markdown",
   "metadata": {},
   "source": [
    "### 3.1 Null Values Verification & Elimination"
   ]
  },
  {
   "cell_type": "markdown",
   "metadata": {},
   "source": [
    "Here we are going to validate the datasets: checking if there are missing values and try to avoid them: deleting or replace them for the most common values of the respectively feature"
   ]
  },
  {
   "cell_type": "code",
   "execution_count": 3,
   "metadata": {},
   "outputs": [
    {
     "name": "stdout",
     "output_type": "stream",
     "text": [
      "Missing values on dataset:  0\n"
     ]
    }
   ],
   "source": [
    "#Missing values verification for whole dataset\n",
    "nullValues = data.isnull().values.sum()\n",
    "\n",
    "print(\"Missing values on dataset: \",nullValues)"
   ]
  },
  {
   "cell_type": "code",
   "execution_count": 4,
   "metadata": {},
   "outputs": [
    {
     "name": "stdout",
     "output_type": "stream",
     "text": [
      "---------Dataset ------------\n",
      "sensors.id                0\n",
      "sensors.carId             0\n",
      "sensors.carLocation       0\n",
      "sensors.timeValue         0\n",
      "sensors.pm25              0\n",
      "sensors.pm10              0\n",
      "sensors.temperature       0\n",
      "sensors.gas               0\n",
      "sensors.humidity          0\n",
      "sensors.pressure          0\n",
      "sensors.altitude          0\n",
      "sensors.tags              0\n",
      "sensors.classification    0\n",
      "dtype: int64\n"
     ]
    }
   ],
   "source": [
    "#Missing values for each feature\n",
    "print(\"---------Dataset ------------\")\n",
    "print(data.isnull().sum())"
   ]
  },
  {
   "cell_type": "code",
   "execution_count": 5,
   "metadata": {},
   "outputs": [
    {
     "name": "stdout",
     "output_type": "stream",
     "text": [
      "        sensors.id sensors.carId sensors.carLocation    sensors.timeValue  \\\n",
      "count   498.000000           498                 498                  498   \n",
      "unique         NaN             2                   1                  497   \n",
      "top            NaN      VP-35-44     41.5608 -8.3968  2020-12-02 22:18:45   \n",
      "freq           NaN           251                 498                    2   \n",
      "mean    256.126506           NaN                 NaN                  NaN   \n",
      "std     154.718912           NaN                 NaN                  NaN   \n",
      "min       1.000000           NaN                 NaN                  NaN   \n",
      "25%     125.250000           NaN                 NaN                  NaN   \n",
      "50%     249.500000           NaN                 NaN                  NaN   \n",
      "75%     373.750000           NaN                 NaN                  NaN   \n",
      "max     553.000000           NaN                 NaN                  NaN   \n",
      "\n",
      "        sensors.pm25  sensors.pm10  sensors.temperature   sensors.gas  \\\n",
      "count     498.000000    498.000000           498.000000    498.000000   \n",
      "unique           NaN           NaN                  NaN           NaN   \n",
      "top              NaN           NaN                  NaN           NaN   \n",
      "freq             NaN           NaN                  NaN           NaN   \n",
      "mean       40.362249     75.506627            21.300003  36925.126506   \n",
      "std       150.813146    290.806028             4.925428  13352.727258   \n",
      "min         0.900000      1.300000            13.426680   2071.000000   \n",
      "25%         6.200000     10.400000            15.456660  29712.000000   \n",
      "50%         8.000000     13.000000            21.983320  32630.000000   \n",
      "75%        11.575000     16.175000            25.859053  51475.500000   \n",
      "max       999.900000   1999.900000            27.949531  60247.000000   \n",
      "\n",
      "        sensors.humidity  sensors.pressure  sensors.altitude  \\\n",
      "count         498.000000        498.000000        498.000000   \n",
      "unique               NaN               NaN               NaN   \n",
      "top                  NaN               NaN               NaN   \n",
      "freq                 NaN               NaN               NaN   \n",
      "mean           43.304437        996.084446        145.446376   \n",
      "std            11.331099         21.204550        179.112329   \n",
      "min            25.600421        967.816309        -59.780313   \n",
      "25%            34.237746        974.222239        -29.310908   \n",
      "50%            37.641825       1014.874693        -13.517904   \n",
      "75%            55.363707       1016.775496        330.120736   \n",
      "max            66.090665       1020.450858        385.325117   \n",
      "\n",
      "                                             sensors.tags  \\\n",
      "count                                                 498   \n",
      "unique                                                  4   \n",
      "top     Não existência de fumo, vidros fechados, AC de...   \n",
      "freq                                                  219   \n",
      "mean                                                  NaN   \n",
      "std                                                   NaN   \n",
      "min                                                   NaN   \n",
      "25%                                                   NaN   \n",
      "50%                                                   NaN   \n",
      "75%                                                   NaN   \n",
      "max                                                   NaN   \n",
      "\n",
      "        sensors.classification  \n",
      "count               498.000000  \n",
      "unique                     NaN  \n",
      "top                        NaN  \n",
      "freq                       NaN  \n",
      "mean                  0.120482  \n",
      "std                   0.325852  \n",
      "min                   0.000000  \n",
      "25%                   0.000000  \n",
      "50%                   0.000000  \n",
      "75%                   0.000000  \n",
      "max                   1.000000  \n"
     ]
    }
   ],
   "source": [
    "#Describe the dataset for more realistic informations about features\n",
    "print(data.describe(include='all'))"
   ]
  },
  {
   "cell_type": "markdown",
   "metadata": {},
   "source": [
    "### 3.2 NaN Verification & Elimination"
   ]
  },
  {
   "cell_type": "markdown",
   "metadata": {},
   "source": [
    "In this subsection we are going to verify the existance of NaN values. Tipically, they can cause some troubles \n",
    "ahead - so it is important to handle them now"
   ]
  },
  {
   "cell_type": "code",
   "execution_count": 6,
   "metadata": {},
   "outputs": [
    {
     "name": "stdout",
     "output_type": "stream",
     "text": [
      "NAN Finder: \n",
      " Total: 0 \n"
     ]
    }
   ],
   "source": [
    "NaN = data.isna().sum()\n",
    "print(\"NAN Finder: \\n Total: %s \" % (NaN.sum()))"
   ]
  },
  {
   "cell_type": "markdown",
   "metadata": {},
   "source": [
    "Lets drop all the Nan Found "
   ]
  },
  {
   "cell_type": "code",
   "execution_count": 7,
   "metadata": {},
   "outputs": [
    {
     "name": "stdout",
     "output_type": "stream",
     "text": [
      "Dataset: \n",
      " Antes -> 498 \n",
      " Depois 498 \n",
      "Foram removidos: 0\n"
     ]
    }
   ],
   "source": [
    "dataClean = data.dropna()\n",
    "print(\"Dataset: \\n Antes -> %s \\n Depois %s \" % (data.shape[0],dataClean.shape[0]))\n",
    "print(\"Foram removidos: %s\" % (data.shape[0]-dataClean.shape[0]))"
   ]
  },
  {
   "cell_type": "markdown",
   "metadata": {},
   "source": [
    "Finally, we present a brief visual representation of how our datasets are composed in termos of unwanted values"
   ]
  },
  {
   "cell_type": "code",
   "execution_count": 8,
   "metadata": {},
   "outputs": [],
   "source": [
    "#Assign the same variables for not making mistakes further\n",
    "data = dataClean"
   ]
  },
  {
   "cell_type": "code",
   "execution_count": 9,
   "metadata": {},
   "outputs": [
    {
     "name": "stdout",
     "output_type": "stream",
     "text": [
      "Dataset Information\n",
      "<class 'pandas.core.frame.DataFrame'>\n",
      "Int64Index: 498 entries, 0 to 497\n",
      "Data columns (total 13 columns):\n",
      " #   Column                  Non-Null Count  Dtype  \n",
      "---  ------                  --------------  -----  \n",
      " 0   sensors.id              498 non-null    int64  \n",
      " 1   sensors.carId           498 non-null    object \n",
      " 2   sensors.carLocation     498 non-null    object \n",
      " 3   sensors.timeValue       498 non-null    object \n",
      " 4   sensors.pm25            498 non-null    float64\n",
      " 5   sensors.pm10            498 non-null    float64\n",
      " 6   sensors.temperature     498 non-null    float64\n",
      " 7   sensors.gas             498 non-null    int64  \n",
      " 8   sensors.humidity        498 non-null    float64\n",
      " 9   sensors.pressure        498 non-null    float64\n",
      " 10  sensors.altitude        498 non-null    float64\n",
      " 11  sensors.tags            498 non-null    object \n",
      " 12  sensors.classification  498 non-null    int64  \n",
      "dtypes: float64(6), int64(3), object(4)\n",
      "memory usage: 54.5+ KB\n"
     ]
    },
    {
     "data": {
      "image/png": "[encoded data removed]",
      "text/plain": [
       "<Figure size 432x288 with 1 Axes>"
      ]
     },
     "metadata": {
      "needs_background": "light"
     },
     "output_type": "display_data"
    }
   ],
   "source": [
    "print(\"Dataset Information\")\n",
    "sns.heatmap(data.isnull(), cbar=False)\n",
    "data.info()"
   ]
  },
  {
   "cell_type": "markdown",
   "metadata": {},
   "source": [
    "### 3.3 Outliers"
   ]
  },
  {
   "cell_type": "markdown",
   "metadata": {},
   "source": [
    "Here we are going to check if there are any outlier in our dataframes, and handle with them "
   ]
  },
  {
   "cell_type": "code",
   "execution_count": 118,
   "metadata": {},
   "outputs": [
    {
     "data": {
      "text/plain": [
       "Text(0.5, 1.0, 'PM 25 BoxPlot')"
      ]
     },
     "execution_count": 118,
     "metadata": {},
     "output_type": "execute_result"
    },
    {
     "data": {
      "image/png": "[encoded data removed]",
      "text/plain": [
       "<Figure size 432x288 with 1 Axes>"
      ]
     },
     "metadata": {
      "needs_background": "light"
     },
     "output_type": "display_data"
    }
   ],
   "source": [
    "sns.boxplot(x=data['sensors.pm25']).set_title('PM 25 BoxPlot')"
   ]
  },
  {
   "cell_type": "code",
   "execution_count": 119,
   "metadata": {},
   "outputs": [
    {
     "data": {
      "text/plain": [
       "Text(0.5, 1.0, 'PM 10 BoxPlot')"
      ]
     },
     "execution_count": 119,
     "metadata": {},
     "output_type": "execute_result"
    },
    {
     "data": {
      "image/png": "[encoded data removed]",
      "text/plain": [
       "<Figure size 432x288 with 1 Axes>"
      ]
     },
     "metadata": {
      "needs_background": "light"
     },
     "output_type": "display_data"
    }
   ],
   "source": [
    "sns.boxplot(x=data['sensors.pm10']).set_title('PM 10 BoxPlot')"
   ]
  },
  {
   "cell_type": "code",
   "execution_count": 120,
   "metadata": {},
   "outputs": [
    {
     "data": {
      "text/plain": [
       "Text(0.5, 1.0, 'Temperature BoxPlot')"
      ]
     },
     "execution_count": 120,
     "metadata": {},
     "output_type": "execute_result"
    },
    {
     "data": {
      "image/png": "[encoded data removed]",
      "text/plain": [
       "<Figure size 432x288 with 1 Axes>"
      ]
     },
     "metadata": {
      "needs_background": "light"
     },
     "output_type": "display_data"
    }
   ],
   "source": [
    "sns.boxplot(x=data['sensors.temperature']).set_title('Temperature BoxPlot')"
   ]
  },
  {
   "cell_type": "code",
   "execution_count": 121,
   "metadata": {},
   "outputs": [
    {
     "data": {
      "text/plain": [
       "Text(0.5, 1.0, 'Gas BoxPlot')"
      ]
     },
     "execution_count": 121,
     "metadata": {},
     "output_type": "execute_result"
    },
    {
     "data": {
      "image/png": "[encoded data removed]",
      "text/plain": [
       "<Figure size 432x288 with 1 Axes>"
      ]
     },
     "metadata": {
      "needs_background": "light"
     },
     "output_type": "display_data"
    }
   ],
   "source": [
    "sns.boxplot(x=data['sensors.gas']).set_title('Gas BoxPlot')"
   ]
  },
  {
   "cell_type": "code",
   "execution_count": 122,
   "metadata": {},
   "outputs": [
    {
     "data": {
      "text/plain": [
       "Text(0.5, 1.0, 'Humidity BoxPlot')"
      ]
     },
     "execution_count": 122,
     "metadata": {},
     "output_type": "execute_result"
    },
    {
     "data": {
      "image/png": "[encoded data removed]",
      "text/plain": [
       "<Figure size 432x288 with 1 Axes>"
      ]
     },
     "metadata": {
      "needs_background": "light"
     },
     "output_type": "display_data"
    }
   ],
   "source": [
    "sns.boxplot(x=data['sensors.humidity']).set_title('Humidity BoxPlot')"
   ]
  },
  {
   "cell_type": "code",
   "execution_count": 123,
   "metadata": {},
   "outputs": [
    {
     "data": {
      "text/plain": [
       "Text(0.5, 1.0, 'Pressure BoxPlot')"
      ]
     },
     "execution_count": 123,
     "metadata": {},
     "output_type": "execute_result"
    },
    {
     "data": {
      "image/png": "[encoded data removed]",
      "text/plain": [
       "<Figure size 432x288 with 1 Axes>"
      ]
     },
     "metadata": {
      "needs_background": "light"
     },
     "output_type": "display_data"
    }
   ],
   "source": [
    "sns.boxplot(x=data['sensors.pressure']).set_title('Pressure BoxPlot')"
   ]
  },
  {
   "cell_type": "code",
   "execution_count": 124,
   "metadata": {},
   "outputs": [
    {
     "data": {
      "text/plain": [
       "Text(0.5, 1.0, 'Altitude BoxPlot')"
      ]
     },
     "execution_count": 124,
     "metadata": {},
     "output_type": "execute_result"
    },
    {
     "data": {
      "image/png": "[encoded data removed]",
      "text/plain": [
       "<Figure size 432x288 with 1 Axes>"
      ]
     },
     "metadata": {
      "needs_background": "light"
     },
     "output_type": "display_data"
    }
   ],
   "source": [
    "sns.boxplot(x=data['sensors.altitude']).set_title('Altitude BoxPlot')"
   ]
  },
  {
   "cell_type": "markdown",
   "metadata": {},
   "source": [
    "#### Assign features only"
   ]
  },
  {
   "cell_type": "code",
   "execution_count": 11,
   "metadata": {},
   "outputs": [
    {
     "data": {
      "text/plain": [
       "<matplotlib.axes._subplots.AxesSubplot at 0x7fcb2a632490>"
      ]
     },
     "execution_count": 11,
     "metadata": {},
     "output_type": "execute_result"
    },
    {
     "data": {
      "image/png": "[encoded data removed]",
      "text/plain": [
       "<Figure size 432x288 with 1 Axes>"
      ]
     },
     "metadata": {
      "needs_background": "light"
     },
     "output_type": "display_data"
    }
   ],
   "source": [
    "features = data[['sensors.pm25','sensors.pm10','sensors.temperature', 'sensors.gas', 'sensors.humidity', 'sensors.pressure', 'sensors.altitude','sensors.classification']]\n",
    "features.boxplot()"
   ]
  },
  {
   "cell_type": "markdown",
   "metadata": {},
   "source": [
    "Now that we have spotted some outliers, its time to get rid of them"
   ]
  },
  {
   "cell_type": "markdown",
   "metadata": {},
   "source": [
    "#### Z-score method"
   ]
  },
  {
   "cell_type": "code",
   "execution_count": 138,
   "metadata": {},
   "outputs": [
    {
     "name": "stdout",
     "output_type": "stream",
     "text": [
      "[[3.85914793 3.69401374 1.44166969 ... 1.35436888 1.359603   4.18568991]\n",
      " [5.39597235 5.43043055 1.443897   ... 1.3547722  1.36001546 4.18568991]\n",
      " [4.92768612 4.95097218 1.44712275 ... 1.35540971 1.36066742 4.18568991]\n",
      " ...\n",
      " [0.2202593  0.21807419 0.09402166 ... 0.9321148  0.9317654  0.23890924]\n",
      " [0.2202593  0.21807419 0.07950575 ... 0.93190089 0.93155529 0.23890924]\n",
      " [0.2202593  0.21807419 0.06925245 ... 0.93238659 0.93203236 0.23890924]]\n"
     ]
    }
   ],
   "source": [
    "z = np.abs(stats.zscore(features))\n",
    "print(z)"
   ]
  },
  {
   "cell_type": "code",
   "execution_count": 139,
   "metadata": {},
   "outputs": [
    {
     "name": "stdout",
     "output_type": "stream",
     "text": [
      "(array([ 0,  0,  0,  1,  1,  1,  2,  2,  2,  3,  3,  3,  4,  4,  4,  5,  5,\n",
      "        5,  6,  6,  6,  7,  7,  8,  8,  8,  9,  9,  9, 10, 10, 10, 11, 11,\n",
      "       11, 12, 12, 12, 13, 13, 13, 14, 14, 14, 15, 16, 17, 17, 17, 18, 18,\n",
      "       18, 19, 20, 20, 20, 21, 21, 22, 23, 24]), array([0, 1, 7, 0, 1, 7, 0, 1, 7, 0, 1, 7, 0, 1, 7, 0, 1, 7, 0, 1, 7, 0,\n",
      "       7, 0, 1, 7, 0, 1, 7, 0, 1, 7, 0, 1, 7, 0, 1, 7, 0, 1, 7, 0, 1, 7,\n",
      "       7, 7, 0, 1, 7, 0, 1, 7, 7, 0, 1, 7, 1, 7, 7, 7, 7]))\n"
     ]
    }
   ],
   "source": [
    "threshold = 3\n",
    "print(np.where(z > threshold))"
   ]
  },
  {
   "cell_type": "code",
   "execution_count": 141,
   "metadata": {},
   "outputs": [
    {
     "name": "stdout",
     "output_type": "stream",
     "text": [
      "ANTES DE REMOVER:  (463, 8)\n",
      "DEPOIS DE REMOVER:  (438, 8)\n",
      "Removidos:  25\n"
     ]
    }
   ],
   "source": [
    "abs_z_scores = np.abs(z)\n",
    "filtered_entries = (abs_z_scores < threshold).all(axis=1)\n",
    "print(\"ANTES DE REMOVER: \",features.shape)\n",
    "featuresZ = features[filtered_entries]\n",
    "print(\"DEPOIS DE REMOVER: \",featuresClean.shape)\n",
    "print(\"Removidos: \", features.shape[0]-featuresClean.shape[0])"
   ]
  },
  {
   "cell_type": "markdown",
   "metadata": {},
   "source": [
    "#### IRQ method"
   ]
  },
  {
   "cell_type": "code",
   "execution_count": 142,
   "metadata": {},
   "outputs": [
    {
     "name": "stdout",
     "output_type": "stream",
     "text": [
      "sensors.pm25                  4.150000\n",
      "sensors.pm10                  4.750000\n",
      "sensors.temperature          10.608203\n",
      "sensors.gas               20496.000000\n",
      "sensors.humidity             21.707457\n",
      "sensors.pressure             42.604216\n",
      "sensors.altitude            359.861651\n",
      "sensors.classification        0.000000\n",
      "dtype: float64\n"
     ]
    }
   ],
   "source": [
    "Q1 = features.quantile(0.25)\n",
    "Q3 = features.quantile(0.75)\n",
    "IQR = Q3 - Q1\n",
    "print(IQR)"
   ]
  },
  {
   "cell_type": "code",
   "execution_count": 143,
   "metadata": {},
   "outputs": [
    {
     "name": "stdout",
     "output_type": "stream",
     "text": [
      "ANTES DE REMOVER:  (463, 8)\n",
      "DEPOIS DE REMOVER:  (376, 8)\n",
      "Removidos:  87\n"
     ]
    }
   ],
   "source": [
    "featuresIQR = features[~((features < (Q1 - 1.5 * IQR)) |(features > (Q3 + 1.5 * IQR))).any(axis=1)]\n",
    "print(\"ANTES DE REMOVER: \", features.shape)\n",
    "print(\"DEPOIS DE REMOVER: \", featuresIQR.shape)\n",
    "print(\"Removidos: \", features.shape[0]- featuresIQR.shape[0])\n",
    "#particles = particlesNow"
   ]
  },
  {
   "cell_type": "markdown",
   "metadata": {},
   "source": [
    "#### Assing Variables Without Outliers"
   ]
  },
  {
   "cell_type": "markdown",
   "metadata": {},
   "source": [
    "Here we have to assign the datasets WITHOUT OUTLIERS, in order to proceeed to normalization and standarization with correct values. We are going to use IQR since this is removing more data"
   ]
  },
  {
   "cell_type": "code",
   "execution_count": 144,
   "metadata": {},
   "outputs": [
    {
     "data": {
      "text/plain": [
       "(376, 8)"
      ]
     },
     "execution_count": 144,
     "metadata": {},
     "output_type": "execute_result"
    }
   ],
   "source": [
    "data = featuresIQR\n",
    "data.shape"
   ]
  },
  {
   "cell_type": "code",
   "execution_count": 148,
   "metadata": {},
   "outputs": [],
   "source": [
    "features = featuresIQR"
   ]
  },
  {
   "cell_type": "markdown",
   "metadata": {},
   "source": [
    "### 3.4 Normalização"
   ]
  },
  {
   "cell_type": "code",
   "execution_count": 12,
   "metadata": {},
   "outputs": [
    {
     "data": {
      "text/plain": [
       "(498, 8)"
      ]
     },
     "execution_count": 12,
     "metadata": {},
     "output_type": "execute_result"
    }
   ],
   "source": [
    "# Normalization\n",
    "from sklearn.preprocessing import MinMaxScaler\n",
    "scaler = MinMaxScaler() # Create the Scaler\n",
    "minmax = pd.DataFrame(scaler.fit_transform(features.values), columns=features.columns, index=features.index)\n",
    "minmax.head()\n",
    "minmax.shape"
   ]
  },
  {
   "cell_type": "code",
   "execution_count": null,
   "metadata": {},
   "outputs": [],
   "source": []
  },
  {
   "cell_type": "markdown",
   "metadata": {},
   "source": [
    "### 3.5 Standarização"
   ]
  },
  {
   "cell_type": "code",
   "execution_count": 13,
   "metadata": {},
   "outputs": [
    {
     "data": {
      "text/plain": [
       "(498, 8)"
      ]
     },
     "execution_count": 13,
     "metadata": {},
     "output_type": "execute_result"
    }
   ],
   "source": [
    "# Standarization\n",
    "from sklearn.preprocessing import StandardScaler\n",
    "scaler = StandardScaler() # Create Scaler\n",
    "standard = pd.DataFrame(scaler.fit_transform(features.values), columns=features.columns, index=features.index)\n",
    "standard.head()\n",
    "standard.shape"
   ]
  },
  {
   "cell_type": "markdown",
   "metadata": {},
   "source": [
    "## 4. Create clean data files\n",
    "The last step of the task is save the previous cleaned data, so that it can be used in the future."
   ]
  },
  {
   "cell_type": "markdown",
   "metadata": {},
   "source": [
    "Save data without outliers into 2 different files: normalized and standarized"
   ]
  },
  {
   "cell_type": "markdown",
   "metadata": {},
   "source": [
    "#### Normalized -> MinMax"
   ]
  },
  {
   "cell_type": "code",
   "execution_count": 14,
   "metadata": {},
   "outputs": [],
   "source": [
    "#Save normalized csv \n",
    "minmax.to_csv('data/minmax.csv')"
   ]
  },
  {
   "cell_type": "markdown",
   "metadata": {},
   "source": [
    "#### Standarized -> Standard Scaler"
   ]
  },
  {
   "cell_type": "code",
   "execution_count": 15,
   "metadata": {},
   "outputs": [],
   "source": [
    "#Save standarized csv\n",
    "standard.to_csv('data/standarized.csv')"
   ]
  },
  {
   "cell_type": "code",
   "execution_count": null,
   "metadata": {},
   "outputs": [],
   "source": []
  }
 ],
 "metadata": {
  "kernelspec": {
   "display_name": "Python 3",
   "language": "python",
   "name": "python3"
  },
  "language_info": {
   "codemirror_mode": {
    "name": "ipython",
    "version": 3
   },
   "file_extension": ".py",
   "mimetype": "text/x-python",
   "name": "python",
   "nbconvert_exporter": "python",
   "pygments_lexer": "ipython3",
   "version": "3.8.3"
  }
 },
 "nbformat": 4,
 "nbformat_minor": 2
}
