{
 "cells": [
  {
   "cell_type": "code",
   "execution_count": 1,
   "metadata": {},
   "outputs": [],
   "source": [
    "import pandas as pd"
   ]
  },
  {
   "cell_type": "code",
   "execution_count": 41,
   "metadata": {},
   "outputs": [
    {
     "data": {
      "text/plain": [
       "(9918, 13)"
      ]
     },
     "execution_count": 41,
     "metadata": {},
     "output_type": "execute_result"
    }
   ],
   "source": [
    "data = pd.read_csv('data/raw_data_com_lixo.csv')\n",
    "data.shape"
   ]
  },
  {
   "cell_type": "code",
   "execution_count": 28,
   "metadata": {},
   "outputs": [
    {
     "data": {
      "text/html": [
       "<div>\n",
       "<style scoped>\n",
       "    .dataframe tbody tr th:only-of-type {\n",
       "        vertical-align: middle;\n",
       "    }\n",
       "\n",
       "    .dataframe tbody tr th {\n",
       "        vertical-align: top;\n",
       "    }\n",
       "\n",
       "    .dataframe thead th {\n",
       "        text-align: right;\n",
       "    }\n",
       "</style>\n",
       "<table border=\"1\" class=\"dataframe\">\n",
       "  <thead>\n",
       "    <tr style=\"text-align: right;\">\n",
       "      <th></th>\n",
       "      <th>sensors.id</th>\n",
       "      <th>sensors.pm25</th>\n",
       "      <th>sensors.pm10</th>\n",
       "      <th>sensors.temperature</th>\n",
       "      <th>sensors.gas</th>\n",
       "      <th>sensors.humidity</th>\n",
       "      <th>sensors.pressure</th>\n",
       "      <th>sensors.altitude</th>\n",
       "      <th>sensors.classification</th>\n",
       "    </tr>\n",
       "  </thead>\n",
       "  <tbody>\n",
       "    <tr>\n",
       "      <th>count</th>\n",
       "      <td>9918.000000</td>\n",
       "      <td>9918.000000</td>\n",
       "      <td>9918.000000</td>\n",
       "      <td>9918.000000</td>\n",
       "      <td>9918.000000</td>\n",
       "      <td>9918.000000</td>\n",
       "      <td>9918.000000</td>\n",
       "      <td>9918.000000</td>\n",
       "      <td>9918.000000</td>\n",
       "    </tr>\n",
       "    <tr>\n",
       "      <th>mean</th>\n",
       "      <td>5209.288667</td>\n",
       "      <td>40.138163</td>\n",
       "      <td>81.300252</td>\n",
       "      <td>19.048201</td>\n",
       "      <td>90691.783827</td>\n",
       "      <td>56.172711</td>\n",
       "      <td>996.074862</td>\n",
       "      <td>144.468503</td>\n",
       "      <td>0.312160</td>\n",
       "    </tr>\n",
       "    <tr>\n",
       "      <th>std</th>\n",
       "      <td>2928.395354</td>\n",
       "      <td>138.980839</td>\n",
       "      <td>294.389577</td>\n",
       "      <td>4.583943</td>\n",
       "      <td>49808.215782</td>\n",
       "      <td>11.491755</td>\n",
       "      <td>11.850805</td>\n",
       "      <td>100.107595</td>\n",
       "      <td>1.073837</td>\n",
       "    </tr>\n",
       "    <tr>\n",
       "      <th>min</th>\n",
       "      <td>1.000000</td>\n",
       "      <td>0.000000</td>\n",
       "      <td>0.000000</td>\n",
       "      <td>5.480391</td>\n",
       "      <td>2971.000000</td>\n",
       "      <td>25.600421</td>\n",
       "      <td>955.262052</td>\n",
       "      <td>-81.183173</td>\n",
       "      <td>0.000000</td>\n",
       "    </tr>\n",
       "    <tr>\n",
       "      <th>25%</th>\n",
       "      <td>2720.250000</td>\n",
       "      <td>2.500000</td>\n",
       "      <td>6.100000</td>\n",
       "      <td>14.996113</td>\n",
       "      <td>52000.000000</td>\n",
       "      <td>50.119175</td>\n",
       "      <td>990.410531</td>\n",
       "      <td>93.733384</td>\n",
       "      <td>0.000000</td>\n",
       "    </tr>\n",
       "    <tr>\n",
       "      <th>50%</th>\n",
       "      <td>5252.500000</td>\n",
       "      <td>4.600000</td>\n",
       "      <td>9.900000</td>\n",
       "      <td>20.417305</td>\n",
       "      <td>72817.000000</td>\n",
       "      <td>54.247614</td>\n",
       "      <td>994.789756</td>\n",
       "      <td>154.840408</td>\n",
       "      <td>0.000000</td>\n",
       "    </tr>\n",
       "    <tr>\n",
       "      <th>75%</th>\n",
       "      <td>7731.750000</td>\n",
       "      <td>7.900000</td>\n",
       "      <td>15.700000</td>\n",
       "      <td>22.562959</td>\n",
       "      <td>136900.000000</td>\n",
       "      <td>65.725348</td>\n",
       "      <td>1002.042187</td>\n",
       "      <td>191.913448</td>\n",
       "      <td>0.000000</td>\n",
       "    </tr>\n",
       "    <tr>\n",
       "      <th>max</th>\n",
       "      <td>10267.000000</td>\n",
       "      <td>999.900000</td>\n",
       "      <td>1999.900000</td>\n",
       "      <td>27.949531</td>\n",
       "      <td>404575.000000</td>\n",
       "      <td>88.338576</td>\n",
       "      <td>1023.038997</td>\n",
       "      <td>494.377666</td>\n",
       "      <td>5.000000</td>\n",
       "    </tr>\n",
       "  </tbody>\n",
       "</table>\n",
       "</div>"
      ],
      "text/plain": [
       "         sensors.id  sensors.pm25  sensors.pm10  sensors.temperature  \\\n",
       "count   9918.000000   9918.000000   9918.000000          9918.000000   \n",
       "mean    5209.288667     40.138163     81.300252            19.048201   \n",
       "std     2928.395354    138.980839    294.389577             4.583943   \n",
       "min        1.000000      0.000000      0.000000             5.480391   \n",
       "25%     2720.250000      2.500000      6.100000            14.996113   \n",
       "50%     5252.500000      4.600000      9.900000            20.417305   \n",
       "75%     7731.750000      7.900000     15.700000            22.562959   \n",
       "max    10267.000000    999.900000   1999.900000            27.949531   \n",
       "\n",
       "         sensors.gas  sensors.humidity  sensors.pressure  sensors.altitude  \\\n",
       "count    9918.000000       9918.000000       9918.000000       9918.000000   \n",
       "mean    90691.783827         56.172711        996.074862        144.468503   \n",
       "std     49808.215782         11.491755         11.850805        100.107595   \n",
       "min      2971.000000         25.600421        955.262052        -81.183173   \n",
       "25%     52000.000000         50.119175        990.410531         93.733384   \n",
       "50%     72817.000000         54.247614        994.789756        154.840408   \n",
       "75%    136900.000000         65.725348       1002.042187        191.913448   \n",
       "max    404575.000000         88.338576       1023.038997        494.377666   \n",
       "\n",
       "       sensors.classification  \n",
       "count             9918.000000  \n",
       "mean                 0.312160  \n",
       "std                  1.073837  \n",
       "min                  0.000000  \n",
       "25%                  0.000000  \n",
       "50%                  0.000000  \n",
       "75%                  0.000000  \n",
       "max                  5.000000  "
      ]
     },
     "execution_count": 28,
     "metadata": {},
     "output_type": "execute_result"
    }
   ],
   "source": [
    "data.describe()"
   ]
  },
  {
   "cell_type": "code",
   "execution_count": 42,
   "metadata": {},
   "outputs": [
    {
     "data": {
      "text/plain": [
       "(572, 13)"
      ]
     },
     "execution_count": 42,
     "metadata": {},
     "output_type": "execute_result"
    }
   ],
   "source": [
    "ones = data[data['sensors.classification']==1]\n",
    "ones.shape\n",
    "#print(ones)"
   ]
  },
  {
   "cell_type": "code",
   "execution_count": 43,
   "metadata": {},
   "outputs": [
    {
     "name": "stderr",
     "output_type": "stream",
     "text": [
      "/Users/tiagofontes/opt/anaconda3/lib/python3.8/site-packages/pandas/core/series.py:4576: SettingWithCopyWarning: \n",
      "A value is trying to be set on a copy of a slice from a DataFrame\n",
      "\n",
      "See the caveats in the documentation: https://pandas.pydata.org/pandas-docs/stable/user_guide/indexing.html#returning-a-view-versus-a-copy\n",
      "  return super().replace(\n"
     ]
    },
    {
     "data": {
      "text/plain": [
       "(65, 13)"
      ]
     },
     "execution_count": 43,
     "metadata": {},
     "output_type": "execute_result"
    }
   ],
   "source": [
    "spray = data[data['sensors.classification']==2]\n",
    "#print(spray)\n",
    "#df['column name'] = df['column name'].replace(['old value'],'new value')\n",
    "spray['sensors.classification'].replace([2], [1], inplace=True)\n",
    "spray_with_1 = spray\n",
    "spray_with_1.shape"
   ]
  },
  {
   "cell_type": "code",
   "execution_count": 44,
   "metadata": {},
   "outputs": [
    {
     "name": "stdout",
     "output_type": "stream",
     "text": [
      "(8777, 13)\n",
      "(8584, 13)\n"
     ]
    }
   ],
   "source": [
    "zeros = data[data['sensors.classification']==0]\n",
    "print(zeros.shape)\n",
    "zeros = zeros[(zeros['sensors.pm25']<=30) & (zeros['sensors.classification']==0) & (zeros['sensors.pm25']>=0.8)]\n",
    "print(zeros.shape)"
   ]
  },
  {
   "cell_type": "code",
   "execution_count": null,
   "metadata": {},
   "outputs": [],
   "source": []
  },
  {
   "cell_type": "code",
   "execution_count": 45,
   "metadata": {},
   "outputs": [
    {
     "name": "stdout",
     "output_type": "stream",
     "text": [
      "(637, 13)\n",
      "(618, 13)\n"
     ]
    }
   ],
   "source": [
    "all_1 = ones.append(spray_with_1)\n",
    "print(all_1.shape)\n",
    "all_1 = all_1[(all_1['sensors.pm25']>=90) & (all_1['sensors.classification']==1)]\n",
    "print(all_1.shape)"
   ]
  },
  {
   "cell_type": "code",
   "execution_count": 46,
   "metadata": {},
   "outputs": [
    {
     "name": "stdout",
     "output_type": "stream",
     "text": [
      "(9202, 13)\n"
     ]
    }
   ],
   "source": [
    "final = zeros.append(all_1)\n",
    "print(final.shape)"
   ]
  },
  {
   "cell_type": "code",
   "execution_count": 50,
   "metadata": {},
   "outputs": [],
   "source": [
    "final.to_csv(\"data/clean_spray_with_1.csv\",index=False)"
   ]
  },
  {
   "cell_type": "code",
   "execution_count": 47,
   "metadata": {},
   "outputs": [
    {
     "data": {
      "text/plain": [
       "(22, 13)"
      ]
     },
     "execution_count": 47,
     "metadata": {},
     "output_type": "execute_result"
    }
   ],
   "source": [
    "perfume = data[data['sensors.classification']==4]\n",
    "perfume.shape"
   ]
  },
  {
   "cell_type": "code",
   "execution_count": 48,
   "metadata": {},
   "outputs": [
    {
     "name": "stderr",
     "output_type": "stream",
     "text": [
      "/Users/tiagofontes/opt/anaconda3/lib/python3.8/site-packages/pandas/core/series.py:4576: SettingWithCopyWarning: \n",
      "A value is trying to be set on a copy of a slice from a DataFrame\n",
      "\n",
      "See the caveats in the documentation: https://pandas.pydata.org/pandas-docs/stable/user_guide/indexing.html#returning-a-view-versus-a-copy\n",
      "  return super().replace(\n"
     ]
    }
   ],
   "source": [
    "perfume['sensors.classification'].replace([4], [2], inplace=True)\n",
    "perfume_2 = perfume"
   ]
  },
  {
   "cell_type": "code",
   "execution_count": 49,
   "metadata": {},
   "outputs": [
    {
     "name": "stdout",
     "output_type": "stream",
     "text": [
      "(22, 13)\n"
     ]
    }
   ],
   "source": [
    "print(perfume_2.shape)"
   ]
  },
  {
   "cell_type": "code",
   "execution_count": 50,
   "metadata": {},
   "outputs": [
    {
     "data": {
      "text/plain": [
       "(430, 13)"
      ]
     },
     "execution_count": 50,
     "metadata": {},
     "output_type": "execute_result"
    }
   ],
   "source": [
    "lixo = data[data['sensors.classification']==5]\n",
    "lixo.shape"
   ]
  },
  {
   "cell_type": "code",
   "execution_count": 51,
   "metadata": {},
   "outputs": [
    {
     "name": "stderr",
     "output_type": "stream",
     "text": [
      "/Users/tiagofontes/opt/anaconda3/lib/python3.8/site-packages/pandas/core/series.py:4576: SettingWithCopyWarning: \n",
      "A value is trying to be set on a copy of a slice from a DataFrame\n",
      "\n",
      "See the caveats in the documentation: https://pandas.pydata.org/pandas-docs/stable/user_guide/indexing.html#returning-a-view-versus-a-copy\n",
      "  return super().replace(\n"
     ]
    },
    {
     "data": {
      "text/plain": [
       "(430, 13)"
      ]
     },
     "execution_count": 51,
     "metadata": {},
     "output_type": "execute_result"
    }
   ],
   "source": [
    "lixo['sensors.classification'].replace([5], [3], inplace=True)\n",
    "lixo_2 = lixo\n",
    "lixo_2.shape"
   ]
  },
  {
   "cell_type": "code",
   "execution_count": 52,
   "metadata": {},
   "outputs": [
    {
     "name": "stdout",
     "output_type": "stream",
     "text": [
      "     sensors.id sensors.carId sensors.carLocation    sensors.timeValue  \\\n",
      "0         10267      66-ZZ-66     41.5608 -8.3968  2021-01-11 18:05:16   \n",
      "1         10266      66-ZZ-66     41.5608 -8.3968  2021-01-11 18:05:11   \n",
      "2         10265      66-ZZ-66     41.5608 -8.3968  2021-01-11 18:05:22   \n",
      "3         10264      66-ZZ-66     41.5608 -8.3968  2021-01-11 18:05:17   \n",
      "4         10263      66-ZZ-66     41.5608 -8.3968  2021-01-11 18:05:11   \n",
      "..          ...           ...                 ...                  ...   \n",
      "425        9823      66-ZZ-66     41.5608 -8.3968  2021-01-11 16:11:14   \n",
      "426        9822      66-ZZ-66     41.5608 -8.3968  2021-01-11 16:08:09   \n",
      "427        9821      66-ZZ-66     41.5608 -8.3968  2021-01-11 16:08:03   \n",
      "428        9820      66-ZZ-66     41.5608 -8.3968  2021-01-11 16:07:58   \n",
      "429        9819      66-ZZ-66     41.5608 -8.3968  2021-01-11 16:07:53   \n",
      "\n",
      "     sensors.pm25  sensors.pm10  sensors.temperature  sensors.gas  \\\n",
      "0            24.3          33.3            16.428047        27311   \n",
      "1            24.8          33.7            16.417695        21813   \n",
      "2            21.5          32.9            16.138398        20667   \n",
      "3            20.5          32.7            16.098945        16627   \n",
      "4            19.6          32.1            16.058906        12869   \n",
      "..            ...           ...                  ...          ...   \n",
      "425           6.6          16.6            15.994063        10883   \n",
      "426           6.5          15.5            15.991914         9849   \n",
      "427           6.6          16.2            15.990937         8717   \n",
      "428           6.7          16.3            15.989961         7437   \n",
      "429           6.6          15.2            15.988398         6087   \n",
      "\n",
      "     sensors.humidity  sensors.pressure  sensors.altitude      sensors.tags  \\\n",
      "0           41.439519        988.597945        207.297041  Mau cheiro, Lixo   \n",
      "1           41.996162        988.597300        207.302521  Mau cheiro, Lixo   \n",
      "2           42.315917        988.556529        207.648805  Mau cheiro, Lixo   \n",
      "3           42.492421        988.555512        207.657449  Mau cheiro, Lixo   \n",
      "4           42.946642        988.550141        207.703068  Mau cheiro, Lixo   \n",
      "..                ...               ...               ...               ...   \n",
      "425         38.051619        987.310763        218.235349  Mau cheiro, Lixo   \n",
      "426         38.051415        987.310503        218.237561  Mau cheiro, Lixo   \n",
      "427         38.115732        987.310537        218.237269  Mau cheiro, Lixo   \n",
      "428         38.180075        987.308892        218.251253  Mau cheiro, Lixo   \n",
      "429         38.244390        987.311298        218.230799  Mau cheiro, Lixo   \n",
      "\n",
      "     sensors.classification  \n",
      "0                         3  \n",
      "1                         3  \n",
      "2                         3  \n",
      "3                         3  \n",
      "4                         3  \n",
      "..                      ...  \n",
      "425                       3  \n",
      "426                       3  \n",
      "427                       3  \n",
      "428                       3  \n",
      "429                       3  \n",
      "\n",
      "[430 rows x 13 columns]\n"
     ]
    }
   ],
   "source": [
    "print(lixo)"
   ]
  },
  {
   "cell_type": "code",
   "execution_count": 53,
   "metadata": {},
   "outputs": [
    {
     "data": {
      "text/plain": [
       "(9224, 13)"
      ]
     },
     "execution_count": 53,
     "metadata": {},
     "output_type": "execute_result"
    }
   ],
   "source": [
    "final = final.append(perfume_2)\n",
    "final.shape"
   ]
  },
  {
   "cell_type": "code",
   "execution_count": 54,
   "metadata": {},
   "outputs": [
    {
     "data": {
      "text/plain": [
       "(9654, 13)"
      ]
     },
     "execution_count": 54,
     "metadata": {},
     "output_type": "execute_result"
    }
   ],
   "source": [
    "final = final.append(lixo_2)\n",
    "final.shape"
   ]
  },
  {
   "cell_type": "code",
   "execution_count": 55,
   "metadata": {},
   "outputs": [],
   "source": [
    "final.to_csv(\"data/clean_data_with_lixo.csv\",index=False)"
   ]
  },
  {
   "cell_type": "code",
   "execution_count": null,
   "metadata": {},
   "outputs": [],
   "source": [
    "data[(data['sensors.pm25']<=90) & (data['sensors.classification']==1)]\n",
    "data = data.drop(['Unnamed: 0','sensors.classification'],axis=1)\n",
    "data = data.drop(['sensors.temperature','sensors.humidity','sensors.pressure'],axis=1)\n",
    "data = data.drop(['sensors.gas'],axis=1)"
   ]
  },
  {
   "cell_type": "code",
   "execution_count": null,
   "metadata": {},
   "outputs": [],
   "source": []
  },
  {
   "cell_type": "code",
   "execution_count": null,
   "metadata": {},
   "outputs": [],
   "source": []
  },
  {
   "cell_type": "markdown",
   "metadata": {},
   "source": [
    "# Create balanced dataset"
   ]
  },
  {
   "cell_type": "code",
   "execution_count": 24,
   "metadata": {},
   "outputs": [
    {
     "data": {
      "text/html": [
       "<div>\n",
       "<style scoped>\n",
       "    .dataframe tbody tr th:only-of-type {\n",
       "        vertical-align: middle;\n",
       "    }\n",
       "\n",
       "    .dataframe tbody tr th {\n",
       "        vertical-align: top;\n",
       "    }\n",
       "\n",
       "    .dataframe thead th {\n",
       "        text-align: right;\n",
       "    }\n",
       "</style>\n",
       "<table border=\"1\" class=\"dataframe\">\n",
       "  <thead>\n",
       "    <tr style=\"text-align: right;\">\n",
       "      <th></th>\n",
       "      <th>sensors.id</th>\n",
       "      <th>sensors.pm25</th>\n",
       "      <th>sensors.pm10</th>\n",
       "      <th>sensors.temperature</th>\n",
       "      <th>sensors.gas</th>\n",
       "      <th>sensors.humidity</th>\n",
       "      <th>sensors.pressure</th>\n",
       "      <th>sensors.altitude</th>\n",
       "      <th>sensors.classification</th>\n",
       "    </tr>\n",
       "  </thead>\n",
       "  <tbody>\n",
       "    <tr>\n",
       "      <th>count</th>\n",
       "      <td>9654.000000</td>\n",
       "      <td>9654.000000</td>\n",
       "      <td>9654.000000</td>\n",
       "      <td>9654.000000</td>\n",
       "      <td>9654.000000</td>\n",
       "      <td>9654.000000</td>\n",
       "      <td>9654.000000</td>\n",
       "      <td>9654.000000</td>\n",
       "      <td>9654.000000</td>\n",
       "    </tr>\n",
       "    <tr>\n",
       "      <th>mean</th>\n",
       "      <td>5275.699296</td>\n",
       "      <td>38.914844</td>\n",
       "      <td>74.896292</td>\n",
       "      <td>18.987952</td>\n",
       "      <td>91701.850425</td>\n",
       "      <td>56.284613</td>\n",
       "      <td>996.383401</td>\n",
       "      <td>141.853657</td>\n",
       "      <td>0.202196</td>\n",
       "    </tr>\n",
       "    <tr>\n",
       "      <th>std</th>\n",
       "      <td>2934.874627</td>\n",
       "      <td>137.718266</td>\n",
       "      <td>274.990741</td>\n",
       "      <td>4.559172</td>\n",
       "      <td>50029.899083</td>\n",
       "      <td>11.160394</td>\n",
       "      <td>11.723646</td>\n",
       "      <td>99.007977</td>\n",
       "      <td>0.658150</td>\n",
       "    </tr>\n",
       "    <tr>\n",
       "      <th>min</th>\n",
       "      <td>1.000000</td>\n",
       "      <td>0.800000</td>\n",
       "      <td>0.800000</td>\n",
       "      <td>5.480391</td>\n",
       "      <td>3362.000000</td>\n",
       "      <td>25.600421</td>\n",
       "      <td>955.262052</td>\n",
       "      <td>-81.183173</td>\n",
       "      <td>0.000000</td>\n",
       "    </tr>\n",
       "    <tr>\n",
       "      <th>25%</th>\n",
       "      <td>2736.250000</td>\n",
       "      <td>2.600000</td>\n",
       "      <td>6.400000</td>\n",
       "      <td>14.913105</td>\n",
       "      <td>52433.000000</td>\n",
       "      <td>50.254149</td>\n",
       "      <td>990.985484</td>\n",
       "      <td>89.378985</td>\n",
       "      <td>0.000000</td>\n",
       "    </tr>\n",
       "    <tr>\n",
       "      <th>50%</th>\n",
       "      <td>5384.500000</td>\n",
       "      <td>4.600000</td>\n",
       "      <td>10.000000</td>\n",
       "      <td>20.415156</td>\n",
       "      <td>76063.000000</td>\n",
       "      <td>54.263949</td>\n",
       "      <td>995.026971</td>\n",
       "      <td>152.835999</td>\n",
       "      <td>0.000000</td>\n",
       "    </tr>\n",
       "    <tr>\n",
       "      <th>75%</th>\n",
       "      <td>7797.750000</td>\n",
       "      <td>7.600000</td>\n",
       "      <td>15.500000</td>\n",
       "      <td>22.534639</td>\n",
       "      <td>137539.000000</td>\n",
       "      <td>65.842355</td>\n",
       "      <td>1002.560614</td>\n",
       "      <td>187.038528</td>\n",
       "      <td>0.000000</td>\n",
       "    </tr>\n",
       "    <tr>\n",
       "      <th>max</th>\n",
       "      <td>10267.000000</td>\n",
       "      <td>999.900000</td>\n",
       "      <td>1999.900000</td>\n",
       "      <td>27.949531</td>\n",
       "      <td>404575.000000</td>\n",
       "      <td>84.871095</td>\n",
       "      <td>1023.038997</td>\n",
       "      <td>494.377666</td>\n",
       "      <td>3.000000</td>\n",
       "    </tr>\n",
       "  </tbody>\n",
       "</table>\n",
       "</div>"
      ],
      "text/plain": [
       "         sensors.id  sensors.pm25  sensors.pm10  sensors.temperature  \\\n",
       "count   9654.000000   9654.000000   9654.000000          9654.000000   \n",
       "mean    5275.699296     38.914844     74.896292            18.987952   \n",
       "std     2934.874627    137.718266    274.990741             4.559172   \n",
       "min        1.000000      0.800000      0.800000             5.480391   \n",
       "25%     2736.250000      2.600000      6.400000            14.913105   \n",
       "50%     5384.500000      4.600000     10.000000            20.415156   \n",
       "75%     7797.750000      7.600000     15.500000            22.534639   \n",
       "max    10267.000000    999.900000   1999.900000            27.949531   \n",
       "\n",
       "         sensors.gas  sensors.humidity  sensors.pressure  sensors.altitude  \\\n",
       "count    9654.000000       9654.000000       9654.000000       9654.000000   \n",
       "mean    91701.850425         56.284613        996.383401        141.853657   \n",
       "std     50029.899083         11.160394         11.723646         99.007977   \n",
       "min      3362.000000         25.600421        955.262052        -81.183173   \n",
       "25%     52433.000000         50.254149        990.985484         89.378985   \n",
       "50%     76063.000000         54.263949        995.026971        152.835999   \n",
       "75%    137539.000000         65.842355       1002.560614        187.038528   \n",
       "max    404575.000000         84.871095       1023.038997        494.377666   \n",
       "\n",
       "       sensors.classification  \n",
       "count             9654.000000  \n",
       "mean                 0.202196  \n",
       "std                  0.658150  \n",
       "min                  0.000000  \n",
       "25%                  0.000000  \n",
       "50%                  0.000000  \n",
       "75%                  0.000000  \n",
       "max                  3.000000  "
      ]
     },
     "execution_count": 24,
     "metadata": {},
     "output_type": "execute_result"
    }
   ],
   "source": [
    "dataset = pd.read_csv('data/clean_data_with_lixo.csv')\n",
    "dataset.describe()"
   ]
  },
  {
   "cell_type": "code",
   "execution_count": 25,
   "metadata": {},
   "outputs": [
    {
     "name": "stdout",
     "output_type": "stream",
     "text": [
      "(8584, 13)\n",
      "(618, 13)\n",
      "(430, 13)\n"
     ]
    }
   ],
   "source": [
    "zeros = dataset[dataset['sensors.classification']==0]\n",
    "print(zeros.shape)\n",
    "ones = dataset[dataset['sensors.classification']==1]\n",
    "print(ones.shape)\n",
    "twos = dataset[dataset['sensors.classification']==3]\n",
    "print(twos.shape)"
   ]
  },
  {
   "cell_type": "code",
   "execution_count": 26,
   "metadata": {},
   "outputs": [
    {
     "name": "stderr",
     "output_type": "stream",
     "text": [
      "/Users/tiagofontes/opt/anaconda3/lib/python3.8/site-packages/pandas/core/series.py:4576: SettingWithCopyWarning: \n",
      "A value is trying to be set on a copy of a slice from a DataFrame\n",
      "\n",
      "See the caveats in the documentation: https://pandas.pydata.org/pandas-docs/stable/user_guide/indexing.html#returning-a-view-versus-a-copy\n",
      "  return super().replace(\n"
     ]
    },
    {
     "data": {
      "text/plain": [
       "(430, 13)"
      ]
     },
     "execution_count": 26,
     "metadata": {},
     "output_type": "execute_result"
    }
   ],
   "source": [
    "twos['sensors.classification'].replace([3], [2], inplace=True)\n",
    "twos_2 = twos\n",
    "twos_2.shape"
   ]
  },
  {
   "cell_type": "code",
   "execution_count": 31,
   "metadata": {},
   "outputs": [],
   "source": [
    "from sklearn.utils import shuffle\n",
    "zeros = shuffle(zeros)\n",
    "ones = shuffle(ones)\n",
    "twos_2 = shuffle(twos_2)"
   ]
  },
  {
   "cell_type": "code",
   "execution_count": 32,
   "metadata": {},
   "outputs": [],
   "source": [
    "zeros_balanc = zeros.head(430)\n",
    "ones_balanc = ones.head(430)\n",
    "twos_balanc = twos_2.head(430)"
   ]
  },
  {
   "cell_type": "code",
   "execution_count": 34,
   "metadata": {},
   "outputs": [],
   "source": [
    "zeros_balanc= zeros_balanc.append(ones_balanc)\n",
    "balanced = zeros_balanc.append(twos_2)"
   ]
  },
  {
   "cell_type": "code",
   "execution_count": 35,
   "metadata": {},
   "outputs": [],
   "source": [
    "balanced.to_csv(\"data/balanced_smoke_lixo.csv\",index=False)"
   ]
  },
  {
   "cell_type": "code",
   "execution_count": null,
   "metadata": {},
   "outputs": [],
   "source": []
  }
 ],
 "metadata": {
  "kernelspec": {
   "display_name": "Python 3",
   "language": "python",
   "name": "python3"
  },
  "language_info": {
   "codemirror_mode": {
    "name": "ipython",
    "version": 3
   },
   "file_extension": ".py",
   "mimetype": "text/x-python",
   "name": "python",
   "nbconvert_exporter": "python",
   "pygments_lexer": "ipython3",
   "version": "3.8.5"
  }
 },
 "nbformat": 4,
 "nbformat_minor": 4
}
