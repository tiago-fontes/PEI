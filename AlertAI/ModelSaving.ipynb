{
 "cells": [
  {
   "cell_type": "code",
   "execution_count": null,
   "metadata": {},
   "outputs": [],
   "source": []
  },
  {
   "cell_type": "markdown",
   "metadata": {},
   "source": [
    "# AlertAI - Model Saving\n",
    "This notebook is responsible showing the data and its features with the goal of improve the knowledge and understanding of the problem that we face.\n",
    "This work is integrated whitin the pipeline of AlertAI component in RideCare Project.\n",
    "\n",
    "#### by PEILoad"
   ]
  },
  {
   "cell_type": "markdown",
   "metadata": {},
   "source": [
    "### The steps of this task are:\n",
    "1. Import Required Libraries \n",
    "2. Acquire the Data\n",
    "3. Build Fast Model\n",
    "4. Save Model\n",
    "5. Load Model trained\n"
   ]
  },
  {
   "cell_type": "markdown",
   "metadata": {},
   "source": [
    "## 1. Import Libraries\n",
    "This section, as name says, is destined to import the libraries that will be used in the file."
   ]
  },
  {
   "cell_type": "code",
   "execution_count": 1,
   "metadata": {},
   "outputs": [],
   "source": [
    "import seaborn as sns\n",
    "import pandas as pd\n",
    "import numpy as np\n",
    "from matplotlib import pyplot as plt\n",
    "from sklearn.model_selection import train_test_split\n",
    "from sklearn import svm"
   ]
  },
  {
   "cell_type": "markdown",
   "metadata": {},
   "source": [
    "## 2. Data Acquisition\n",
    "Step corresponding to gather the Data in order to manipulate it later on."
   ]
  },
  {
   "cell_type": "code",
   "execution_count": 2,
   "metadata": {},
   "outputs": [],
   "source": [
    "data = pd.read_csv('data/raw_data.csv')"
   ]
  },
  {
   "cell_type": "markdown",
   "metadata": {},
   "source": [
    "## 3. Data Visualization\n",
    "Where we see whats happening!\n",
    "Section where the data will be shown and worked to better understand what is in front of us."
   ]
  },
  {
   "cell_type": "markdown",
   "metadata": {},
   "source": [
    "#### Dataset Preview"
   ]
  },
  {
   "cell_type": "code",
   "execution_count": 3,
   "metadata": {},
   "outputs": [
    {
     "name": "stdout",
     "output_type": "stream",
     "text": [
      "Number of elements: 463\n"
     ]
    },
    {
     "data": {
      "text/html": [
       "<div>\n",
       "<style scoped>\n",
       "    .dataframe tbody tr th:only-of-type {\n",
       "        vertical-align: middle;\n",
       "    }\n",
       "\n",
       "    .dataframe tbody tr th {\n",
       "        vertical-align: top;\n",
       "    }\n",
       "\n",
       "    .dataframe thead th {\n",
       "        text-align: right;\n",
       "    }\n",
       "</style>\n",
       "<table border=\"1\" class=\"dataframe\">\n",
       "  <thead>\n",
       "    <tr style=\"text-align: right;\">\n",
       "      <th></th>\n",
       "      <th>sensors.id</th>\n",
       "      <th>sensors.carId</th>\n",
       "      <th>sensors.carLocation</th>\n",
       "      <th>sensors.timeValue</th>\n",
       "      <th>sensors.pm25</th>\n",
       "      <th>sensors.pm10</th>\n",
       "      <th>sensors.temperature</th>\n",
       "      <th>sensors.gas</th>\n",
       "      <th>sensors.humidity</th>\n",
       "      <th>sensors.pressure</th>\n",
       "      <th>sensors.altitude</th>\n",
       "      <th>sensors.tags</th>\n",
       "      <th>sensors.classification</th>\n",
       "    </tr>\n",
       "  </thead>\n",
       "  <tbody>\n",
       "    <tr>\n",
       "      <th>0</th>\n",
       "      <td>518</td>\n",
       "      <td>66-ZZ-66</td>\n",
       "      <td>41.5608 -8.3968</td>\n",
       "      <td>2020-11-28 18:29:15</td>\n",
       "      <td>644.6</td>\n",
       "      <td>1191.0</td>\n",
       "      <td>14.075117</td>\n",
       "      <td>15504</td>\n",
       "      <td>64.529485</td>\n",
       "      <td>967.846065</td>\n",
       "      <td>385.068009</td>\n",
       "      <td>Existência de fumo, vidros fechados, AC desligado</td>\n",
       "      <td>1</td>\n",
       "    </tr>\n",
       "    <tr>\n",
       "      <th>1</th>\n",
       "      <td>517</td>\n",
       "      <td>66-ZZ-66</td>\n",
       "      <td>41.5608 -8.3968</td>\n",
       "      <td>2020-11-28 18:29:04</td>\n",
       "      <td>884.5</td>\n",
       "      <td>1713.6</td>\n",
       "      <td>14.063789</td>\n",
       "      <td>14141</td>\n",
       "      <td>66.012250</td>\n",
       "      <td>967.837346</td>\n",
       "      <td>385.143343</td>\n",
       "      <td>Existência de fumo, vidros fechados, AC desligado</td>\n",
       "      <td>1</td>\n",
       "    </tr>\n",
       "    <tr>\n",
       "      <th>2</th>\n",
       "      <td>516</td>\n",
       "      <td>66-ZZ-66</td>\n",
       "      <td>41.5608 -8.3968</td>\n",
       "      <td>2020-11-28 18:28:53</td>\n",
       "      <td>811.4</td>\n",
       "      <td>1569.3</td>\n",
       "      <td>14.047383</td>\n",
       "      <td>17158</td>\n",
       "      <td>65.654890</td>\n",
       "      <td>967.823565</td>\n",
       "      <td>385.262419</td>\n",
       "      <td>Existência de fumo, vidros fechados, AC desligado</td>\n",
       "      <td>1</td>\n",
       "    </tr>\n",
       "    <tr>\n",
       "      <th>3</th>\n",
       "      <td>515</td>\n",
       "      <td>66-ZZ-66</td>\n",
       "      <td>41.5608 -8.3968</td>\n",
       "      <td>2020-11-28 18:28:42</td>\n",
       "      <td>828.5</td>\n",
       "      <td>1566.5</td>\n",
       "      <td>14.039766</td>\n",
       "      <td>16767</td>\n",
       "      <td>64.965988</td>\n",
       "      <td>967.831027</td>\n",
       "      <td>385.197946</td>\n",
       "      <td>Existência de fumo, vidros fechados, AC desligado</td>\n",
       "      <td>1</td>\n",
       "    </tr>\n",
       "    <tr>\n",
       "      <th>4</th>\n",
       "      <td>514</td>\n",
       "      <td>66-ZZ-66</td>\n",
       "      <td>41.5608 -8.3968</td>\n",
       "      <td>2020-11-28 18:28:31</td>\n",
       "      <td>904.1</td>\n",
       "      <td>1772.0</td>\n",
       "      <td>14.036836</td>\n",
       "      <td>15793</td>\n",
       "      <td>64.422399</td>\n",
       "      <td>967.829522</td>\n",
       "      <td>385.210952</td>\n",
       "      <td>Existência de fumo, vidros fechados, AC desligado</td>\n",
       "      <td>1</td>\n",
       "    </tr>\n",
       "  </tbody>\n",
       "</table>\n",
       "</div>"
      ],
      "text/plain": [
       "   sensors.id sensors.carId sensors.carLocation    sensors.timeValue  \\\n",
       "0         518      66-ZZ-66     41.5608 -8.3968  2020-11-28 18:29:15   \n",
       "1         517      66-ZZ-66     41.5608 -8.3968  2020-11-28 18:29:04   \n",
       "2         516      66-ZZ-66     41.5608 -8.3968  2020-11-28 18:28:53   \n",
       "3         515      66-ZZ-66     41.5608 -8.3968  2020-11-28 18:28:42   \n",
       "4         514      66-ZZ-66     41.5608 -8.3968  2020-11-28 18:28:31   \n",
       "\n",
       "   sensors.pm25  sensors.pm10  sensors.temperature  sensors.gas  \\\n",
       "0         644.6        1191.0            14.075117        15504   \n",
       "1         884.5        1713.6            14.063789        14141   \n",
       "2         811.4        1569.3            14.047383        17158   \n",
       "3         828.5        1566.5            14.039766        16767   \n",
       "4         904.1        1772.0            14.036836        15793   \n",
       "\n",
       "   sensors.humidity  sensors.pressure  sensors.altitude  \\\n",
       "0         64.529485        967.846065        385.068009   \n",
       "1         66.012250        967.837346        385.143343   \n",
       "2         65.654890        967.823565        385.262419   \n",
       "3         64.965988        967.831027        385.197946   \n",
       "4         64.422399        967.829522        385.210952   \n",
       "\n",
       "                                        sensors.tags  sensors.classification  \n",
       "0  Existência de fumo, vidros fechados, AC desligado                       1  \n",
       "1  Existência de fumo, vidros fechados, AC desligado                       1  \n",
       "2  Existência de fumo, vidros fechados, AC desligado                       1  \n",
       "3  Existência de fumo, vidros fechados, AC desligado                       1  \n",
       "4  Existência de fumo, vidros fechados, AC desligado                       1  "
      ]
     },
     "execution_count": 3,
     "metadata": {},
     "output_type": "execute_result"
    }
   ],
   "source": [
    "print('Number of elements:', data.shape[0])\n",
    "data.head()"
   ]
  },
  {
   "cell_type": "markdown",
   "metadata": {},
   "source": [
    "### Get Unified Data"
   ]
  },
  {
   "cell_type": "code",
   "execution_count": 4,
   "metadata": {},
   "outputs": [],
   "source": [
    "features = data[['sensors.pm25','sensors.pm10','sensors.temperature', 'sensors.gas', 'sensors.humidity', 'sensors.pressure', 'sensors.altitude']]\n",
    "target = data[['sensors.classification']]"
   ]
  },
  {
   "cell_type": "code",
   "execution_count": 5,
   "metadata": {},
   "outputs": [
    {
     "data": {
      "text/html": [
       "<div>\n",
       "<style scoped>\n",
       "    .dataframe tbody tr th:only-of-type {\n",
       "        vertical-align: middle;\n",
       "    }\n",
       "\n",
       "    .dataframe tbody tr th {\n",
       "        vertical-align: top;\n",
       "    }\n",
       "\n",
       "    .dataframe thead th {\n",
       "        text-align: right;\n",
       "    }\n",
       "</style>\n",
       "<table border=\"1\" class=\"dataframe\">\n",
       "  <thead>\n",
       "    <tr style=\"text-align: right;\">\n",
       "      <th></th>\n",
       "      <th>sensors.pm25</th>\n",
       "      <th>sensors.pm10</th>\n",
       "      <th>sensors.temperature</th>\n",
       "      <th>sensors.gas</th>\n",
       "      <th>sensors.humidity</th>\n",
       "      <th>sensors.pressure</th>\n",
       "      <th>sensors.altitude</th>\n",
       "    </tr>\n",
       "  </thead>\n",
       "  <tbody>\n",
       "    <tr>\n",
       "      <th>0</th>\n",
       "      <td>644.6</td>\n",
       "      <td>1191.0</td>\n",
       "      <td>14.075117</td>\n",
       "      <td>15504</td>\n",
       "      <td>64.529485</td>\n",
       "      <td>967.846065</td>\n",
       "      <td>385.068009</td>\n",
       "    </tr>\n",
       "    <tr>\n",
       "      <th>1</th>\n",
       "      <td>884.5</td>\n",
       "      <td>1713.6</td>\n",
       "      <td>14.063789</td>\n",
       "      <td>14141</td>\n",
       "      <td>66.012250</td>\n",
       "      <td>967.837346</td>\n",
       "      <td>385.143343</td>\n",
       "    </tr>\n",
       "    <tr>\n",
       "      <th>2</th>\n",
       "      <td>811.4</td>\n",
       "      <td>1569.3</td>\n",
       "      <td>14.047383</td>\n",
       "      <td>17158</td>\n",
       "      <td>65.654890</td>\n",
       "      <td>967.823565</td>\n",
       "      <td>385.262419</td>\n",
       "    </tr>\n",
       "    <tr>\n",
       "      <th>3</th>\n",
       "      <td>828.5</td>\n",
       "      <td>1566.5</td>\n",
       "      <td>14.039766</td>\n",
       "      <td>16767</td>\n",
       "      <td>64.965988</td>\n",
       "      <td>967.831027</td>\n",
       "      <td>385.197946</td>\n",
       "    </tr>\n",
       "    <tr>\n",
       "      <th>4</th>\n",
       "      <td>904.1</td>\n",
       "      <td>1772.0</td>\n",
       "      <td>14.036836</td>\n",
       "      <td>15793</td>\n",
       "      <td>64.422399</td>\n",
       "      <td>967.829522</td>\n",
       "      <td>385.210952</td>\n",
       "    </tr>\n",
       "  </tbody>\n",
       "</table>\n",
       "</div>"
      ],
      "text/plain": [
       "   sensors.pm25  sensors.pm10  sensors.temperature  sensors.gas  \\\n",
       "0         644.6        1191.0            14.075117        15504   \n",
       "1         884.5        1713.6            14.063789        14141   \n",
       "2         811.4        1569.3            14.047383        17158   \n",
       "3         828.5        1566.5            14.039766        16767   \n",
       "4         904.1        1772.0            14.036836        15793   \n",
       "\n",
       "   sensors.humidity  sensors.pressure  sensors.altitude  \n",
       "0         64.529485        967.846065        385.068009  \n",
       "1         66.012250        967.837346        385.143343  \n",
       "2         65.654890        967.823565        385.262419  \n",
       "3         64.965988        967.831027        385.197946  \n",
       "4         64.422399        967.829522        385.210952  "
      ]
     },
     "execution_count": 5,
     "metadata": {},
     "output_type": "execute_result"
    }
   ],
   "source": [
    "features.head()"
   ]
  },
  {
   "cell_type": "code",
   "execution_count": 6,
   "metadata": {},
   "outputs": [
    {
     "data": {
      "text/html": [
       "<div>\n",
       "<style scoped>\n",
       "    .dataframe tbody tr th:only-of-type {\n",
       "        vertical-align: middle;\n",
       "    }\n",
       "\n",
       "    .dataframe tbody tr th {\n",
       "        vertical-align: top;\n",
       "    }\n",
       "\n",
       "    .dataframe thead th {\n",
       "        text-align: right;\n",
       "    }\n",
       "</style>\n",
       "<table border=\"1\" class=\"dataframe\">\n",
       "  <thead>\n",
       "    <tr style=\"text-align: right;\">\n",
       "      <th></th>\n",
       "      <th>sensors.classification</th>\n",
       "    </tr>\n",
       "  </thead>\n",
       "  <tbody>\n",
       "    <tr>\n",
       "      <th>0</th>\n",
       "      <td>1</td>\n",
       "    </tr>\n",
       "    <tr>\n",
       "      <th>1</th>\n",
       "      <td>1</td>\n",
       "    </tr>\n",
       "    <tr>\n",
       "      <th>2</th>\n",
       "      <td>1</td>\n",
       "    </tr>\n",
       "    <tr>\n",
       "      <th>3</th>\n",
       "      <td>1</td>\n",
       "    </tr>\n",
       "    <tr>\n",
       "      <th>4</th>\n",
       "      <td>1</td>\n",
       "    </tr>\n",
       "  </tbody>\n",
       "</table>\n",
       "</div>"
      ],
      "text/plain": [
       "   sensors.classification\n",
       "0                       1\n",
       "1                       1\n",
       "2                       1\n",
       "3                       1\n",
       "4                       1"
      ]
     },
     "execution_count": 6,
     "metadata": {},
     "output_type": "execute_result"
    }
   ],
   "source": [
    "target.head()"
   ]
  },
  {
   "cell_type": "markdown",
   "metadata": {},
   "source": [
    "### Add some random 1s in target column -> half 0 / half 1"
   ]
  },
  {
   "cell_type": "code",
   "execution_count": 7,
   "metadata": {},
   "outputs": [
    {
     "name": "stderr",
     "output_type": "stream",
     "text": [
      "/Users/tiagofontes/opt/anaconda3/lib/python3.8/site-packages/pandas/core/indexing.py:671: SettingWithCopyWarning: \n",
      "A value is trying to be set on a copy of a slice from a DataFrame\n",
      "\n",
      "See the caveats in the documentation: https://pandas.pydata.org/pandas-docs/stable/user_guide/indexing.html#returning-a-view-versus-a-copy\n",
      "  self._setitem_with_indexer(indexer, value)\n",
      "<ipython-input-7-e8437daa0b2c>:3: SettingWithCopyWarning: \n",
      "A value is trying to be set on a copy of a slice from a DataFrame\n",
      "\n",
      "See the caveats in the documentation: https://pandas.pydata.org/pandas-docs/stable/user_guide/indexing.html#returning-a-view-versus-a-copy\n",
      "  target.iloc[index]=1\n"
     ]
    }
   ],
   "source": [
    "for index, row in target.iterrows():\n",
    "    if((index %2) == 0):\n",
    "        target.iloc[index]=1"
   ]
  },
  {
   "cell_type": "code",
   "execution_count": 8,
   "metadata": {},
   "outputs": [
    {
     "name": "stdout",
     "output_type": "stream",
     "text": [
      "     sensors.classification\n",
      "0                         1\n",
      "1                         1\n",
      "2                         1\n",
      "3                         1\n",
      "4                         1\n",
      "..                      ...\n",
      "458                       1\n",
      "459                       0\n",
      "460                       1\n",
      "461                       0\n",
      "462                       1\n",
      "\n",
      "[463 rows x 1 columns]\n"
     ]
    }
   ],
   "source": [
    "target.head()\n",
    "print(target)"
   ]
  },
  {
   "cell_type": "markdown",
   "metadata": {},
   "source": [
    "### Simple Example with SVM"
   ]
  },
  {
   "cell_type": "code",
   "execution_count": 9,
   "metadata": {},
   "outputs": [],
   "source": [
    "x_train,x_test, y_train, y_test = train_test_split(features, target, train_size=0.8,test_size=0.2, random_state=109)"
   ]
  },
  {
   "cell_type": "code",
   "execution_count": 13,
   "metadata": {},
   "outputs": [],
   "source": [
    "clf = svm.SVC(kernel='linear') # Linear Kernel\n",
    "\n",
    "#Train the model using the training sets\n",
    "#Added .values.ravel() to avoid DataConversion Warning -> column-vector y was passed when a 1d array was expected\n",
    "clf.fit(x_train, y_train.values.ravel())\n",
    "\n",
    "#Predict the response for test dataset\n",
    "y_pred = clf.predict(x_test)"
   ]
  },
  {
   "cell_type": "code",
   "execution_count": 14,
   "metadata": {},
   "outputs": [
    {
     "name": "stdout",
     "output_type": "stream",
     "text": [
      "Accuracy: 0.5268817204301075\n"
     ]
    }
   ],
   "source": [
    "from sklearn import metrics\n",
    "\n",
    "# Model Accuracy: how often is the classifier correct?\n",
    "print(\"Accuracy:\",metrics.accuracy_score(y_test, y_pred))"
   ]
  },
  {
   "cell_type": "markdown",
   "metadata": {},
   "source": [
    "## Save model trained"
   ]
  },
  {
   "cell_type": "code",
   "execution_count": 15,
   "metadata": {},
   "outputs": [],
   "source": [
    "import pickle"
   ]
  },
  {
   "cell_type": "code",
   "execution_count": 16,
   "metadata": {},
   "outputs": [],
   "source": [
    "# save the model to disk\n",
    "filename = 'model_saves/svm_test.sav'\n",
    "pickle.dump(clf, open(filename, 'wb'))"
   ]
  },
  {
   "cell_type": "code",
   "execution_count": 17,
   "metadata": {},
   "outputs": [
    {
     "name": "stdout",
     "output_type": "stream",
     "text": [
      "0.5268817204301075\n"
     ]
    }
   ],
   "source": [
    "# load the model from disk\n",
    "loaded_model = pickle.load(open(filename, 'rb'))\n",
    "result = loaded_model.score(x_test, y_test)\n",
    "print(result)"
   ]
  },
  {
   "cell_type": "code",
   "execution_count": null,
   "metadata": {},
   "outputs": [],
   "source": []
  }
 ],
 "metadata": {
  "kernelspec": {
   "display_name": "Python 3",
   "language": "python",
   "name": "python3"
  },
  "language_info": {
   "codemirror_mode": {
    "name": "ipython",
    "version": 3
   },
   "file_extension": ".py",
   "mimetype": "text/x-python",
   "name": "python",
   "nbconvert_exporter": "python",
   "pygments_lexer": "ipython3",
   "version": "3.8.3"
  }
 },
 "nbformat": 4,
 "nbformat_minor": 2
}
