{
 "cells": [
  {
   "cell_type": "code",
   "execution_count": null,
   "metadata": {},
   "outputs": [],
   "source": []
  },
  {
   "cell_type": "markdown",
   "metadata": {},
   "source": [
    "# AlertAI - Model Saving\n",
    "This notebook is responsible showing the data and its features with the goal of improve the knowledge and understanding of the problem that we face.\n",
    "This work is integrated whitin the pipeline of AlertAI component in RideCare Project.\n",
    "\n",
    "#### by PEILoad"
   ]
  },
  {
   "cell_type": "markdown",
   "metadata": {},
   "source": [
    "### The steps of this task are:\n",
    "1. Import Required Libraries \n",
    "2. Acquire the Data\n",
    "3. Build Fast Model\n",
    "4. Save Model\n",
    "5. Load Model trained\n"
   ]
  },
  {
   "cell_type": "markdown",
   "metadata": {},
   "source": [
    "## 1. Import Libraries\n",
    "This section, as name says, is destined to import the libraries that will be used in the file."
   ]
  },
  {
   "cell_type": "code",
   "execution_count": 1,
   "metadata": {},
   "outputs": [],
   "source": [
    "import seaborn as sns\n",
    "import pandas as pd\n",
    "import numpy as np\n",
    "from matplotlib import pyplot as plt\n",
    "from sklearn.model_selection import train_test_split\n",
    "from sklearn import svm"
   ]
  },
  {
   "cell_type": "markdown",
   "metadata": {},
   "source": [
    "## 2. Data Acquisition\n",
    "Step corresponding to gather the Data in order to manipulate it later on."
   ]
  },
  {
   "cell_type": "code",
   "execution_count": 3,
   "metadata": {},
   "outputs": [],
   "source": [
    "dataSensor1 = pd.read_csv('data/sensor1_raw_all.csv')\n",
    "dataSensor2 = pd.read_csv('data/sensor2_raw_all.csv')"
   ]
  },
  {
   "cell_type": "markdown",
   "metadata": {},
   "source": [
    "## 3. Data Visualization\n",
    "Where we see whats happening!\n",
    "Section where the data will be shown and worked to better understand what is in front of us."
   ]
  },
  {
   "cell_type": "markdown",
   "metadata": {},
   "source": [
    "#### Dataset Preview"
   ]
  },
  {
   "cell_type": "code",
   "execution_count": 4,
   "metadata": {},
   "outputs": [
    {
     "name": "stdout",
     "output_type": "stream",
     "text": [
      "Number of elements: 438\n"
     ]
    },
    {
     "data": {
      "text/html": [
       "<div>\n",
       "<style scoped>\n",
       "    .dataframe tbody tr th:only-of-type {\n",
       "        vertical-align: middle;\n",
       "    }\n",
       "\n",
       "    .dataframe tbody tr th {\n",
       "        vertical-align: top;\n",
       "    }\n",
       "\n",
       "    .dataframe thead th {\n",
       "        text-align: right;\n",
       "    }\n",
       "</style>\n",
       "<table border=\"1\" class=\"dataframe\">\n",
       "  <thead>\n",
       "    <tr style=\"text-align: right;\">\n",
       "      <th></th>\n",
       "      <th>sensor1.id</th>\n",
       "      <th>sensor1.carId</th>\n",
       "      <th>sensor1.carLocation</th>\n",
       "      <th>sensor1.timeValue</th>\n",
       "      <th>sensor1.pm25</th>\n",
       "      <th>sensor1.pm10</th>\n",
       "      <th>sensor1.tags</th>\n",
       "      <th>sensor1.classification</th>\n",
       "    </tr>\n",
       "  </thead>\n",
       "  <tbody>\n",
       "    <tr>\n",
       "      <th>0</th>\n",
       "      <td>732</td>\n",
       "      <td>66-ZZ-66</td>\n",
       "      <td>41.5608 -8.3968</td>\n",
       "      <td>2020-11-25 12:50:36</td>\n",
       "      <td>6.3</td>\n",
       "      <td>10.8</td>\n",
       "      <td>Não existência de fumo, vidros fechados, AC li...</td>\n",
       "      <td>0</td>\n",
       "    </tr>\n",
       "    <tr>\n",
       "      <th>1</th>\n",
       "      <td>731</td>\n",
       "      <td>66-ZZ-66</td>\n",
       "      <td>41.5608 -8.3968</td>\n",
       "      <td>2020-11-25 12:50:25</td>\n",
       "      <td>6.3</td>\n",
       "      <td>10.3</td>\n",
       "      <td>Não existência de fumo, vidros fechados, AC li...</td>\n",
       "      <td>0</td>\n",
       "    </tr>\n",
       "    <tr>\n",
       "      <th>2</th>\n",
       "      <td>730</td>\n",
       "      <td>66-ZZ-66</td>\n",
       "      <td>41.5608 -8.3968</td>\n",
       "      <td>2020-11-25 12:50:14</td>\n",
       "      <td>6.2</td>\n",
       "      <td>8.4</td>\n",
       "      <td>Não existência de fumo, vidros fechados, AC li...</td>\n",
       "      <td>0</td>\n",
       "    </tr>\n",
       "    <tr>\n",
       "      <th>3</th>\n",
       "      <td>729</td>\n",
       "      <td>66-ZZ-66</td>\n",
       "      <td>41.5608 -8.3968</td>\n",
       "      <td>2020-11-25 12:50:03</td>\n",
       "      <td>6.1</td>\n",
       "      <td>8.4</td>\n",
       "      <td>Não existência de fumo, vidros fechados, AC li...</td>\n",
       "      <td>0</td>\n",
       "    </tr>\n",
       "    <tr>\n",
       "      <th>4</th>\n",
       "      <td>728</td>\n",
       "      <td>66-ZZ-66</td>\n",
       "      <td>41.5608 -8.3968</td>\n",
       "      <td>2020-11-25 12:49:52</td>\n",
       "      <td>6.3</td>\n",
       "      <td>8.9</td>\n",
       "      <td>Não existência de fumo, vidros fechados, AC li...</td>\n",
       "      <td>0</td>\n",
       "    </tr>\n",
       "  </tbody>\n",
       "</table>\n",
       "</div>"
      ],
      "text/plain": [
       "   sensor1.id sensor1.carId sensor1.carLocation    sensor1.timeValue  \\\n",
       "0         732      66-ZZ-66     41.5608 -8.3968  2020-11-25 12:50:36   \n",
       "1         731      66-ZZ-66     41.5608 -8.3968  2020-11-25 12:50:25   \n",
       "2         730      66-ZZ-66     41.5608 -8.3968  2020-11-25 12:50:14   \n",
       "3         729      66-ZZ-66     41.5608 -8.3968  2020-11-25 12:50:03   \n",
       "4         728      66-ZZ-66     41.5608 -8.3968  2020-11-25 12:49:52   \n",
       "\n",
       "   sensor1.pm25  sensor1.pm10  \\\n",
       "0           6.3          10.8   \n",
       "1           6.3          10.3   \n",
       "2           6.2           8.4   \n",
       "3           6.1           8.4   \n",
       "4           6.3           8.9   \n",
       "\n",
       "                                        sensor1.tags  sensor1.classification  \n",
       "0  Não existência de fumo, vidros fechados, AC li...                       0  \n",
       "1  Não existência de fumo, vidros fechados, AC li...                       0  \n",
       "2  Não existência de fumo, vidros fechados, AC li...                       0  \n",
       "3  Não existência de fumo, vidros fechados, AC li...                       0  \n",
       "4  Não existência de fumo, vidros fechados, AC li...                       0  "
      ]
     },
     "execution_count": 4,
     "metadata": {},
     "output_type": "execute_result"
    }
   ],
   "source": [
    "print('Number of elements:', dataSensor1.shape[0])\n",
    "dataSensor1.head()"
   ]
  },
  {
   "cell_type": "code",
   "execution_count": 5,
   "metadata": {},
   "outputs": [
    {
     "name": "stdout",
     "output_type": "stream",
     "text": [
      "Number of elements: 438\n"
     ]
    },
    {
     "data": {
      "text/html": [
       "<div>\n",
       "<style scoped>\n",
       "    .dataframe tbody tr th:only-of-type {\n",
       "        vertical-align: middle;\n",
       "    }\n",
       "\n",
       "    .dataframe tbody tr th {\n",
       "        vertical-align: top;\n",
       "    }\n",
       "\n",
       "    .dataframe thead th {\n",
       "        text-align: right;\n",
       "    }\n",
       "</style>\n",
       "<table border=\"1\" class=\"dataframe\">\n",
       "  <thead>\n",
       "    <tr style=\"text-align: right;\">\n",
       "      <th></th>\n",
       "      <th>sensor2.id</th>\n",
       "      <th>sensor2.carId</th>\n",
       "      <th>sensor2.carLocation</th>\n",
       "      <th>sensor2.timeValue</th>\n",
       "      <th>sensor2.temperature</th>\n",
       "      <th>sensor2.gas</th>\n",
       "      <th>sensor2.humidity</th>\n",
       "      <th>sensor2.pressure</th>\n",
       "      <th>sensor2.altitude</th>\n",
       "      <th>sensor2.tags</th>\n",
       "      <th>sensor2.classification</th>\n",
       "    </tr>\n",
       "  </thead>\n",
       "  <tbody>\n",
       "    <tr>\n",
       "      <th>0</th>\n",
       "      <td>732</td>\n",
       "      <td>66-ZZ-66</td>\n",
       "      <td>41.5608 -8.3968</td>\n",
       "      <td>2020-11-25 12:50:14</td>\n",
       "      <td>21.988203</td>\n",
       "      <td>56356</td>\n",
       "      <td>36.050692</td>\n",
       "      <td>974.004353</td>\n",
       "      <td>331.993571</td>\n",
       "      <td>Não existência de fumo, vidros fechados, AC li...</td>\n",
       "      <td>0</td>\n",
       "    </tr>\n",
       "    <tr>\n",
       "      <th>1</th>\n",
       "      <td>731</td>\n",
       "      <td>66-ZZ-66</td>\n",
       "      <td>41.5608 -8.3968</td>\n",
       "      <td>2020-11-25 12:50:03</td>\n",
       "      <td>21.978437</td>\n",
       "      <td>56176</td>\n",
       "      <td>36.341460</td>\n",
       "      <td>974.125433</td>\n",
       "      <td>330.952789</td>\n",
       "      <td>Não existência de fumo, vidros fechados, AC li...</td>\n",
       "      <td>0</td>\n",
       "    </tr>\n",
       "    <tr>\n",
       "      <th>2</th>\n",
       "      <td>730</td>\n",
       "      <td>66-ZZ-66</td>\n",
       "      <td>41.5608 -8.3968</td>\n",
       "      <td>2020-11-25 12:49:53</td>\n",
       "      <td>21.961445</td>\n",
       "      <td>56356</td>\n",
       "      <td>36.456648</td>\n",
       "      <td>974.275221</td>\n",
       "      <td>329.665380</td>\n",
       "      <td>Não existência de fumo, vidros fechados, AC li...</td>\n",
       "      <td>0</td>\n",
       "    </tr>\n",
       "    <tr>\n",
       "      <th>3</th>\n",
       "      <td>729</td>\n",
       "      <td>66-ZZ-66</td>\n",
       "      <td>41.5608 -8.3968</td>\n",
       "      <td>2020-11-25 12:49:42</td>\n",
       "      <td>21.942695</td>\n",
       "      <td>55609</td>\n",
       "      <td>36.864439</td>\n",
       "      <td>974.413624</td>\n",
       "      <td>328.475957</td>\n",
       "      <td>Não existência de fumo, vidros fechados, AC li...</td>\n",
       "      <td>0</td>\n",
       "    </tr>\n",
       "    <tr>\n",
       "      <th>4</th>\n",
       "      <td>728</td>\n",
       "      <td>66-ZZ-66</td>\n",
       "      <td>41.5608 -8.3968</td>\n",
       "      <td>2020-11-25 12:49:31</td>\n",
       "      <td>21.916328</td>\n",
       "      <td>55574</td>\n",
       "      <td>36.762279</td>\n",
       "      <td>974.576691</td>\n",
       "      <td>327.074761</td>\n",
       "      <td>Não existência de fumo, vidros fechados, AC li...</td>\n",
       "      <td>0</td>\n",
       "    </tr>\n",
       "  </tbody>\n",
       "</table>\n",
       "</div>"
      ],
      "text/plain": [
       "   sensor2.id sensor2.carId sensor2.carLocation    sensor2.timeValue  \\\n",
       "0         732      66-ZZ-66     41.5608 -8.3968  2020-11-25 12:50:14   \n",
       "1         731      66-ZZ-66     41.5608 -8.3968  2020-11-25 12:50:03   \n",
       "2         730      66-ZZ-66     41.5608 -8.3968  2020-11-25 12:49:53   \n",
       "3         729      66-ZZ-66     41.5608 -8.3968  2020-11-25 12:49:42   \n",
       "4         728      66-ZZ-66     41.5608 -8.3968  2020-11-25 12:49:31   \n",
       "\n",
       "   sensor2.temperature  sensor2.gas  sensor2.humidity  sensor2.pressure  \\\n",
       "0            21.988203        56356         36.050692        974.004353   \n",
       "1            21.978437        56176         36.341460        974.125433   \n",
       "2            21.961445        56356         36.456648        974.275221   \n",
       "3            21.942695        55609         36.864439        974.413624   \n",
       "4            21.916328        55574         36.762279        974.576691   \n",
       "\n",
       "   sensor2.altitude                                       sensor2.tags  \\\n",
       "0        331.993571  Não existência de fumo, vidros fechados, AC li...   \n",
       "1        330.952789  Não existência de fumo, vidros fechados, AC li...   \n",
       "2        329.665380  Não existência de fumo, vidros fechados, AC li...   \n",
       "3        328.475957  Não existência de fumo, vidros fechados, AC li...   \n",
       "4        327.074761  Não existência de fumo, vidros fechados, AC li...   \n",
       "\n",
       "   sensor2.classification  \n",
       "0                       0  \n",
       "1                       0  \n",
       "2                       0  \n",
       "3                       0  \n",
       "4                       0  "
      ]
     },
     "execution_count": 5,
     "metadata": {},
     "output_type": "execute_result"
    }
   ],
   "source": [
    "print('Number of elements:', dataSensor2.shape[0])\n",
    "dataSensor2.head()"
   ]
  },
  {
   "cell_type": "markdown",
   "metadata": {},
   "source": [
    "### Get Unified Data"
   ]
  },
  {
   "cell_type": "code",
   "execution_count": 6,
   "metadata": {},
   "outputs": [],
   "source": [
    "part1 = dataSensor1[['sensor1.pm25', 'sensor1.pm10']]\n",
    "part2 = dataSensor2[['sensor2.temperature', 'sensor2.gas', 'sensor2.humidity', 'sensor2.pressure', 'sensor2.altitude']]\n",
    "data = part1.join(part2)\n",
    "target = dataSensor1[['sensor1.classification']]"
   ]
  },
  {
   "cell_type": "code",
   "execution_count": 7,
   "metadata": {},
   "outputs": [
    {
     "data": {
      "text/html": [
       "<div>\n",
       "<style scoped>\n",
       "    .dataframe tbody tr th:only-of-type {\n",
       "        vertical-align: middle;\n",
       "    }\n",
       "\n",
       "    .dataframe tbody tr th {\n",
       "        vertical-align: top;\n",
       "    }\n",
       "\n",
       "    .dataframe thead th {\n",
       "        text-align: right;\n",
       "    }\n",
       "</style>\n",
       "<table border=\"1\" class=\"dataframe\">\n",
       "  <thead>\n",
       "    <tr style=\"text-align: right;\">\n",
       "      <th></th>\n",
       "      <th>sensor1.pm25</th>\n",
       "      <th>sensor1.pm10</th>\n",
       "      <th>sensor2.temperature</th>\n",
       "      <th>sensor2.gas</th>\n",
       "      <th>sensor2.humidity</th>\n",
       "      <th>sensor2.pressure</th>\n",
       "      <th>sensor2.altitude</th>\n",
       "    </tr>\n",
       "  </thead>\n",
       "  <tbody>\n",
       "    <tr>\n",
       "      <th>0</th>\n",
       "      <td>6.3</td>\n",
       "      <td>10.8</td>\n",
       "      <td>21.988203</td>\n",
       "      <td>56356</td>\n",
       "      <td>36.050692</td>\n",
       "      <td>974.004353</td>\n",
       "      <td>331.993571</td>\n",
       "    </tr>\n",
       "    <tr>\n",
       "      <th>1</th>\n",
       "      <td>6.3</td>\n",
       "      <td>10.3</td>\n",
       "      <td>21.978437</td>\n",
       "      <td>56176</td>\n",
       "      <td>36.341460</td>\n",
       "      <td>974.125433</td>\n",
       "      <td>330.952789</td>\n",
       "    </tr>\n",
       "    <tr>\n",
       "      <th>2</th>\n",
       "      <td>6.2</td>\n",
       "      <td>8.4</td>\n",
       "      <td>21.961445</td>\n",
       "      <td>56356</td>\n",
       "      <td>36.456648</td>\n",
       "      <td>974.275221</td>\n",
       "      <td>329.665380</td>\n",
       "    </tr>\n",
       "    <tr>\n",
       "      <th>3</th>\n",
       "      <td>6.1</td>\n",
       "      <td>8.4</td>\n",
       "      <td>21.942695</td>\n",
       "      <td>55609</td>\n",
       "      <td>36.864439</td>\n",
       "      <td>974.413624</td>\n",
       "      <td>328.475957</td>\n",
       "    </tr>\n",
       "    <tr>\n",
       "      <th>4</th>\n",
       "      <td>6.3</td>\n",
       "      <td>8.9</td>\n",
       "      <td>21.916328</td>\n",
       "      <td>55574</td>\n",
       "      <td>36.762279</td>\n",
       "      <td>974.576691</td>\n",
       "      <td>327.074761</td>\n",
       "    </tr>\n",
       "  </tbody>\n",
       "</table>\n",
       "</div>"
      ],
      "text/plain": [
       "   sensor1.pm25  sensor1.pm10  sensor2.temperature  sensor2.gas  \\\n",
       "0           6.3          10.8            21.988203        56356   \n",
       "1           6.3          10.3            21.978437        56176   \n",
       "2           6.2           8.4            21.961445        56356   \n",
       "3           6.1           8.4            21.942695        55609   \n",
       "4           6.3           8.9            21.916328        55574   \n",
       "\n",
       "   sensor2.humidity  sensor2.pressure  sensor2.altitude  \n",
       "0         36.050692        974.004353        331.993571  \n",
       "1         36.341460        974.125433        330.952789  \n",
       "2         36.456648        974.275221        329.665380  \n",
       "3         36.864439        974.413624        328.475957  \n",
       "4         36.762279        974.576691        327.074761  "
      ]
     },
     "execution_count": 7,
     "metadata": {},
     "output_type": "execute_result"
    }
   ],
   "source": [
    "data.head()"
   ]
  },
  {
   "cell_type": "code",
   "execution_count": 8,
   "metadata": {},
   "outputs": [
    {
     "data": {
      "text/html": [
       "<div>\n",
       "<style scoped>\n",
       "    .dataframe tbody tr th:only-of-type {\n",
       "        vertical-align: middle;\n",
       "    }\n",
       "\n",
       "    .dataframe tbody tr th {\n",
       "        vertical-align: top;\n",
       "    }\n",
       "\n",
       "    .dataframe thead th {\n",
       "        text-align: right;\n",
       "    }\n",
       "</style>\n",
       "<table border=\"1\" class=\"dataframe\">\n",
       "  <thead>\n",
       "    <tr style=\"text-align: right;\">\n",
       "      <th></th>\n",
       "      <th>sensor1.classification</th>\n",
       "    </tr>\n",
       "  </thead>\n",
       "  <tbody>\n",
       "    <tr>\n",
       "      <th>0</th>\n",
       "      <td>0</td>\n",
       "    </tr>\n",
       "    <tr>\n",
       "      <th>1</th>\n",
       "      <td>0</td>\n",
       "    </tr>\n",
       "    <tr>\n",
       "      <th>2</th>\n",
       "      <td>0</td>\n",
       "    </tr>\n",
       "    <tr>\n",
       "      <th>3</th>\n",
       "      <td>0</td>\n",
       "    </tr>\n",
       "    <tr>\n",
       "      <th>4</th>\n",
       "      <td>0</td>\n",
       "    </tr>\n",
       "  </tbody>\n",
       "</table>\n",
       "</div>"
      ],
      "text/plain": [
       "   sensor1.classification\n",
       "0                       0\n",
       "1                       0\n",
       "2                       0\n",
       "3                       0\n",
       "4                       0"
      ]
     },
     "execution_count": 8,
     "metadata": {},
     "output_type": "execute_result"
    }
   ],
   "source": [
    "target.head()"
   ]
  },
  {
   "cell_type": "markdown",
   "metadata": {},
   "source": [
    "### Add some random 1s in target column -> half 0 / half 1"
   ]
  },
  {
   "cell_type": "code",
   "execution_count": 9,
   "metadata": {},
   "outputs": [
    {
     "name": "stderr",
     "output_type": "stream",
     "text": [
      "/Users/tiagofontes/opt/anaconda3/lib/python3.8/site-packages/pandas/core/indexing.py:671: SettingWithCopyWarning: \n",
      "A value is trying to be set on a copy of a slice from a DataFrame\n",
      "\n",
      "See the caveats in the documentation: https://pandas.pydata.org/pandas-docs/stable/user_guide/indexing.html#returning-a-view-versus-a-copy\n",
      "  self._setitem_with_indexer(indexer, value)\n",
      "<ipython-input-9-e8437daa0b2c>:3: SettingWithCopyWarning: \n",
      "A value is trying to be set on a copy of a slice from a DataFrame\n",
      "\n",
      "See the caveats in the documentation: https://pandas.pydata.org/pandas-docs/stable/user_guide/indexing.html#returning-a-view-versus-a-copy\n",
      "  target.iloc[index]=1\n"
     ]
    }
   ],
   "source": [
    "for index, row in target.iterrows():\n",
    "    if((index %2) == 0):\n",
    "        target.iloc[index]=1"
   ]
  },
  {
   "cell_type": "code",
   "execution_count": 10,
   "metadata": {},
   "outputs": [
    {
     "name": "stdout",
     "output_type": "stream",
     "text": [
      "     sensor1.classification\n",
      "0                         1\n",
      "1                         0\n",
      "2                         1\n",
      "3                         0\n",
      "4                         1\n",
      "..                      ...\n",
      "433                       0\n",
      "434                       1\n",
      "435                       0\n",
      "436                       1\n",
      "437                       0\n",
      "\n",
      "[438 rows x 1 columns]\n"
     ]
    }
   ],
   "source": [
    "target.head()\n",
    "print(target)"
   ]
  },
  {
   "cell_type": "markdown",
   "metadata": {},
   "source": [
    "### Simple Example with SVM"
   ]
  },
  {
   "cell_type": "code",
   "execution_count": 11,
   "metadata": {},
   "outputs": [],
   "source": [
    "x_train,x_test, y_train, y_test = train_test_split(data, target, train_size=0.8,test_size=0.2, random_state=109)"
   ]
  },
  {
   "cell_type": "code",
   "execution_count": 12,
   "metadata": {},
   "outputs": [
    {
     "name": "stderr",
     "output_type": "stream",
     "text": [
      "/Users/tiagofontes/opt/anaconda3/lib/python3.8/site-packages/sklearn/utils/validation.py:73: DataConversionWarning: A column-vector y was passed when a 1d array was expected. Please change the shape of y to (n_samples, ), for example using ravel().\n",
      "  return f(**kwargs)\n"
     ]
    }
   ],
   "source": [
    "clf = svm.SVC(kernel='linear') # Linear Kernel\n",
    "\n",
    "#Train the model using the training sets\n",
    "clf.fit(x_train, y_train)\n",
    "\n",
    "#Predict the response for test dataset\n",
    "y_pred = clf.predict(x_test)"
   ]
  },
  {
   "cell_type": "code",
   "execution_count": 13,
   "metadata": {},
   "outputs": [
    {
     "name": "stdout",
     "output_type": "stream",
     "text": [
      "Accuracy: 0.5113636363636364\n"
     ]
    }
   ],
   "source": [
    "from sklearn import metrics\n",
    "\n",
    "# Model Accuracy: how often is the classifier correct?\n",
    "print(\"Accuracy:\",metrics.accuracy_score(y_test, y_pred))"
   ]
  },
  {
   "cell_type": "markdown",
   "metadata": {},
   "source": [
    "## Save model trained"
   ]
  },
  {
   "cell_type": "code",
   "execution_count": 14,
   "metadata": {},
   "outputs": [],
   "source": [
    "import pickle"
   ]
  },
  {
   "cell_type": "code",
   "execution_count": 15,
   "metadata": {},
   "outputs": [],
   "source": [
    "# save the model to disk\n",
    "filename = 'model_saves/svm_test.sav'\n",
    "pickle.dump(clf, open(filename, 'wb'))"
   ]
  },
  {
   "cell_type": "code",
   "execution_count": 16,
   "metadata": {},
   "outputs": [
    {
     "name": "stdout",
     "output_type": "stream",
     "text": [
      "0.5113636363636364\n"
     ]
    }
   ],
   "source": [
    "# load the model from disk\n",
    "loaded_model = pickle.load(open(filename, 'rb'))\n",
    "result = loaded_model.score(x_test, y_test)\n",
    "print(result)"
   ]
  },
  {
   "cell_type": "code",
   "execution_count": null,
   "metadata": {},
   "outputs": [],
   "source": []
  }
 ],
 "metadata": {
  "kernelspec": {
   "display_name": "Python 3",
   "language": "python",
   "name": "python3"
  },
  "language_info": {
   "codemirror_mode": {
    "name": "ipython",
    "version": 3
   },
   "file_extension": ".py",
   "mimetype": "text/x-python",
   "name": "python",
   "nbconvert_exporter": "python",
   "pygments_lexer": "ipython3",
   "version": "3.8.3"
  }
 },
 "nbformat": 4,
 "nbformat_minor": 2
}
