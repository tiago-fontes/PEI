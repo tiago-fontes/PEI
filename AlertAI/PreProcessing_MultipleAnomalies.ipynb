{
 "cells": [
  {
   "cell_type": "code",
   "execution_count": 41,
   "metadata": {},
   "outputs": [],
   "source": [
    "import pandas as pd"
   ]
  },
  {
   "cell_type": "code",
   "execution_count": 42,
   "metadata": {},
   "outputs": [],
   "source": [
    "data = pd.read_csv('data/raw_data_06_01.csv')"
   ]
  },
  {
   "cell_type": "code",
   "execution_count": 43,
   "metadata": {},
   "outputs": [
    {
     "data": {
      "text/html": [
       "<div>\n",
       "<style scoped>\n",
       "    .dataframe tbody tr th:only-of-type {\n",
       "        vertical-align: middle;\n",
       "    }\n",
       "\n",
       "    .dataframe tbody tr th {\n",
       "        vertical-align: top;\n",
       "    }\n",
       "\n",
       "    .dataframe thead th {\n",
       "        text-align: right;\n",
       "    }\n",
       "</style>\n",
       "<table border=\"1\" class=\"dataframe\">\n",
       "  <thead>\n",
       "    <tr style=\"text-align: right;\">\n",
       "      <th></th>\n",
       "      <th>sensors.id</th>\n",
       "      <th>sensors.pm25</th>\n",
       "      <th>sensors.pm10</th>\n",
       "      <th>sensors.temperature</th>\n",
       "      <th>sensors.gas</th>\n",
       "      <th>sensors.humidity</th>\n",
       "      <th>sensors.pressure</th>\n",
       "      <th>sensors.altitude</th>\n",
       "      <th>sensors.classification</th>\n",
       "    </tr>\n",
       "  </thead>\n",
       "  <tbody>\n",
       "    <tr>\n",
       "      <th>count</th>\n",
       "      <td>9485.000000</td>\n",
       "      <td>9485.000000</td>\n",
       "      <td>9485.000000</td>\n",
       "      <td>9485.000000</td>\n",
       "      <td>9485.000000</td>\n",
       "      <td>9485.000000</td>\n",
       "      <td>9485.000000</td>\n",
       "      <td>9485.000000</td>\n",
       "      <td>9485.000000</td>\n",
       "    </tr>\n",
       "    <tr>\n",
       "      <th>mean</th>\n",
       "      <td>4988.355825</td>\n",
       "      <td>40.388614</td>\n",
       "      <td>82.556584</td>\n",
       "      <td>19.604423</td>\n",
       "      <td>92053.602319</td>\n",
       "      <td>56.085765</td>\n",
       "      <td>996.444239</td>\n",
       "      <td>141.361924</td>\n",
       "      <td>0.099736</td>\n",
       "    </tr>\n",
       "    <tr>\n",
       "      <th>std</th>\n",
       "      <td>2801.448560</td>\n",
       "      <td>142.099019</td>\n",
       "      <td>300.959419</td>\n",
       "      <td>3.837361</td>\n",
       "      <td>50388.143344</td>\n",
       "      <td>11.695782</td>\n",
       "      <td>11.987413</td>\n",
       "      <td>101.270944</td>\n",
       "      <td>0.405265</td>\n",
       "    </tr>\n",
       "    <tr>\n",
       "      <th>min</th>\n",
       "      <td>1.000000</td>\n",
       "      <td>0.000000</td>\n",
       "      <td>0.000000</td>\n",
       "      <td>10.512617</td>\n",
       "      <td>2971.000000</td>\n",
       "      <td>25.600421</td>\n",
       "      <td>955.262052</td>\n",
       "      <td>-81.183173</td>\n",
       "      <td>0.000000</td>\n",
       "    </tr>\n",
       "    <tr>\n",
       "      <th>25%</th>\n",
       "      <td>2612.000000</td>\n",
       "      <td>2.500000</td>\n",
       "      <td>5.800000</td>\n",
       "      <td>16.299141</td>\n",
       "      <td>51971.000000</td>\n",
       "      <td>49.847224</td>\n",
       "      <td>992.206784</td>\n",
       "      <td>86.572040</td>\n",
       "      <td>0.000000</td>\n",
       "    </tr>\n",
       "    <tr>\n",
       "      <th>50%</th>\n",
       "      <td>5036.000000</td>\n",
       "      <td>4.500000</td>\n",
       "      <td>9.500000</td>\n",
       "      <td>20.454805</td>\n",
       "      <td>80348.000000</td>\n",
       "      <td>53.208717</td>\n",
       "      <td>995.069364</td>\n",
       "      <td>152.477830</td>\n",
       "      <td>0.000000</td>\n",
       "    </tr>\n",
       "    <tr>\n",
       "      <th>75%</th>\n",
       "      <td>7407.000000</td>\n",
       "      <td>7.100000</td>\n",
       "      <td>14.800000</td>\n",
       "      <td>22.644063</td>\n",
       "      <td>137968.000000</td>\n",
       "      <td>66.340595</td>\n",
       "      <td>1002.894920</td>\n",
       "      <td>176.690952</td>\n",
       "      <td>0.000000</td>\n",
       "    </tr>\n",
       "    <tr>\n",
       "      <th>max</th>\n",
       "      <td>9799.000000</td>\n",
       "      <td>999.900000</td>\n",
       "      <td>1999.900000</td>\n",
       "      <td>27.949531</td>\n",
       "      <td>404575.000000</td>\n",
       "      <td>88.338576</td>\n",
       "      <td>1023.038997</td>\n",
       "      <td>494.377666</td>\n",
       "      <td>4.000000</td>\n",
       "    </tr>\n",
       "  </tbody>\n",
       "</table>\n",
       "</div>"
      ],
      "text/plain": [
       "        sensors.id  sensors.pm25  sensors.pm10  sensors.temperature  \\\n",
       "count  9485.000000   9485.000000   9485.000000          9485.000000   \n",
       "mean   4988.355825     40.388614     82.556584            19.604423   \n",
       "std    2801.448560    142.099019    300.959419             3.837361   \n",
       "min       1.000000      0.000000      0.000000            10.512617   \n",
       "25%    2612.000000      2.500000      5.800000            16.299141   \n",
       "50%    5036.000000      4.500000      9.500000            20.454805   \n",
       "75%    7407.000000      7.100000     14.800000            22.644063   \n",
       "max    9799.000000    999.900000   1999.900000            27.949531   \n",
       "\n",
       "         sensors.gas  sensors.humidity  sensors.pressure  sensors.altitude  \\\n",
       "count    9485.000000       9485.000000       9485.000000       9485.000000   \n",
       "mean    92053.602319         56.085765        996.444239        141.361924   \n",
       "std     50388.143344         11.695782         11.987413        101.270944   \n",
       "min      2971.000000         25.600421        955.262052        -81.183173   \n",
       "25%     51971.000000         49.847224        992.206784         86.572040   \n",
       "50%     80348.000000         53.208717        995.069364        152.477830   \n",
       "75%    137968.000000         66.340595       1002.894920        176.690952   \n",
       "max    404575.000000         88.338576       1023.038997        494.377666   \n",
       "\n",
       "       sensors.classification  \n",
       "count             9485.000000  \n",
       "mean                 0.099736  \n",
       "std                  0.405265  \n",
       "min                  0.000000  \n",
       "25%                  0.000000  \n",
       "50%                  0.000000  \n",
       "75%                  0.000000  \n",
       "max                  4.000000  "
      ]
     },
     "execution_count": 43,
     "metadata": {},
     "output_type": "execute_result"
    }
   ],
   "source": [
    "data.describe()"
   ]
  },
  {
   "cell_type": "code",
   "execution_count": null,
   "metadata": {},
   "outputs": [],
   "source": []
  },
  {
   "cell_type": "code",
   "execution_count": 44,
   "metadata": {},
   "outputs": [],
   "source": [
    "ones = data[data['sensors.classification']==1]\n",
    "#print(ones)"
   ]
  },
  {
   "cell_type": "code",
   "execution_count": 46,
   "metadata": {},
   "outputs": [
    {
     "name": "stderr",
     "output_type": "stream",
     "text": [
      "/Users/tiagofontes/opt/anaconda3/lib/python3.8/site-packages/pandas/core/series.py:4576: SettingWithCopyWarning: \n",
      "A value is trying to be set on a copy of a slice from a DataFrame\n",
      "\n",
      "See the caveats in the documentation: https://pandas.pydata.org/pandas-docs/stable/user_guide/indexing.html#returning-a-view-versus-a-copy\n",
      "  return super().replace(\n"
     ]
    },
    {
     "data": {
      "text/plain": [
       "(65, 13)"
      ]
     },
     "execution_count": 46,
     "metadata": {},
     "output_type": "execute_result"
    }
   ],
   "source": [
    "spray = data[data['sensors.classification']==2]\n",
    "#print(spray)\n",
    "#df['column name'] = df['column name'].replace(['old value'],'new value')\n",
    "spray['sensors.classification'].replace([2], [1], inplace=True)\n",
    "spray_with_1 = spray\n",
    "spray_with_1.shape"
   ]
  },
  {
   "cell_type": "code",
   "execution_count": 47,
   "metadata": {},
   "outputs": [
    {
     "name": "stdout",
     "output_type": "stream",
     "text": [
      "(8774, 13)\n",
      "(8716, 13)\n"
     ]
    }
   ],
   "source": [
    "zeros = data[data['sensors.classification']==0]\n",
    "print(zeros.shape)\n",
    "zeros = zeros[(zeros['sensors.pm25']<=30) & (zeros['sensors.classification']==0)]\n",
    "print(zeros.shape)"
   ]
  },
  {
   "cell_type": "code",
   "execution_count": null,
   "metadata": {},
   "outputs": [],
   "source": []
  },
  {
   "cell_type": "code",
   "execution_count": 48,
   "metadata": {},
   "outputs": [
    {
     "name": "stdout",
     "output_type": "stream",
     "text": [
      "(637, 13)\n",
      "(618, 13)\n"
     ]
    }
   ],
   "source": [
    "all_1 = ones.append(spray_with_1)\n",
    "print(all_1.shape)\n",
    "all_1 = all_1[(all_1['sensors.pm25']>=90) & (all_1['sensors.classification']==1)]\n",
    "print(all_1.shape)"
   ]
  },
  {
   "cell_type": "code",
   "execution_count": 49,
   "metadata": {},
   "outputs": [
    {
     "name": "stdout",
     "output_type": "stream",
     "text": [
      "(9334, 13)\n"
     ]
    }
   ],
   "source": [
    "final = zeros.append(all_1)\n",
    "print(final.shape)"
   ]
  },
  {
   "cell_type": "code",
   "execution_count": 50,
   "metadata": {},
   "outputs": [],
   "source": [
    "final.to_csv(\"data/clean_spray_with_1.csv\",index=False)"
   ]
  },
  {
   "cell_type": "code",
   "execution_count": 59,
   "metadata": {},
   "outputs": [
    {
     "data": {
      "text/plain": [
       "(22, 13)"
      ]
     },
     "execution_count": 59,
     "metadata": {},
     "output_type": "execute_result"
    }
   ],
   "source": [
    "perfume = data[data['sensors.classification']==4]\n",
    "perfume.shape"
   ]
  },
  {
   "cell_type": "code",
   "execution_count": 60,
   "metadata": {},
   "outputs": [
    {
     "name": "stderr",
     "output_type": "stream",
     "text": [
      "/Users/tiagofontes/opt/anaconda3/lib/python3.8/site-packages/pandas/core/series.py:4576: SettingWithCopyWarning: \n",
      "A value is trying to be set on a copy of a slice from a DataFrame\n",
      "\n",
      "See the caveats in the documentation: https://pandas.pydata.org/pandas-docs/stable/user_guide/indexing.html#returning-a-view-versus-a-copy\n",
      "  return super().replace(\n"
     ]
    }
   ],
   "source": [
    "perfume['sensors.classification'].replace([4], [2], inplace=True)\n",
    "perfume_2 = perfume"
   ]
  },
  {
   "cell_type": "code",
   "execution_count": 61,
   "metadata": {},
   "outputs": [
    {
     "name": "stdout",
     "output_type": "stream",
     "text": [
      "(22, 13)\n"
     ]
    }
   ],
   "source": [
    "print(perfume_2.shape)"
   ]
  },
  {
   "cell_type": "code",
   "execution_count": 64,
   "metadata": {},
   "outputs": [
    {
     "data": {
      "text/plain": [
       "(9356, 13)"
      ]
     },
     "execution_count": 64,
     "metadata": {},
     "output_type": "execute_result"
    }
   ],
   "source": [
    "final = final.append(perfume_2)\n",
    "final.shape"
   ]
  },
  {
   "cell_type": "code",
   "execution_count": 65,
   "metadata": {},
   "outputs": [],
   "source": [
    "final.to_csv(\"data/clean_data_with_perf.csv\",index=False)"
   ]
  },
  {
   "cell_type": "code",
   "execution_count": null,
   "metadata": {},
   "outputs": [],
   "source": [
    "data[(data['sensors.pm25']<=90) & (data['sensors.classification']==1)]\n",
    "data = data.drop(['Unnamed: 0','sensors.classification'],axis=1)\n",
    "data = data.drop(['sensors.temperature','sensors.humidity','sensors.pressure'],axis=1)\n",
    "data = data.drop(['sensors.gas'],axis=1)"
   ]
  },
  {
   "cell_type": "code",
   "execution_count": null,
   "metadata": {},
   "outputs": [],
   "source": []
  },
  {
   "cell_type": "code",
   "execution_count": null,
   "metadata": {},
   "outputs": [],
   "source": []
  },
  {
   "cell_type": "code",
   "execution_count": null,
   "metadata": {},
   "outputs": [],
   "source": []
  },
  {
   "cell_type": "code",
   "execution_count": null,
   "metadata": {},
   "outputs": [],
   "source": []
  },
  {
   "cell_type": "code",
   "execution_count": null,
   "metadata": {},
   "outputs": [],
   "source": []
  },
  {
   "cell_type": "code",
   "execution_count": null,
   "metadata": {},
   "outputs": [],
   "source": []
  },
  {
   "cell_type": "code",
   "execution_count": null,
   "metadata": {},
   "outputs": [],
   "source": []
  }
 ],
 "metadata": {
  "kernelspec": {
   "display_name": "Python 3",
   "language": "python",
   "name": "python3"
  },
  "language_info": {
   "codemirror_mode": {
    "name": "ipython",
    "version": 3
   },
   "file_extension": ".py",
   "mimetype": "text/x-python",
   "name": "python",
   "nbconvert_exporter": "python",
   "pygments_lexer": "ipython3",
   "version": "3.8.5"
  }
 },
 "nbformat": 4,
 "nbformat_minor": 4
}
