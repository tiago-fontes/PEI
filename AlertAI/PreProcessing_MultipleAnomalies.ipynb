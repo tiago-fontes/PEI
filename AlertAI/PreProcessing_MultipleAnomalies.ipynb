{
 "cells": [
  {
   "cell_type": "code",
   "execution_count": 1,
   "metadata": {},
   "outputs": [],
   "source": [
    "import pandas as pd"
   ]
  },
  {
   "cell_type": "code",
   "execution_count": 17,
   "metadata": {},
   "outputs": [
    {
     "data": {
      "text/plain": [
       "(9918, 13)"
      ]
     },
     "execution_count": 17,
     "metadata": {},
     "output_type": "execute_result"
    }
   ],
   "source": [
    "data = pd.read_csv('data/raw_data_com_lixo.csv')\n",
    "data.shape"
   ]
  },
  {
   "cell_type": "code",
   "execution_count": 18,
   "metadata": {},
   "outputs": [
    {
     "data": {
      "text/html": [
       "<div>\n",
       "<style scoped>\n",
       "    .dataframe tbody tr th:only-of-type {\n",
       "        vertical-align: middle;\n",
       "    }\n",
       "\n",
       "    .dataframe tbody tr th {\n",
       "        vertical-align: top;\n",
       "    }\n",
       "\n",
       "    .dataframe thead th {\n",
       "        text-align: right;\n",
       "    }\n",
       "</style>\n",
       "<table border=\"1\" class=\"dataframe\">\n",
       "  <thead>\n",
       "    <tr style=\"text-align: right;\">\n",
       "      <th></th>\n",
       "      <th>sensors.id</th>\n",
       "      <th>sensors.pm25</th>\n",
       "      <th>sensors.pm10</th>\n",
       "      <th>sensors.temperature</th>\n",
       "      <th>sensors.gas</th>\n",
       "      <th>sensors.humidity</th>\n",
       "      <th>sensors.pressure</th>\n",
       "      <th>sensors.altitude</th>\n",
       "      <th>sensors.classification</th>\n",
       "    </tr>\n",
       "  </thead>\n",
       "  <tbody>\n",
       "    <tr>\n",
       "      <th>count</th>\n",
       "      <td>9918.000000</td>\n",
       "      <td>9918.000000</td>\n",
       "      <td>9918.000000</td>\n",
       "      <td>9918.000000</td>\n",
       "      <td>9918.000000</td>\n",
       "      <td>9918.000000</td>\n",
       "      <td>9918.000000</td>\n",
       "      <td>9918.000000</td>\n",
       "      <td>9918.000000</td>\n",
       "    </tr>\n",
       "    <tr>\n",
       "      <th>mean</th>\n",
       "      <td>5209.288667</td>\n",
       "      <td>40.138163</td>\n",
       "      <td>81.300252</td>\n",
       "      <td>19.048201</td>\n",
       "      <td>90691.783827</td>\n",
       "      <td>56.172711</td>\n",
       "      <td>996.074862</td>\n",
       "      <td>144.468503</td>\n",
       "      <td>0.312160</td>\n",
       "    </tr>\n",
       "    <tr>\n",
       "      <th>std</th>\n",
       "      <td>2928.395354</td>\n",
       "      <td>138.980839</td>\n",
       "      <td>294.389577</td>\n",
       "      <td>4.583943</td>\n",
       "      <td>49808.215782</td>\n",
       "      <td>11.491755</td>\n",
       "      <td>11.850805</td>\n",
       "      <td>100.107595</td>\n",
       "      <td>1.073837</td>\n",
       "    </tr>\n",
       "    <tr>\n",
       "      <th>min</th>\n",
       "      <td>1.000000</td>\n",
       "      <td>0.000000</td>\n",
       "      <td>0.000000</td>\n",
       "      <td>5.480391</td>\n",
       "      <td>2971.000000</td>\n",
       "      <td>25.600421</td>\n",
       "      <td>955.262052</td>\n",
       "      <td>-81.183173</td>\n",
       "      <td>0.000000</td>\n",
       "    </tr>\n",
       "    <tr>\n",
       "      <th>25%</th>\n",
       "      <td>2720.250000</td>\n",
       "      <td>2.500000</td>\n",
       "      <td>6.100000</td>\n",
       "      <td>14.996113</td>\n",
       "      <td>52000.000000</td>\n",
       "      <td>50.119175</td>\n",
       "      <td>990.410531</td>\n",
       "      <td>93.733384</td>\n",
       "      <td>0.000000</td>\n",
       "    </tr>\n",
       "    <tr>\n",
       "      <th>50%</th>\n",
       "      <td>5252.500000</td>\n",
       "      <td>4.600000</td>\n",
       "      <td>9.900000</td>\n",
       "      <td>20.417305</td>\n",
       "      <td>72817.000000</td>\n",
       "      <td>54.247614</td>\n",
       "      <td>994.789756</td>\n",
       "      <td>154.840408</td>\n",
       "      <td>0.000000</td>\n",
       "    </tr>\n",
       "    <tr>\n",
       "      <th>75%</th>\n",
       "      <td>7731.750000</td>\n",
       "      <td>7.900000</td>\n",
       "      <td>15.700000</td>\n",
       "      <td>22.562959</td>\n",
       "      <td>136900.000000</td>\n",
       "      <td>65.725348</td>\n",
       "      <td>1002.042187</td>\n",
       "      <td>191.913448</td>\n",
       "      <td>0.000000</td>\n",
       "    </tr>\n",
       "    <tr>\n",
       "      <th>max</th>\n",
       "      <td>10267.000000</td>\n",
       "      <td>999.900000</td>\n",
       "      <td>1999.900000</td>\n",
       "      <td>27.949531</td>\n",
       "      <td>404575.000000</td>\n",
       "      <td>88.338576</td>\n",
       "      <td>1023.038997</td>\n",
       "      <td>494.377666</td>\n",
       "      <td>5.000000</td>\n",
       "    </tr>\n",
       "  </tbody>\n",
       "</table>\n",
       "</div>"
      ],
      "text/plain": [
       "         sensors.id  sensors.pm25  sensors.pm10  sensors.temperature  \\\n",
       "count   9918.000000   9918.000000   9918.000000          9918.000000   \n",
       "mean    5209.288667     40.138163     81.300252            19.048201   \n",
       "std     2928.395354    138.980839    294.389577             4.583943   \n",
       "min        1.000000      0.000000      0.000000             5.480391   \n",
       "25%     2720.250000      2.500000      6.100000            14.996113   \n",
       "50%     5252.500000      4.600000      9.900000            20.417305   \n",
       "75%     7731.750000      7.900000     15.700000            22.562959   \n",
       "max    10267.000000    999.900000   1999.900000            27.949531   \n",
       "\n",
       "         sensors.gas  sensors.humidity  sensors.pressure  sensors.altitude  \\\n",
       "count    9918.000000       9918.000000       9918.000000       9918.000000   \n",
       "mean    90691.783827         56.172711        996.074862        144.468503   \n",
       "std     49808.215782         11.491755         11.850805        100.107595   \n",
       "min      2971.000000         25.600421        955.262052        -81.183173   \n",
       "25%     52000.000000         50.119175        990.410531         93.733384   \n",
       "50%     72817.000000         54.247614        994.789756        154.840408   \n",
       "75%    136900.000000         65.725348       1002.042187        191.913448   \n",
       "max    404575.000000         88.338576       1023.038997        494.377666   \n",
       "\n",
       "       sensors.classification  \n",
       "count             9918.000000  \n",
       "mean                 0.312160  \n",
       "std                  1.073837  \n",
       "min                  0.000000  \n",
       "25%                  0.000000  \n",
       "50%                  0.000000  \n",
       "75%                  0.000000  \n",
       "max                  5.000000  "
      ]
     },
     "execution_count": 18,
     "metadata": {},
     "output_type": "execute_result"
    }
   ],
   "source": [
    "data.describe()"
   ]
  },
  {
   "cell_type": "code",
   "execution_count": 19,
   "metadata": {},
   "outputs": [
    {
     "data": {
      "text/plain": [
       "(572, 13)"
      ]
     },
     "execution_count": 19,
     "metadata": {},
     "output_type": "execute_result"
    }
   ],
   "source": [
    "ones = data[data['sensors.classification']==1]\n",
    "ones.shape\n",
    "#print(ones)"
   ]
  },
  {
   "cell_type": "code",
   "execution_count": 20,
   "metadata": {},
   "outputs": [
    {
     "name": "stderr",
     "output_type": "stream",
     "text": [
      "/Users/tiagofontes/opt/anaconda3/lib/python3.8/site-packages/pandas/core/series.py:4576: SettingWithCopyWarning: \n",
      "A value is trying to be set on a copy of a slice from a DataFrame\n",
      "\n",
      "See the caveats in the documentation: https://pandas.pydata.org/pandas-docs/stable/user_guide/indexing.html#returning-a-view-versus-a-copy\n",
      "  return super().replace(\n"
     ]
    },
    {
     "data": {
      "text/plain": [
       "(65, 13)"
      ]
     },
     "execution_count": 20,
     "metadata": {},
     "output_type": "execute_result"
    }
   ],
   "source": [
    "spray = data[data['sensors.classification']==2]\n",
    "#print(spray)\n",
    "#df['column name'] = df['column name'].replace(['old value'],'new value')\n",
    "spray['sensors.classification'].replace([2], [1], inplace=True)\n",
    "spray_with_1 = spray\n",
    "spray_with_1.shape"
   ]
  },
  {
   "cell_type": "code",
   "execution_count": 21,
   "metadata": {},
   "outputs": [
    {
     "name": "stdout",
     "output_type": "stream",
     "text": [
      "(8777, 13)\n",
      "(8584, 13)\n"
     ]
    }
   ],
   "source": [
    "zeros = data[data['sensors.classification']==0]\n",
    "print(zeros.shape)\n",
    "zeros = zeros[(zeros['sensors.pm25']<=30) & (zeros['sensors.classification']==0) & (zeros['sensors.pm25']>=0.8)]\n",
    "print(zeros.shape)"
   ]
  },
  {
   "cell_type": "code",
   "execution_count": null,
   "metadata": {},
   "outputs": [],
   "source": []
  },
  {
   "cell_type": "code",
   "execution_count": 22,
   "metadata": {},
   "outputs": [
    {
     "name": "stdout",
     "output_type": "stream",
     "text": [
      "(637, 13)\n",
      "(618, 13)\n"
     ]
    }
   ],
   "source": [
    "all_1 = ones.append(spray_with_1)\n",
    "print(all_1.shape)\n",
    "all_1 = all_1[(all_1['sensors.pm25']>=90) & (all_1['sensors.classification']==1)]\n",
    "print(all_1.shape)"
   ]
  },
  {
   "cell_type": "code",
   "execution_count": 23,
   "metadata": {},
   "outputs": [
    {
     "name": "stdout",
     "output_type": "stream",
     "text": [
      "(9202, 13)\n"
     ]
    }
   ],
   "source": [
    "final = zeros.append(all_1)\n",
    "print(final.shape)"
   ]
  },
  {
   "cell_type": "code",
   "execution_count": 50,
   "metadata": {},
   "outputs": [],
   "source": [
    "final.to_csv(\"data/clean_spray_with_1.csv\",index=False)"
   ]
  },
  {
   "cell_type": "code",
   "execution_count": 24,
   "metadata": {},
   "outputs": [
    {
     "data": {
      "text/plain": [
       "(22, 13)"
      ]
     },
     "execution_count": 24,
     "metadata": {},
     "output_type": "execute_result"
    }
   ],
   "source": [
    "perfume = data[data['sensors.classification']==4]\n",
    "perfume.shape"
   ]
  },
  {
   "cell_type": "code",
   "execution_count": 27,
   "metadata": {},
   "outputs": [
    {
     "name": "stderr",
     "output_type": "stream",
     "text": [
      "/Users/tiagofontes/opt/anaconda3/lib/python3.8/site-packages/pandas/core/series.py:4576: SettingWithCopyWarning: \n",
      "A value is trying to be set on a copy of a slice from a DataFrame\n",
      "\n",
      "See the caveats in the documentation: https://pandas.pydata.org/pandas-docs/stable/user_guide/indexing.html#returning-a-view-versus-a-copy\n",
      "  return super().replace(\n"
     ]
    }
   ],
   "source": [
    "perfume['sensors.classification'].replace([4], [2], inplace=True)\n",
    "perfume_2 = perfume"
   ]
  },
  {
   "cell_type": "code",
   "execution_count": 28,
   "metadata": {},
   "outputs": [
    {
     "name": "stdout",
     "output_type": "stream",
     "text": [
      "(22, 13)\n"
     ]
    }
   ],
   "source": [
    "print(perfume_2.shape)"
   ]
  },
  {
   "cell_type": "code",
   "execution_count": 29,
   "metadata": {},
   "outputs": [
    {
     "data": {
      "text/plain": [
       "(430, 13)"
      ]
     },
     "execution_count": 29,
     "metadata": {},
     "output_type": "execute_result"
    }
   ],
   "source": [
    "lixo = data[data['sensors.classification']==5]\n",
    "lixo.shape"
   ]
  },
  {
   "cell_type": "code",
   "execution_count": 30,
   "metadata": {},
   "outputs": [
    {
     "data": {
      "text/plain": [
       "(9224, 13)"
      ]
     },
     "execution_count": 30,
     "metadata": {},
     "output_type": "execute_result"
    }
   ],
   "source": [
    "final = final.append(perfume_2)\n",
    "final.shape"
   ]
  },
  {
   "cell_type": "code",
   "execution_count": 32,
   "metadata": {},
   "outputs": [
    {
     "data": {
      "text/plain": [
       "(10084, 13)"
      ]
     },
     "execution_count": 32,
     "metadata": {},
     "output_type": "execute_result"
    }
   ],
   "source": [
    "final = final.append(lixo)\n",
    "final.shape"
   ]
  },
  {
   "cell_type": "code",
   "execution_count": 33,
   "metadata": {},
   "outputs": [],
   "source": [
    "final.to_csv(\"data/clean_data_with_lixo.csv\",index=False)"
   ]
  },
  {
   "cell_type": "code",
   "execution_count": null,
   "metadata": {},
   "outputs": [],
   "source": [
    "data[(data['sensors.pm25']<=90) & (data['sensors.classification']==1)]\n",
    "data = data.drop(['Unnamed: 0','sensors.classification'],axis=1)\n",
    "data = data.drop(['sensors.temperature','sensors.humidity','sensors.pressure'],axis=1)\n",
    "data = data.drop(['sensors.gas'],axis=1)"
   ]
  }
 ],
 "metadata": {
  "kernelspec": {
   "display_name": "Python 3",
   "language": "python",
   "name": "python3"
  },
  "language_info": {
   "codemirror_mode": {
    "name": "ipython",
    "version": 3
   },
   "file_extension": ".py",
   "mimetype": "text/x-python",
   "name": "python",
   "nbconvert_exporter": "python",
   "pygments_lexer": "ipython3",
   "version": "3.8.5"
  }
 },
 "nbformat": 4,
 "nbformat_minor": 4
}
