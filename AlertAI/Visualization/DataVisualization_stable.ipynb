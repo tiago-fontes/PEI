{
 "cells": [
  {
   "cell_type": "markdown",
   "metadata": {},
   "source": [
    "# AlertAI - Data Visualization\n",
    "This notebook is responsible showing the data and its features with the goal of improve the knowledge and understanding of the problem that we face.\n",
    "This work is integrated whitin the pipeline of AlertAI component in RideCare Project.\n",
    "\n",
    "#### by PEILoad"
   ]
  },
  {
   "cell_type": "markdown",
   "metadata": {},
   "source": [
    "### The steps of this task are:\n",
    "1. Import Required Libraries \n",
    "2. Acquire the Data\n",
    "3. Data Visualization\n"
   ]
  },
  {
   "cell_type": "markdown",
   "metadata": {},
   "source": [
    "## 1. Import Libraries\n",
    "This section, as name says, is destined to import the libraries that will be used in the file."
   ]
  },
  {
   "cell_type": "code",
   "execution_count": 3,
   "metadata": {},
   "outputs": [],
   "source": [
    "import seaborn as sns\n",
    "import pandas as pd\n",
    "import numpy as np\n",
    "from matplotlib import pyplot as plt\n",
    "from sklearn.feature_selection import SelectKBest, chi2, f_classif"
   ]
  },
  {
   "cell_type": "markdown",
   "metadata": {},
   "source": [
    "## 2. Data Acquisition\n",
    "Step corresponding to gather the Data in order to manipulate it later on."
   ]
  },
  {
   "cell_type": "code",
   "execution_count": 6,
   "metadata": {},
   "outputs": [],
   "source": [
    "path = r\"C:\\Users\\JCost\\OneDrive\\Ambiente de Trabalho\\Code\\PEI\\AlertAI\\data\"\n",
    "#rawData = pd.read_csv( path + r'\\raw_data.csv')\n",
    "#stdData = pd.read_csv( path + r'\\standarized.csv')\n",
    "#normData = pd.read_csv( path + r'\\minmax.csv')\n",
    "lastRawData = pd.read_csv( path + r'\\raw_data_final.csv')"
   ]
  },
  {
   "cell_type": "markdown",
   "metadata": {},
   "source": [
    "Removing id columns that might influence the visualization"
   ]
  },
  {
   "cell_type": "code",
   "execution_count": 7,
   "metadata": {},
   "outputs": [],
   "source": [
    "#Removing id from RawData\n",
    "#rawData = rawData.drop('sensors.id',axis= 1)\n",
    "lastRawData = lastRawData.drop('sensors.id',axis= 1)\n",
    "# Removing auto index\n",
    "#normData = normData.drop('Unnamed: 0', axis = 1)\n",
    "#stdData = stdData.drop('Unnamed: 0', axis = 1)"
   ]
  },
  {
   "cell_type": "markdown",
   "metadata": {},
   "source": [
    "## 3. Data Visualization\n",
    "Where we see whats happening!\n",
    "Section where the data will be shown and worked to better understand what is in front of us."
   ]
  },
  {
   "source": [
    "#### Initial Context"
   ],
   "cell_type": "markdown",
   "metadata": {}
  },
  {
   "cell_type": "code",
   "execution_count": 8,
   "metadata": {},
   "outputs": [
    {
     "output_type": "stream",
     "name": "stdout",
     "text": [
      "Total Number of elements: 9918\n--> Normal situation elements: 8777\n--> Anomalous situation elements: 1141\n"
     ]
    }
   ],
   "source": [
    "print('Total Number of elements:', lastRawData.shape[0])\n",
    "print('--> Normal situation elements:', lastRawData[lastRawData['sensors.classification'] == 0].shape[0])\n",
    "print('--> Anomalous situation elements:', lastRawData[lastRawData['sensors.classification'] > 0].shape[0])"
   ]
  },
  {
   "cell_type": "markdown",
   "metadata": {},
   "source": [
    "#### Dataset Preview"
   ]
  },
  {
   "cell_type": "markdown",
   "metadata": {},
   "source": [
    "##### Raw Data"
   ]
  },
  {
   "cell_type": "code",
   "execution_count": 9,
   "metadata": {},
   "outputs": [
    {
     "output_type": "error",
     "ename": "NameError",
     "evalue": "name 'rawData' is not defined",
     "traceback": [
      "\u001b[1;31m---------------------------------------------------------------------------\u001b[0m",
      "\u001b[1;31mNameError\u001b[0m                                 Traceback (most recent call last)",
      "\u001b[1;32m<ipython-input-9-798e14e7f94c>\u001b[0m in \u001b[0;36m<module>\u001b[1;34m\u001b[0m\n\u001b[1;32m----> 1\u001b[1;33m \u001b[0mprint\u001b[0m\u001b[1;33m(\u001b[0m\u001b[1;34m'Number of elements:'\u001b[0m\u001b[1;33m,\u001b[0m \u001b[0mrawData\u001b[0m\u001b[1;33m.\u001b[0m\u001b[0mshape\u001b[0m\u001b[1;33m[\u001b[0m\u001b[1;36m0\u001b[0m\u001b[1;33m]\u001b[0m\u001b[1;33m)\u001b[0m\u001b[1;33m\u001b[0m\u001b[1;33m\u001b[0m\u001b[0m\n\u001b[0m\u001b[0;32m      2\u001b[0m \u001b[0mrawData\u001b[0m\u001b[1;33m.\u001b[0m\u001b[0mhead\u001b[0m\u001b[1;33m(\u001b[0m\u001b[1;33m)\u001b[0m\u001b[1;33m\u001b[0m\u001b[1;33m\u001b[0m\u001b[0m\n",
      "\u001b[1;31mNameError\u001b[0m: name 'rawData' is not defined"
     ]
    }
   ],
   "source": [
    "print('Number of elements:', rawData.shape[0])\n",
    "rawData.head()"
   ]
  },
  {
   "cell_type": "markdown",
   "metadata": {},
   "source": [
    "### Infos\n",
    "The core infos about the data such as: mean, standard deviation, etc. "
   ]
  },
  {
   "cell_type": "markdown",
   "metadata": {},
   "source": [
    "##### Raw Data"
   ]
  },
  {
   "cell_type": "code",
   "execution_count": 10,
   "metadata": {},
   "outputs": [
    {
     "output_type": "execute_result",
     "data": {
      "text/plain": [
       "       sensors.pm25  sensors.pm10  sensors.temperature    sensors.gas  \\\n",
       "count   8777.000000   8777.000000          8777.000000    8777.000000   \n",
       "mean       5.152410     10.401527            19.732627   96936.973453   \n",
       "std        3.979411      6.264248             3.902937   49005.702222   \n",
       "min        0.000000      0.000000            10.512617    2971.000000   \n",
       "25%        2.400000      5.500000            16.013789   55702.000000   \n",
       "50%        4.300000      9.000000            20.495430   99929.000000   \n",
       "75%        6.400000     13.600000            22.717305  139272.000000   \n",
       "max       41.600000     52.700000            27.949531  404575.000000   \n",
       "\n",
       "       sensors.humidity  sensors.pressure  sensors.altitude  \\\n",
       "count       8777.000000       8777.000000       8777.000000   \n",
       "mean          55.625551        995.612810        148.357316   \n",
       "std           11.781887         11.691793         98.805466   \n",
       "min           25.600421        955.262052        -81.183173   \n",
       "25%           49.388772        991.632661        105.645401   \n",
       "50%           52.022272        994.790689        154.832518   \n",
       "75%           66.592563       1000.625071        181.553980   \n",
       "max           84.871095       1023.038997        494.377666   \n",
       "\n",
       "       sensors.classification  \n",
       "count                  8777.0  \n",
       "mean                      0.0  \n",
       "std                       0.0  \n",
       "min                       0.0  \n",
       "25%                       0.0  \n",
       "50%                       0.0  \n",
       "75%                       0.0  \n",
       "max                       0.0  "
      ],
      "text/html": "<div>\n<style scoped>\n    .dataframe tbody tr th:only-of-type {\n        vertical-align: middle;\n    }\n\n    .dataframe tbody tr th {\n        vertical-align: top;\n    }\n\n    .dataframe thead th {\n        text-align: right;\n    }\n</style>\n<table border=\"1\" class=\"dataframe\">\n  <thead>\n    <tr style=\"text-align: right;\">\n      <th></th>\n      <th>sensors.pm25</th>\n      <th>sensors.pm10</th>\n      <th>sensors.temperature</th>\n      <th>sensors.gas</th>\n      <th>sensors.humidity</th>\n      <th>sensors.pressure</th>\n      <th>sensors.altitude</th>\n      <th>sensors.classification</th>\n    </tr>\n  </thead>\n  <tbody>\n    <tr>\n      <th>count</th>\n      <td>8777.000000</td>\n      <td>8777.000000</td>\n      <td>8777.000000</td>\n      <td>8777.000000</td>\n      <td>8777.000000</td>\n      <td>8777.000000</td>\n      <td>8777.000000</td>\n      <td>8777.0</td>\n    </tr>\n    <tr>\n      <th>mean</th>\n      <td>5.152410</td>\n      <td>10.401527</td>\n      <td>19.732627</td>\n      <td>96936.973453</td>\n      <td>55.625551</td>\n      <td>995.612810</td>\n      <td>148.357316</td>\n      <td>0.0</td>\n    </tr>\n    <tr>\n      <th>std</th>\n      <td>3.979411</td>\n      <td>6.264248</td>\n      <td>3.902937</td>\n      <td>49005.702222</td>\n      <td>11.781887</td>\n      <td>11.691793</td>\n      <td>98.805466</td>\n      <td>0.0</td>\n    </tr>\n    <tr>\n      <th>min</th>\n      <td>0.000000</td>\n      <td>0.000000</td>\n      <td>10.512617</td>\n      <td>2971.000000</td>\n      <td>25.600421</td>\n      <td>955.262052</td>\n      <td>-81.183173</td>\n      <td>0.0</td>\n    </tr>\n    <tr>\n      <th>25%</th>\n      <td>2.400000</td>\n      <td>5.500000</td>\n      <td>16.013789</td>\n      <td>55702.000000</td>\n      <td>49.388772</td>\n      <td>991.632661</td>\n      <td>105.645401</td>\n      <td>0.0</td>\n    </tr>\n    <tr>\n      <th>50%</th>\n      <td>4.300000</td>\n      <td>9.000000</td>\n      <td>20.495430</td>\n      <td>99929.000000</td>\n      <td>52.022272</td>\n      <td>994.790689</td>\n      <td>154.832518</td>\n      <td>0.0</td>\n    </tr>\n    <tr>\n      <th>75%</th>\n      <td>6.400000</td>\n      <td>13.600000</td>\n      <td>22.717305</td>\n      <td>139272.000000</td>\n      <td>66.592563</td>\n      <td>1000.625071</td>\n      <td>181.553980</td>\n      <td>0.0</td>\n    </tr>\n    <tr>\n      <th>max</th>\n      <td>41.600000</td>\n      <td>52.700000</td>\n      <td>27.949531</td>\n      <td>404575.000000</td>\n      <td>84.871095</td>\n      <td>1023.038997</td>\n      <td>494.377666</td>\n      <td>0.0</td>\n    </tr>\n  </tbody>\n</table>\n</div>"
     },
     "metadata": {},
     "execution_count": 10
    }
   ],
   "source": [
    "# Infos from 'Normal Scenario' Data\n",
    "lastRawDataNormal = lastRawData[lastRawData['sensors.classification']==0]\n",
    "lastRawDataNormal.describe()"
   ]
  },
  {
   "cell_type": "code",
   "execution_count": 11,
   "metadata": {},
   "outputs": [
    {
     "output_type": "execute_result",
     "data": {
      "text/plain": [
       "       sensors.pm25  sensors.pm10  sensors.temperature    sensors.gas  \\\n",
       "count   1141.000000   1141.000000          1141.000000    1141.000000   \n",
       "mean     309.261700    626.679842            18.748447   42651.442594   \n",
       "std      293.245202    645.917091             3.315124   21984.508079   \n",
       "min        2.700000      8.700000             7.844306    3841.000000   \n",
       "25%       35.600000     56.100000            16.932344   24673.000000   \n",
       "50%      213.100000    457.500000            18.610859   37799.000000   \n",
       "75%      510.400000   1083.800000            20.132344   65632.000000   \n",
       "max      999.900000   1999.900000            32.225238  112731.000000   \n",
       "\n",
       "       sensors.humidity  sensors.pressure  sensors.altitude  \\\n",
       "count       1141.000000       1141.000000       1141.000000   \n",
       "mean          60.381668        999.629140        114.554295   \n",
       "std            7.756193         12.453751        104.938890   \n",
       "min           38.051415        967.816309        -45.444814   \n",
       "25%           55.181451        987.973221         16.188072   \n",
       "50%           59.235854        992.727919        172.278727   \n",
       "75%           63.503448       1011.307156        212.604422   \n",
       "max           88.338576       1018.720306        385.325117   \n",
       "\n",
       "       sensors.classification  \n",
       "count             1141.000000  \n",
       "mean                 2.713409  \n",
       "std                  1.873472  \n",
       "min                  1.000000  \n",
       "25%                  1.000000  \n",
       "50%                  1.000000  \n",
       "75%                  5.000000  \n",
       "max                  5.000000  "
      ],
      "text/html": "<div>\n<style scoped>\n    .dataframe tbody tr th:only-of-type {\n        vertical-align: middle;\n    }\n\n    .dataframe tbody tr th {\n        vertical-align: top;\n    }\n\n    .dataframe thead th {\n        text-align: right;\n    }\n</style>\n<table border=\"1\" class=\"dataframe\">\n  <thead>\n    <tr style=\"text-align: right;\">\n      <th></th>\n      <th>sensors.pm25</th>\n      <th>sensors.pm10</th>\n      <th>sensors.temperature</th>\n      <th>sensors.gas</th>\n      <th>sensors.humidity</th>\n      <th>sensors.pressure</th>\n      <th>sensors.altitude</th>\n      <th>sensors.classification</th>\n    </tr>\n  </thead>\n  <tbody>\n    <tr>\n      <th>count</th>\n      <td>1141.000000</td>\n      <td>1141.000000</td>\n      <td>1141.000000</td>\n      <td>1141.000000</td>\n      <td>1141.000000</td>\n      <td>1141.000000</td>\n      <td>1141.000000</td>\n      <td>1141.000000</td>\n    </tr>\n    <tr>\n      <th>mean</th>\n      <td>309.261700</td>\n      <td>626.679842</td>\n      <td>18.748447</td>\n      <td>42651.442594</td>\n      <td>60.381668</td>\n      <td>999.629140</td>\n      <td>114.554295</td>\n      <td>2.713409</td>\n    </tr>\n    <tr>\n      <th>std</th>\n      <td>293.245202</td>\n      <td>645.917091</td>\n      <td>3.315124</td>\n      <td>21984.508079</td>\n      <td>7.756193</td>\n      <td>12.453751</td>\n      <td>104.938890</td>\n      <td>1.873472</td>\n    </tr>\n    <tr>\n      <th>min</th>\n      <td>2.700000</td>\n      <td>8.700000</td>\n      <td>7.844306</td>\n      <td>3841.000000</td>\n      <td>38.051415</td>\n      <td>967.816309</td>\n      <td>-45.444814</td>\n      <td>1.000000</td>\n    </tr>\n    <tr>\n      <th>25%</th>\n      <td>35.600000</td>\n      <td>56.100000</td>\n      <td>16.932344</td>\n      <td>24673.000000</td>\n      <td>55.181451</td>\n      <td>987.973221</td>\n      <td>16.188072</td>\n      <td>1.000000</td>\n    </tr>\n    <tr>\n      <th>50%</th>\n      <td>213.100000</td>\n      <td>457.500000</td>\n      <td>18.610859</td>\n      <td>37799.000000</td>\n      <td>59.235854</td>\n      <td>992.727919</td>\n      <td>172.278727</td>\n      <td>1.000000</td>\n    </tr>\n    <tr>\n      <th>75%</th>\n      <td>510.400000</td>\n      <td>1083.800000</td>\n      <td>20.132344</td>\n      <td>65632.000000</td>\n      <td>63.503448</td>\n      <td>1011.307156</td>\n      <td>212.604422</td>\n      <td>5.000000</td>\n    </tr>\n    <tr>\n      <th>max</th>\n      <td>999.900000</td>\n      <td>1999.900000</td>\n      <td>32.225238</td>\n      <td>112731.000000</td>\n      <td>88.338576</td>\n      <td>1018.720306</td>\n      <td>385.325117</td>\n      <td>5.000000</td>\n    </tr>\n  </tbody>\n</table>\n</div>"
     },
     "metadata": {},
     "execution_count": 11
    }
   ],
   "source": [
    "# Infos from 'Anomaly Scenario' Data\n",
    "lastRawDataNormal = lastRawData[lastRawData['sensors.classification']>0]\n",
    "lastRawDataNormal.describe()"
   ]
  },
  {
   "cell_type": "markdown",
   "metadata": {},
   "source": [
    "### Plots\n",
    "Analyzing plots is one of the best way to see the variations of the data "
   ]
  },
  {
   "cell_type": "markdown",
   "metadata": {},
   "source": [
    "#### Pairplots"
   ]
  },
  {
   "cell_type": "markdown",
   "metadata": {},
   "source": [
    "##### Raw Data"
   ]
  },
  {
   "cell_type": "code",
   "execution_count": 31,
   "metadata": {},
   "outputs": [],
   "source": [
    "#plot = sns.pairplot(hue='sensors.classification',data=lastRawData, palette='rainbow')\n",
    "#plot.savefig(r'C:\\Users\\JCost\\OneDrive\\Ambiente de Trabalho\\pairplot.png') #Save the plot as png"
   ]
  },
  {
   "cell_type": "markdown",
   "metadata": {},
   "source": [
    "#### Feature Correlation heatmap"
   ]
  },
  {
   "cell_type": "markdown",
   "metadata": {},
   "source": [
    "##### Raw Data"
   ]
  },
  {
   "cell_type": "code",
   "execution_count": 26,
   "metadata": {},
   "outputs": [],
   "source": [
    "rawCorrMatrix = lastRawData.corr()\n",
    "rawCorrMatrix[np.abs(rawCorrMatrix)<= 0.09] = 0\n",
    "# plt.figure(figsize=(12,12))\n",
    "# heat = sns.heatmap(rawCorrMatrix,\n",
    "#             vmin=-1,\n",
    "#             cmap=\"coolwarm\",\n",
    "#             annot=True)\n",
    "# heat.figure.savefig(r'C:\\Users\\JCost\\OneDrive\\Ambiente de Trabalhoheat.png') #Save the plot as png"
   ]
  },
  {
   "cell_type": "markdown",
   "metadata": {},
   "source": [
    "#### Feature Importance for prediction"
   ]
  },
  {
   "cell_type": "markdown",
   "metadata": {},
   "source": [
    "##### Raw Data"
   ]
  },
  {
   "cell_type": "code",
   "execution_count": 28,
   "metadata": {},
   "outputs": [
    {
     "output_type": "stream",
     "name": "stdout",
     "text": [
      "The best 3 Feature(s):\n - sensors.pm25\n - sensors.pm10\n - sensors.gas\n"
     ]
    }
   ],
   "source": [
    "K = 3 # number of features to select\n",
    "Y = lastRawData['sensors.classification']\n",
    "X = lastRawData.drop(['sensors.classification','sensors.carId','sensors.carLocation','sensors.timeValue','sensors.tags'], axis=1)\n",
    "allFeaturesRaw = (X.columns.values)\n",
    "\n",
    "kBestRaw = SelectKBest(f_classif, k=K).fit(X, Y)\n",
    "kBestIndexRaw = kBestRaw.get_support()\n",
    "kBestFeaturesRaw = allFeaturesRaw[kBestIndexRaw]\n",
    "print('The best',K, 'Feature(s):')\n",
    "for i,col in enumerate(kBestFeaturesRaw):\n",
    "    print(' -',col)"
   ]
  },
  {
   "cell_type": "markdown",
   "metadata": {},
   "source": [
    "#### Scatters of the K best features"
   ]
  },
  {
   "cell_type": "markdown",
   "metadata": {},
   "source": [
    "##### Raw Data"
   ]
  },
  {
   "cell_type": "code",
   "execution_count": 33,
   "metadata": {},
   "outputs": [],
   "source": [
    "allRaw0 = lastRawData[lastRawData['sensors.classification'] == 0]\n",
    "allRaw1 = lastRawData[lastRawData['sensors.classification'] == 1]\n",
    "allRaw4 = lastRawData[lastRawData['sensors.classification'] == 4]\n",
    "allRaw5 = lastRawData[lastRawData['sensors.classification'] == 5]\n",
    "\n",
    "scatterRaw0 = allRaw0[kBestFeaturesRaw]\n",
    "scatterRaw1 = allRaw1[kBestFeaturesRaw]\n",
    "scatterRaw4 = allRaw4[kBestFeaturesRaw]\n",
    "scatterRaw5 = allRaw5[kBestFeaturesRaw]\n",
    "\n",
    "for i1,feat1 in enumerate(kBestFeaturesRaw):\n",
    "    for i2,feat2 in enumerate(kBestFeaturesRaw):\n",
    "        if(i1 >= i2):\n",
    "            ;\n",
    "        else:\n",
    "            ;\n",
    "            # plt.figure(figsize=(8,4.5))\n",
    "            # plt.scatter(scatterRaw0[feat1],scatterRaw0[feat2],c='lightgreen')\n",
    "            # plt.scatter(scatterRaw1[feat1],scatterRaw1[feat2],c='orangered')\n",
    "            # plt.scatter(scatterRaw4[feat1],scatterRaw4[feat2],c='cyan')\n",
    "            # plt.scatter(scatterRaw5[feat1],scatterRaw5[feat2],c='purple')\n",
    "            # plt.xlabel(feat1)\n",
    "            # plt.ylabel(feat2)\n",
    "            # plt.title('Scatter plot ' + feat1 + ' versus ' + feat2)\n",
    "            # plt.show()"
   ]
  },
  {
   "cell_type": "code",
   "execution_count": null,
   "metadata": {},
   "outputs": [],
   "source": []
  }
 ],
 "metadata": {
  "kernelspec": {
   "display_name": "Python 3",
   "language": "python",
   "name": "python3"
  },
  "language_info": {
   "codemirror_mode": {
    "name": "ipython",
    "version": 3
   },
   "file_extension": ".py",
   "mimetype": "text/x-python",
   "name": "python",
   "nbconvert_exporter": "python",
   "pygments_lexer": "ipython3",
   "version": "3.7.6-final"
  }
 },
 "nbformat": 4,
 "nbformat_minor": 2
}