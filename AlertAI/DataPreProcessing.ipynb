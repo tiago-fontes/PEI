{
 "cells": [
  {
   "cell_type": "markdown",
   "metadata": {},
   "source": [
    "# AlertAI - Data Pre-Processing \n",
    "This notebook is responsible for the development of the data prepocessing unit that will in de future be integrated in the pipeline of AlertAI component in RideCare Project.\n",
    "\n",
    "#### by PEILoad"
   ]
  },
  {
   "cell_type": "markdown",
   "metadata": {},
   "source": [
    "### The steps of this task are:\n",
    "1. Import Required Libraries \n",
    "2. Acquire the Data\n",
    "3. Data Preparation\n",
    "4. Re-Write processed Data"
   ]
  },
  {
   "cell_type": "markdown",
   "metadata": {},
   "source": [
    "## 1. Import Libraries\n",
    "This section, as name says, is destined to import the libraries that will be used in the file."
   ]
  },
  {
   "cell_type": "code",
   "execution_count": 78,
   "metadata": {},
   "outputs": [],
   "source": [
    "import numpy as np\n",
    "import pandas as pd\n",
    "import math\n",
    "import sklearn\n",
    "import seaborn as sns\n",
    "import matplotlib.pyplot as plt\n",
    "from scipy import stats\n",
    "from sklearn.utils import shuffle"
   ]
  },
  {
   "cell_type": "markdown",
   "metadata": {},
   "source": [
    "## 2. Data Acquisition\n",
    "Step corresponding to gather the Data in order to manipulate it later on."
   ]
  },
  {
   "cell_type": "code",
   "execution_count": 79,
   "metadata": {},
   "outputs": [
    {
     "data": {
      "text/html": [
       "<div>\n",
       "<style scoped>\n",
       "    .dataframe tbody tr th:only-of-type {\n",
       "        vertical-align: middle;\n",
       "    }\n",
       "\n",
       "    .dataframe tbody tr th {\n",
       "        vertical-align: top;\n",
       "    }\n",
       "\n",
       "    .dataframe thead th {\n",
       "        text-align: right;\n",
       "    }\n",
       "</style>\n",
       "<table border=\"1\" class=\"dataframe\">\n",
       "  <thead>\n",
       "    <tr style=\"text-align: right;\">\n",
       "      <th></th>\n",
       "      <th>sensors.id</th>\n",
       "      <th>sensors.carId</th>\n",
       "      <th>sensors.carLocation</th>\n",
       "      <th>sensors.timeValue</th>\n",
       "      <th>sensors.pm25</th>\n",
       "      <th>sensors.pm10</th>\n",
       "      <th>sensors.temperature</th>\n",
       "      <th>sensors.gas</th>\n",
       "      <th>sensors.humidity</th>\n",
       "      <th>sensors.pressure</th>\n",
       "      <th>sensors.altitude</th>\n",
       "      <th>sensors.tags</th>\n",
       "      <th>sensors.classification</th>\n",
       "    </tr>\n",
       "  </thead>\n",
       "  <tbody>\n",
       "    <tr>\n",
       "      <th>0</th>\n",
       "      <td>2213</td>\n",
       "      <td>VP-35-44</td>\n",
       "      <td>41.5608 -8.3968</td>\n",
       "      <td>2020-12-07 13:30:07</td>\n",
       "      <td>661.4</td>\n",
       "      <td>1334.4</td>\n",
       "      <td>22.017695</td>\n",
       "      <td>26584</td>\n",
       "      <td>55.019330</td>\n",
       "      <td>1011.466474</td>\n",
       "      <td>14.859670</td>\n",
       "      <td>Existência de fumo, janelas abertas, AC desligado</td>\n",
       "      <td>1</td>\n",
       "    </tr>\n",
       "    <tr>\n",
       "      <th>1</th>\n",
       "      <td>2212</td>\n",
       "      <td>VP-35-44</td>\n",
       "      <td>41.5608 -8.3968</td>\n",
       "      <td>2020-12-07 13:30:02</td>\n",
       "      <td>391.3</td>\n",
       "      <td>514.1</td>\n",
       "      <td>22.019258</td>\n",
       "      <td>25556</td>\n",
       "      <td>55.320447</td>\n",
       "      <td>1011.484612</td>\n",
       "      <td>14.708438</td>\n",
       "      <td>Existência de fumo, janelas abertas, AC desligado</td>\n",
       "      <td>1</td>\n",
       "    </tr>\n",
       "    <tr>\n",
       "      <th>2</th>\n",
       "      <td>2211</td>\n",
       "      <td>VP-35-44</td>\n",
       "      <td>41.5608 -8.3968</td>\n",
       "      <td>2020-12-07 13:29:56</td>\n",
       "      <td>391.3</td>\n",
       "      <td>514.1</td>\n",
       "      <td>22.019648</td>\n",
       "      <td>24783</td>\n",
       "      <td>55.192396</td>\n",
       "      <td>1011.495633</td>\n",
       "      <td>14.616552</td>\n",
       "      <td>Existência de fumo, janelas abertas, AC desligado</td>\n",
       "      <td>1</td>\n",
       "    </tr>\n",
       "    <tr>\n",
       "      <th>3</th>\n",
       "      <td>2210</td>\n",
       "      <td>VP-35-44</td>\n",
       "      <td>41.5608 -8.3968</td>\n",
       "      <td>2020-12-07 13:29:51</td>\n",
       "      <td>391.3</td>\n",
       "      <td>514.1</td>\n",
       "      <td>22.017109</td>\n",
       "      <td>22864</td>\n",
       "      <td>55.230475</td>\n",
       "      <td>1011.505291</td>\n",
       "      <td>14.536031</td>\n",
       "      <td>Existência de fumo, janelas abertas, AC desligado</td>\n",
       "      <td>1</td>\n",
       "    </tr>\n",
       "    <tr>\n",
       "      <th>4</th>\n",
       "      <td>2209</td>\n",
       "      <td>VP-35-44</td>\n",
       "      <td>41.5608 -8.3968</td>\n",
       "      <td>2020-12-07 13:29:45</td>\n",
       "      <td>391.3</td>\n",
       "      <td>514.1</td>\n",
       "      <td>22.013594</td>\n",
       "      <td>22198</td>\n",
       "      <td>55.095559</td>\n",
       "      <td>1011.501234</td>\n",
       "      <td>14.569858</td>\n",
       "      <td>Existência de fumo, janelas abertas, AC desligado</td>\n",
       "      <td>1</td>\n",
       "    </tr>\n",
       "  </tbody>\n",
       "</table>\n",
       "</div>"
      ],
      "text/plain": [
       "   sensors.id sensors.carId sensors.carLocation    sensors.timeValue  \\\n",
       "0        2213      VP-35-44     41.5608 -8.3968  2020-12-07 13:30:07   \n",
       "1        2212      VP-35-44     41.5608 -8.3968  2020-12-07 13:30:02   \n",
       "2        2211      VP-35-44     41.5608 -8.3968  2020-12-07 13:29:56   \n",
       "3        2210      VP-35-44     41.5608 -8.3968  2020-12-07 13:29:51   \n",
       "4        2209      VP-35-44     41.5608 -8.3968  2020-12-07 13:29:45   \n",
       "\n",
       "   sensors.pm25  sensors.pm10  sensors.temperature  sensors.gas  \\\n",
       "0         661.4        1334.4            22.017695        26584   \n",
       "1         391.3         514.1            22.019258        25556   \n",
       "2         391.3         514.1            22.019648        24783   \n",
       "3         391.3         514.1            22.017109        22864   \n",
       "4         391.3         514.1            22.013594        22198   \n",
       "\n",
       "   sensors.humidity  sensors.pressure  sensors.altitude  \\\n",
       "0         55.019330       1011.466474         14.859670   \n",
       "1         55.320447       1011.484612         14.708438   \n",
       "2         55.192396       1011.495633         14.616552   \n",
       "3         55.230475       1011.505291         14.536031   \n",
       "4         55.095559       1011.501234         14.569858   \n",
       "\n",
       "                                        sensors.tags  sensors.classification  \n",
       "0  Existência de fumo, janelas abertas, AC desligado                       1  \n",
       "1  Existência de fumo, janelas abertas, AC desligado                       1  \n",
       "2  Existência de fumo, janelas abertas, AC desligado                       1  \n",
       "3  Existência de fumo, janelas abertas, AC desligado                       1  \n",
       "4  Existência de fumo, janelas abertas, AC desligado                       1  "
      ]
     },
     "execution_count": 79,
     "metadata": {},
     "output_type": "execute_result"
    }
   ],
   "source": [
    "data = pd.read_csv(\"data/raw_data.csv\") \n",
    "data.head()"
   ]
  },
  {
   "cell_type": "markdown",
   "metadata": {},
   "source": [
    "## 3. Data Pre-processing\n",
    "Where the \"magic\" happens!\n",
    "Section where the data will be cleaned and ready to fill de model."
   ]
  },
  {
   "cell_type": "markdown",
   "metadata": {},
   "source": [
    "### 3.1 Null Values Verification & Elimination"
   ]
  },
  {
   "cell_type": "markdown",
   "metadata": {},
   "source": [
    "Here we are going to validate the datasets: checking if there are missing values and try to avoid them: deleting or replace them for the most common values of the respectively feature"
   ]
  },
  {
   "cell_type": "code",
   "execution_count": 80,
   "metadata": {},
   "outputs": [
    {
     "name": "stdout",
     "output_type": "stream",
     "text": [
      "Missing values on dataset:  0\n"
     ]
    }
   ],
   "source": [
    "#Missing values verification for whole dataset\n",
    "nullValues = data.isnull().values.sum()\n",
    "\n",
    "print(\"Missing values on dataset: \",nullValues)"
   ]
  },
  {
   "cell_type": "code",
   "execution_count": 81,
   "metadata": {},
   "outputs": [
    {
     "name": "stdout",
     "output_type": "stream",
     "text": [
      "---------Dataset ------------\n",
      "sensors.id                0\n",
      "sensors.carId             0\n",
      "sensors.carLocation       0\n",
      "sensors.timeValue         0\n",
      "sensors.pm25              0\n",
      "sensors.pm10              0\n",
      "sensors.temperature       0\n",
      "sensors.gas               0\n",
      "sensors.humidity          0\n",
      "sensors.pressure          0\n",
      "sensors.altitude          0\n",
      "sensors.tags              0\n",
      "sensors.classification    0\n",
      "dtype: int64\n"
     ]
    }
   ],
   "source": [
    "#Missing values for each feature\n",
    "print(\"---------Dataset ------------\")\n",
    "print(data.isnull().sum())"
   ]
  },
  {
   "cell_type": "code",
   "execution_count": 82,
   "metadata": {},
   "outputs": [
    {
     "name": "stdout",
     "output_type": "stream",
     "text": [
      "         sensors.id sensors.carId sensors.carLocation    sensors.timeValue  \\\n",
      "count   2062.000000          2062                2062                 2062   \n",
      "unique          NaN             2                   1                 2056   \n",
      "top             NaN      VP-35-44     41.5608 -8.3968  2020-12-05 18:36:09   \n",
      "freq            NaN          1307                2062                    2   \n",
      "mean    1136.054316           NaN                 NaN                  NaN   \n",
      "std      640.985206           NaN                 NaN                  NaN   \n",
      "min        1.000000           NaN                 NaN                  NaN   \n",
      "25%      635.250000           NaN                 NaN                  NaN   \n",
      "50%     1167.500000           NaN                 NaN                  NaN   \n",
      "75%     1682.750000           NaN                 NaN                  NaN   \n",
      "max     2213.000000           NaN                 NaN                  NaN   \n",
      "\n",
      "        sensors.pm25  sensors.pm10  sensors.temperature   sensors.gas  \\\n",
      "count    2062.000000   2062.000000          2062.000000   2062.000000   \n",
      "unique           NaN           NaN                  NaN           NaN   \n",
      "top              NaN           NaN                  NaN           NaN   \n",
      "freq             NaN           NaN                  NaN           NaN   \n",
      "mean      117.527595    214.628904            19.857099  44480.184772   \n",
      "std       224.549996    430.313936             3.925808  16224.591247   \n",
      "min         0.000000      0.000000            10.512617   3841.000000   \n",
      "25%         2.700000      8.000000            17.579805  31695.500000   \n",
      "50%         8.000000     13.200000            19.872969  49824.000000   \n",
      "75%        40.975000     66.800000            22.628437  58644.000000   \n",
      "max       999.900000   1999.900000            27.949531  69055.000000   \n",
      "\n",
      "        sensors.humidity  sensors.pressure  sensors.altitude  \\\n",
      "count        2062.000000       2062.000000       2062.000000   \n",
      "unique               NaN               NaN               NaN   \n",
      "top                  NaN               NaN               NaN   \n",
      "freq                 NaN               NaN               NaN   \n",
      "mean           51.938321        993.712608        165.037388   \n",
      "std            10.679446         17.763115        150.585883   \n",
      "min            25.600421        955.262052        -59.780313   \n",
      "25%            44.228510        974.939600         17.856244   \n",
      "50%            51.526091        995.048167        152.656918   \n",
      "75%            60.078748       1011.107119        323.957047   \n",
      "max            72.686949       1020.450858        494.377666   \n",
      "\n",
      "                                             sensors.tags  \\\n",
      "count                                                2062   \n",
      "unique                                                  6   \n",
      "top     Não existência de fumo, vidros fechados, AC li...   \n",
      "freq                                                  688   \n",
      "mean                                                  NaN   \n",
      "std                                                   NaN   \n",
      "min                                                   NaN   \n",
      "25%                                                   NaN   \n",
      "50%                                                   NaN   \n",
      "75%                                                   NaN   \n",
      "max                                                   NaN   \n",
      "\n",
      "        sensors.classification  \n",
      "count              2062.000000  \n",
      "unique                     NaN  \n",
      "top                        NaN  \n",
      "freq                       NaN  \n",
      "mean                  0.258002  \n",
      "std                   0.437641  \n",
      "min                   0.000000  \n",
      "25%                   0.000000  \n",
      "50%                   0.000000  \n",
      "75%                   1.000000  \n",
      "max                   1.000000  \n"
     ]
    }
   ],
   "source": [
    "#Describe the dataset for more realistic informations about features\n",
    "print(data.describe(include='all'))"
   ]
  },
  {
   "cell_type": "markdown",
   "metadata": {},
   "source": [
    "### 3.2 NaN Verification & Elimination"
   ]
  },
  {
   "cell_type": "markdown",
   "metadata": {},
   "source": [
    "In this subsection we are going to verify the existance of NaN values. Tipically, they can cause some troubles \n",
    "ahead - so it is important to handle them now"
   ]
  },
  {
   "cell_type": "code",
   "execution_count": 83,
   "metadata": {},
   "outputs": [
    {
     "name": "stdout",
     "output_type": "stream",
     "text": [
      "NAN Finder: \n",
      " Total: 0 \n"
     ]
    }
   ],
   "source": [
    "NaN = data.isna().sum()\n",
    "print(\"NAN Finder: \\n Total: %s \" % (NaN.sum()))"
   ]
  },
  {
   "cell_type": "markdown",
   "metadata": {},
   "source": [
    "Lets drop all the Nan Found "
   ]
  },
  {
   "cell_type": "code",
   "execution_count": 84,
   "metadata": {},
   "outputs": [
    {
     "name": "stdout",
     "output_type": "stream",
     "text": [
      "Dataset: \n",
      " Antes -> 2062 \n",
      " Depois 2062 \n",
      "Foram removidos: 0\n"
     ]
    }
   ],
   "source": [
    "dataClean = data.dropna()\n",
    "print(\"Dataset: \\n Antes -> %s \\n Depois %s \" % (data.shape[0],dataClean.shape[0]))\n",
    "print(\"Foram removidos: %s\" % (data.shape[0]-dataClean.shape[0]))"
   ]
  },
  {
   "cell_type": "markdown",
   "metadata": {},
   "source": [
    "Finally, we present a brief visual representation of how our datasets are composed in termos of unwanted values"
   ]
  },
  {
   "cell_type": "code",
   "execution_count": 85,
   "metadata": {},
   "outputs": [],
   "source": [
    "#Assign the same variables for not making mistakes further\n",
    "data = dataClean"
   ]
  },
  {
   "cell_type": "code",
   "execution_count": 86,
   "metadata": {},
   "outputs": [
    {
     "name": "stdout",
     "output_type": "stream",
     "text": [
      "Dataset Information\n",
      "<class 'pandas.core.frame.DataFrame'>\n",
      "Int64Index: 2062 entries, 0 to 2061\n",
      "Data columns (total 13 columns):\n",
      " #   Column                  Non-Null Count  Dtype  \n",
      "---  ------                  --------------  -----  \n",
      " 0   sensors.id              2062 non-null   int64  \n",
      " 1   sensors.carId           2062 non-null   object \n",
      " 2   sensors.carLocation     2062 non-null   object \n",
      " 3   sensors.timeValue       2062 non-null   object \n",
      " 4   sensors.pm25            2062 non-null   float64\n",
      " 5   sensors.pm10            2062 non-null   float64\n",
      " 6   sensors.temperature     2062 non-null   float64\n",
      " 7   sensors.gas             2062 non-null   int64  \n",
      " 8   sensors.humidity        2062 non-null   float64\n",
      " 9   sensors.pressure        2062 non-null   float64\n",
      " 10  sensors.altitude        2062 non-null   float64\n",
      " 11  sensors.tags            2062 non-null   object \n",
      " 12  sensors.classification  2062 non-null   int64  \n",
      "dtypes: float64(6), int64(3), object(4)\n",
      "memory usage: 225.5+ KB\n"
     ]
    },
    {
     "data": {
      "image/png": "[encoded data removed]",
      "text/plain": [
       "<Figure size 432x288 with 1 Axes>"
      ]
     },
     "metadata": {
      "needs_background": "light"
     },
     "output_type": "display_data"
    }
   ],
   "source": [
    "print(\"Dataset Information\")\n",
    "sns.heatmap(data.isnull(), cbar=False)\n",
    "data.info()"
   ]
  },
  {
   "cell_type": "markdown",
   "metadata": {},
   "source": [
    "### Improve Data Quality"
   ]
  },
  {
   "cell_type": "markdown",
   "metadata": {},
   "source": [
    "In this subsection, we are going to promote some methods in order to improve data quality and remove some unwanted values"
   ]
  },
  {
   "cell_type": "code",
   "execution_count": 87,
   "metadata": {},
   "outputs": [
    {
     "name": "stdout",
     "output_type": "stream",
     "text": [
      "(2062, 13)\n"
     ]
    },
    {
     "data": {
      "text/html": [
       "<div>\n",
       "<style scoped>\n",
       "    .dataframe tbody tr th:only-of-type {\n",
       "        vertical-align: middle;\n",
       "    }\n",
       "\n",
       "    .dataframe tbody tr th {\n",
       "        vertical-align: top;\n",
       "    }\n",
       "\n",
       "    .dataframe thead th {\n",
       "        text-align: right;\n",
       "    }\n",
       "</style>\n",
       "<table border=\"1\" class=\"dataframe\">\n",
       "  <thead>\n",
       "    <tr style=\"text-align: right;\">\n",
       "      <th></th>\n",
       "      <th>sensors.id</th>\n",
       "      <th>sensors.pm25</th>\n",
       "      <th>sensors.pm10</th>\n",
       "      <th>sensors.temperature</th>\n",
       "      <th>sensors.gas</th>\n",
       "      <th>sensors.humidity</th>\n",
       "      <th>sensors.pressure</th>\n",
       "      <th>sensors.altitude</th>\n",
       "      <th>sensors.classification</th>\n",
       "    </tr>\n",
       "  </thead>\n",
       "  <tbody>\n",
       "    <tr>\n",
       "      <th>count</th>\n",
       "      <td>2062.000000</td>\n",
       "      <td>2062.000000</td>\n",
       "      <td>2062.000000</td>\n",
       "      <td>2062.000000</td>\n",
       "      <td>2062.000000</td>\n",
       "      <td>2062.000000</td>\n",
       "      <td>2062.000000</td>\n",
       "      <td>2062.000000</td>\n",
       "      <td>2062.000000</td>\n",
       "    </tr>\n",
       "    <tr>\n",
       "      <th>mean</th>\n",
       "      <td>1136.054316</td>\n",
       "      <td>117.527595</td>\n",
       "      <td>214.628904</td>\n",
       "      <td>19.857099</td>\n",
       "      <td>44480.184772</td>\n",
       "      <td>51.938321</td>\n",
       "      <td>993.712608</td>\n",
       "      <td>165.037388</td>\n",
       "      <td>0.258002</td>\n",
       "    </tr>\n",
       "    <tr>\n",
       "      <th>std</th>\n",
       "      <td>640.985206</td>\n",
       "      <td>224.549996</td>\n",
       "      <td>430.313936</td>\n",
       "      <td>3.925808</td>\n",
       "      <td>16224.591247</td>\n",
       "      <td>10.679446</td>\n",
       "      <td>17.763115</td>\n",
       "      <td>150.585883</td>\n",
       "      <td>0.437641</td>\n",
       "    </tr>\n",
       "    <tr>\n",
       "      <th>min</th>\n",
       "      <td>1.000000</td>\n",
       "      <td>0.000000</td>\n",
       "      <td>0.000000</td>\n",
       "      <td>10.512617</td>\n",
       "      <td>3841.000000</td>\n",
       "      <td>25.600421</td>\n",
       "      <td>955.262052</td>\n",
       "      <td>-59.780313</td>\n",
       "      <td>0.000000</td>\n",
       "    </tr>\n",
       "    <tr>\n",
       "      <th>25%</th>\n",
       "      <td>635.250000</td>\n",
       "      <td>2.700000</td>\n",
       "      <td>8.000000</td>\n",
       "      <td>17.579805</td>\n",
       "      <td>31695.500000</td>\n",
       "      <td>44.228510</td>\n",
       "      <td>974.939600</td>\n",
       "      <td>17.856244</td>\n",
       "      <td>0.000000</td>\n",
       "    </tr>\n",
       "    <tr>\n",
       "      <th>50%</th>\n",
       "      <td>1167.500000</td>\n",
       "      <td>8.000000</td>\n",
       "      <td>13.200000</td>\n",
       "      <td>19.872969</td>\n",
       "      <td>49824.000000</td>\n",
       "      <td>51.526091</td>\n",
       "      <td>995.048167</td>\n",
       "      <td>152.656918</td>\n",
       "      <td>0.000000</td>\n",
       "    </tr>\n",
       "    <tr>\n",
       "      <th>75%</th>\n",
       "      <td>1682.750000</td>\n",
       "      <td>40.975000</td>\n",
       "      <td>66.800000</td>\n",
       "      <td>22.628437</td>\n",
       "      <td>58644.000000</td>\n",
       "      <td>60.078748</td>\n",
       "      <td>1011.107119</td>\n",
       "      <td>323.957047</td>\n",
       "      <td>1.000000</td>\n",
       "    </tr>\n",
       "    <tr>\n",
       "      <th>max</th>\n",
       "      <td>2213.000000</td>\n",
       "      <td>999.900000</td>\n",
       "      <td>1999.900000</td>\n",
       "      <td>27.949531</td>\n",
       "      <td>69055.000000</td>\n",
       "      <td>72.686949</td>\n",
       "      <td>1020.450858</td>\n",
       "      <td>494.377666</td>\n",
       "      <td>1.000000</td>\n",
       "    </tr>\n",
       "  </tbody>\n",
       "</table>\n",
       "</div>"
      ],
      "text/plain": [
       "        sensors.id  sensors.pm25  sensors.pm10  sensors.temperature  \\\n",
       "count  2062.000000   2062.000000   2062.000000          2062.000000   \n",
       "mean   1136.054316    117.527595    214.628904            19.857099   \n",
       "std     640.985206    224.549996    430.313936             3.925808   \n",
       "min       1.000000      0.000000      0.000000            10.512617   \n",
       "25%     635.250000      2.700000      8.000000            17.579805   \n",
       "50%    1167.500000      8.000000     13.200000            19.872969   \n",
       "75%    1682.750000     40.975000     66.800000            22.628437   \n",
       "max    2213.000000    999.900000   1999.900000            27.949531   \n",
       "\n",
       "        sensors.gas  sensors.humidity  sensors.pressure  sensors.altitude  \\\n",
       "count   2062.000000       2062.000000       2062.000000       2062.000000   \n",
       "mean   44480.184772         51.938321        993.712608        165.037388   \n",
       "std    16224.591247         10.679446         17.763115        150.585883   \n",
       "min     3841.000000         25.600421        955.262052        -59.780313   \n",
       "25%    31695.500000         44.228510        974.939600         17.856244   \n",
       "50%    49824.000000         51.526091        995.048167        152.656918   \n",
       "75%    58644.000000         60.078748       1011.107119        323.957047   \n",
       "max    69055.000000         72.686949       1020.450858        494.377666   \n",
       "\n",
       "       sensors.classification  \n",
       "count             2062.000000  \n",
       "mean                 0.258002  \n",
       "std                  0.437641  \n",
       "min                  0.000000  \n",
       "25%                  0.000000  \n",
       "50%                  0.000000  \n",
       "75%                  1.000000  \n",
       "max                  1.000000  "
      ]
     },
     "execution_count": 87,
     "metadata": {},
     "output_type": "execute_result"
    }
   ],
   "source": [
    "improvedData = data\n",
    "print(improvedData.shape)\n",
    "improvedData.describe()"
   ]
  },
  {
   "cell_type": "code",
   "execution_count": 88,
   "metadata": {},
   "outputs": [],
   "source": [
    "improvedData.drop(improvedData.loc[improvedData['sensors.pm25']<=1].index, inplace=True)"
   ]
  },
  {
   "cell_type": "code",
   "execution_count": 89,
   "metadata": {},
   "outputs": [
    {
     "name": "stdout",
     "output_type": "stream",
     "text": [
      "(2018, 13)\n"
     ]
    },
    {
     "data": {
      "text/html": [
       "<div>\n",
       "<style scoped>\n",
       "    .dataframe tbody tr th:only-of-type {\n",
       "        vertical-align: middle;\n",
       "    }\n",
       "\n",
       "    .dataframe tbody tr th {\n",
       "        vertical-align: top;\n",
       "    }\n",
       "\n",
       "    .dataframe thead th {\n",
       "        text-align: right;\n",
       "    }\n",
       "</style>\n",
       "<table border=\"1\" class=\"dataframe\">\n",
       "  <thead>\n",
       "    <tr style=\"text-align: right;\">\n",
       "      <th></th>\n",
       "      <th>sensors.id</th>\n",
       "      <th>sensors.pm25</th>\n",
       "      <th>sensors.pm10</th>\n",
       "      <th>sensors.temperature</th>\n",
       "      <th>sensors.gas</th>\n",
       "      <th>sensors.humidity</th>\n",
       "      <th>sensors.pressure</th>\n",
       "      <th>sensors.altitude</th>\n",
       "      <th>sensors.classification</th>\n",
       "    </tr>\n",
       "  </thead>\n",
       "  <tbody>\n",
       "    <tr>\n",
       "      <th>count</th>\n",
       "      <td>2018.000000</td>\n",
       "      <td>2018.00000</td>\n",
       "      <td>2018.000000</td>\n",
       "      <td>2018.000000</td>\n",
       "      <td>2018.000000</td>\n",
       "      <td>2018.000000</td>\n",
       "      <td>2018.000000</td>\n",
       "      <td>2018.000000</td>\n",
       "      <td>2018.000000</td>\n",
       "    </tr>\n",
       "    <tr>\n",
       "      <th>mean</th>\n",
       "      <td>1131.960852</td>\n",
       "      <td>120.07448</td>\n",
       "      <td>219.266204</td>\n",
       "      <td>19.786008</td>\n",
       "      <td>44573.355798</td>\n",
       "      <td>52.064625</td>\n",
       "      <td>993.868340</td>\n",
       "      <td>163.712064</td>\n",
       "      <td>0.261645</td>\n",
       "    </tr>\n",
       "    <tr>\n",
       "      <th>std</th>\n",
       "      <td>642.992153</td>\n",
       "      <td>226.31507</td>\n",
       "      <td>433.821538</td>\n",
       "      <td>3.926293</td>\n",
       "      <td>16267.596367</td>\n",
       "      <td>10.734241</td>\n",
       "      <td>17.699520</td>\n",
       "      <td>150.017171</td>\n",
       "      <td>0.439639</td>\n",
       "    </tr>\n",
       "    <tr>\n",
       "      <th>min</th>\n",
       "      <td>1.000000</td>\n",
       "      <td>1.10000</td>\n",
       "      <td>1.700000</td>\n",
       "      <td>10.512617</td>\n",
       "      <td>3841.000000</td>\n",
       "      <td>25.600421</td>\n",
       "      <td>955.262052</td>\n",
       "      <td>-59.780313</td>\n",
       "      <td>0.000000</td>\n",
       "    </tr>\n",
       "    <tr>\n",
       "      <th>25%</th>\n",
       "      <td>630.250000</td>\n",
       "      <td>2.90000</td>\n",
       "      <td>8.300000</td>\n",
       "      <td>17.489424</td>\n",
       "      <td>31560.250000</td>\n",
       "      <td>44.260450</td>\n",
       "      <td>975.006302</td>\n",
       "      <td>17.023131</td>\n",
       "      <td>0.000000</td>\n",
       "    </tr>\n",
       "    <tr>\n",
       "      <th>50%</th>\n",
       "      <td>1163.500000</td>\n",
       "      <td>8.10000</td>\n",
       "      <td>13.400000</td>\n",
       "      <td>19.788984</td>\n",
       "      <td>50394.000000</td>\n",
       "      <td>51.895657</td>\n",
       "      <td>994.980717</td>\n",
       "      <td>153.226805</td>\n",
       "      <td>0.000000</td>\n",
       "    </tr>\n",
       "    <tr>\n",
       "      <th>75%</th>\n",
       "      <td>1689.750000</td>\n",
       "      <td>46.60000</td>\n",
       "      <td>90.700000</td>\n",
       "      <td>22.493867</td>\n",
       "      <td>58697.000000</td>\n",
       "      <td>60.308551</td>\n",
       "      <td>1011.207017</td>\n",
       "      <td>323.384120</td>\n",
       "      <td>1.000000</td>\n",
       "    </tr>\n",
       "    <tr>\n",
       "      <th>max</th>\n",
       "      <td>2213.000000</td>\n",
       "      <td>999.90000</td>\n",
       "      <td>1999.900000</td>\n",
       "      <td>27.949531</td>\n",
       "      <td>69055.000000</td>\n",
       "      <td>72.686949</td>\n",
       "      <td>1020.450858</td>\n",
       "      <td>494.377666</td>\n",
       "      <td>1.000000</td>\n",
       "    </tr>\n",
       "  </tbody>\n",
       "</table>\n",
       "</div>"
      ],
      "text/plain": [
       "        sensors.id  sensors.pm25  sensors.pm10  sensors.temperature  \\\n",
       "count  2018.000000    2018.00000   2018.000000          2018.000000   \n",
       "mean   1131.960852     120.07448    219.266204            19.786008   \n",
       "std     642.992153     226.31507    433.821538             3.926293   \n",
       "min       1.000000       1.10000      1.700000            10.512617   \n",
       "25%     630.250000       2.90000      8.300000            17.489424   \n",
       "50%    1163.500000       8.10000     13.400000            19.788984   \n",
       "75%    1689.750000      46.60000     90.700000            22.493867   \n",
       "max    2213.000000     999.90000   1999.900000            27.949531   \n",
       "\n",
       "        sensors.gas  sensors.humidity  sensors.pressure  sensors.altitude  \\\n",
       "count   2018.000000       2018.000000       2018.000000       2018.000000   \n",
       "mean   44573.355798         52.064625        993.868340        163.712064   \n",
       "std    16267.596367         10.734241         17.699520        150.017171   \n",
       "min     3841.000000         25.600421        955.262052        -59.780313   \n",
       "25%    31560.250000         44.260450        975.006302         17.023131   \n",
       "50%    50394.000000         51.895657        994.980717        153.226805   \n",
       "75%    58697.000000         60.308551       1011.207017        323.384120   \n",
       "max    69055.000000         72.686949       1020.450858        494.377666   \n",
       "\n",
       "       sensors.classification  \n",
       "count             2018.000000  \n",
       "mean                 0.261645  \n",
       "std                  0.439639  \n",
       "min                  0.000000  \n",
       "25%                  0.000000  \n",
       "50%                  0.000000  \n",
       "75%                  1.000000  \n",
       "max                  1.000000  "
      ]
     },
     "execution_count": 89,
     "metadata": {},
     "output_type": "execute_result"
    }
   ],
   "source": [
    "print(improvedData.shape)\n",
    "improvedData.describe()"
   ]
  },
  {
   "cell_type": "markdown",
   "metadata": {},
   "source": [
    "##### Define 0 and 1 classification gap"
   ]
  },
  {
   "cell_type": "code",
   "execution_count": 90,
   "metadata": {},
   "outputs": [],
   "source": [
    "improvedData.drop(improvedData.loc[(improvedData['sensors.pm25']>=45)  & (improvedData['sensors.classification']==0)].index, inplace=True)"
   ]
  },
  {
   "cell_type": "code",
   "execution_count": 91,
   "metadata": {},
   "outputs": [
    {
     "data": {
      "text/html": [
       "<div>\n",
       "<style scoped>\n",
       "    .dataframe tbody tr th:only-of-type {\n",
       "        vertical-align: middle;\n",
       "    }\n",
       "\n",
       "    .dataframe tbody tr th {\n",
       "        vertical-align: top;\n",
       "    }\n",
       "\n",
       "    .dataframe thead th {\n",
       "        text-align: right;\n",
       "    }\n",
       "</style>\n",
       "<table border=\"1\" class=\"dataframe\">\n",
       "  <thead>\n",
       "    <tr style=\"text-align: right;\">\n",
       "      <th></th>\n",
       "      <th>sensors.id</th>\n",
       "      <th>sensors.pm25</th>\n",
       "      <th>sensors.pm10</th>\n",
       "      <th>sensors.temperature</th>\n",
       "      <th>sensors.gas</th>\n",
       "      <th>sensors.humidity</th>\n",
       "      <th>sensors.pressure</th>\n",
       "      <th>sensors.altitude</th>\n",
       "      <th>sensors.classification</th>\n",
       "    </tr>\n",
       "  </thead>\n",
       "  <tbody>\n",
       "    <tr>\n",
       "      <th>count</th>\n",
       "      <td>2018.000000</td>\n",
       "      <td>2018.00000</td>\n",
       "      <td>2018.000000</td>\n",
       "      <td>2018.000000</td>\n",
       "      <td>2018.000000</td>\n",
       "      <td>2018.000000</td>\n",
       "      <td>2018.000000</td>\n",
       "      <td>2018.000000</td>\n",
       "      <td>2018.000000</td>\n",
       "    </tr>\n",
       "    <tr>\n",
       "      <th>mean</th>\n",
       "      <td>1131.960852</td>\n",
       "      <td>120.07448</td>\n",
       "      <td>219.266204</td>\n",
       "      <td>19.786008</td>\n",
       "      <td>44573.355798</td>\n",
       "      <td>52.064625</td>\n",
       "      <td>993.868340</td>\n",
       "      <td>163.712064</td>\n",
       "      <td>0.261645</td>\n",
       "    </tr>\n",
       "    <tr>\n",
       "      <th>std</th>\n",
       "      <td>642.992153</td>\n",
       "      <td>226.31507</td>\n",
       "      <td>433.821538</td>\n",
       "      <td>3.926293</td>\n",
       "      <td>16267.596367</td>\n",
       "      <td>10.734241</td>\n",
       "      <td>17.699520</td>\n",
       "      <td>150.017171</td>\n",
       "      <td>0.439639</td>\n",
       "    </tr>\n",
       "    <tr>\n",
       "      <th>min</th>\n",
       "      <td>1.000000</td>\n",
       "      <td>1.10000</td>\n",
       "      <td>1.700000</td>\n",
       "      <td>10.512617</td>\n",
       "      <td>3841.000000</td>\n",
       "      <td>25.600421</td>\n",
       "      <td>955.262052</td>\n",
       "      <td>-59.780313</td>\n",
       "      <td>0.000000</td>\n",
       "    </tr>\n",
       "    <tr>\n",
       "      <th>25%</th>\n",
       "      <td>630.250000</td>\n",
       "      <td>2.90000</td>\n",
       "      <td>8.300000</td>\n",
       "      <td>17.489424</td>\n",
       "      <td>31560.250000</td>\n",
       "      <td>44.260450</td>\n",
       "      <td>975.006302</td>\n",
       "      <td>17.023131</td>\n",
       "      <td>0.000000</td>\n",
       "    </tr>\n",
       "    <tr>\n",
       "      <th>50%</th>\n",
       "      <td>1163.500000</td>\n",
       "      <td>8.10000</td>\n",
       "      <td>13.400000</td>\n",
       "      <td>19.788984</td>\n",
       "      <td>50394.000000</td>\n",
       "      <td>51.895657</td>\n",
       "      <td>994.980717</td>\n",
       "      <td>153.226805</td>\n",
       "      <td>0.000000</td>\n",
       "    </tr>\n",
       "    <tr>\n",
       "      <th>75%</th>\n",
       "      <td>1689.750000</td>\n",
       "      <td>46.60000</td>\n",
       "      <td>90.700000</td>\n",
       "      <td>22.493867</td>\n",
       "      <td>58697.000000</td>\n",
       "      <td>60.308551</td>\n",
       "      <td>1011.207017</td>\n",
       "      <td>323.384120</td>\n",
       "      <td>1.000000</td>\n",
       "    </tr>\n",
       "    <tr>\n",
       "      <th>max</th>\n",
       "      <td>2213.000000</td>\n",
       "      <td>999.90000</td>\n",
       "      <td>1999.900000</td>\n",
       "      <td>27.949531</td>\n",
       "      <td>69055.000000</td>\n",
       "      <td>72.686949</td>\n",
       "      <td>1020.450858</td>\n",
       "      <td>494.377666</td>\n",
       "      <td>1.000000</td>\n",
       "    </tr>\n",
       "  </tbody>\n",
       "</table>\n",
       "</div>"
      ],
      "text/plain": [
       "        sensors.id  sensors.pm25  sensors.pm10  sensors.temperature  \\\n",
       "count  2018.000000    2018.00000   2018.000000          2018.000000   \n",
       "mean   1131.960852     120.07448    219.266204            19.786008   \n",
       "std     642.992153     226.31507    433.821538             3.926293   \n",
       "min       1.000000       1.10000      1.700000            10.512617   \n",
       "25%     630.250000       2.90000      8.300000            17.489424   \n",
       "50%    1163.500000       8.10000     13.400000            19.788984   \n",
       "75%    1689.750000      46.60000     90.700000            22.493867   \n",
       "max    2213.000000     999.90000   1999.900000            27.949531   \n",
       "\n",
       "        sensors.gas  sensors.humidity  sensors.pressure  sensors.altitude  \\\n",
       "count   2018.000000       2018.000000       2018.000000       2018.000000   \n",
       "mean   44573.355798         52.064625        993.868340        163.712064   \n",
       "std    16267.596367         10.734241         17.699520        150.017171   \n",
       "min     3841.000000         25.600421        955.262052        -59.780313   \n",
       "25%    31560.250000         44.260450        975.006302         17.023131   \n",
       "50%    50394.000000         51.895657        994.980717        153.226805   \n",
       "75%    58697.000000         60.308551       1011.207017        323.384120   \n",
       "max    69055.000000         72.686949       1020.450858        494.377666   \n",
       "\n",
       "       sensors.classification  \n",
       "count             2018.000000  \n",
       "mean                 0.261645  \n",
       "std                  0.439639  \n",
       "min                  0.000000  \n",
       "25%                  0.000000  \n",
       "50%                  0.000000  \n",
       "75%                  1.000000  \n",
       "max                  1.000000  "
      ]
     },
     "execution_count": 91,
     "metadata": {},
     "output_type": "execute_result"
    }
   ],
   "source": [
    "improvedData.describe()"
   ]
  },
  {
   "cell_type": "code",
   "execution_count": 92,
   "metadata": {},
   "outputs": [],
   "source": [
    "improvedData.drop(improvedData.loc[(improvedData['sensors.pm25']<=90)  & (improvedData['sensors.classification']==1)].index, inplace=True)"
   ]
  },
  {
   "cell_type": "code",
   "execution_count": 93,
   "metadata": {},
   "outputs": [
    {
     "data": {
      "text/html": [
       "<div>\n",
       "<style scoped>\n",
       "    .dataframe tbody tr th:only-of-type {\n",
       "        vertical-align: middle;\n",
       "    }\n",
       "\n",
       "    .dataframe tbody tr th {\n",
       "        vertical-align: top;\n",
       "    }\n",
       "\n",
       "    .dataframe thead th {\n",
       "        text-align: right;\n",
       "    }\n",
       "</style>\n",
       "<table border=\"1\" class=\"dataframe\">\n",
       "  <thead>\n",
       "    <tr style=\"text-align: right;\">\n",
       "      <th></th>\n",
       "      <th>sensors.id</th>\n",
       "      <th>sensors.pm25</th>\n",
       "      <th>sensors.pm10</th>\n",
       "      <th>sensors.temperature</th>\n",
       "      <th>sensors.gas</th>\n",
       "      <th>sensors.humidity</th>\n",
       "      <th>sensors.pressure</th>\n",
       "      <th>sensors.altitude</th>\n",
       "      <th>sensors.classification</th>\n",
       "    </tr>\n",
       "  </thead>\n",
       "  <tbody>\n",
       "    <tr>\n",
       "      <th>count</th>\n",
       "      <td>1980.000000</td>\n",
       "      <td>1980.000000</td>\n",
       "      <td>1980.000000</td>\n",
       "      <td>1980.000000</td>\n",
       "      <td>1980.000000</td>\n",
       "      <td>1980.000000</td>\n",
       "      <td>1980.000000</td>\n",
       "      <td>1980.000000</td>\n",
       "      <td>1980.000000</td>\n",
       "    </tr>\n",
       "    <tr>\n",
       "      <th>mean</th>\n",
       "      <td>1119.607071</td>\n",
       "      <td>121.504949</td>\n",
       "      <td>221.948788</td>\n",
       "      <td>19.795763</td>\n",
       "      <td>45035.208586</td>\n",
       "      <td>52.018205</td>\n",
       "      <td>993.587440</td>\n",
       "      <td>166.087886</td>\n",
       "      <td>0.247475</td>\n",
       "    </tr>\n",
       "    <tr>\n",
       "      <th>std</th>\n",
       "      <td>641.418781</td>\n",
       "      <td>228.228624</td>\n",
       "      <td>437.514474</td>\n",
       "      <td>3.954071</td>\n",
       "      <td>15968.926714</td>\n",
       "      <td>10.817985</td>\n",
       "      <td>17.697798</td>\n",
       "      <td>150.006308</td>\n",
       "      <td>0.431654</td>\n",
       "    </tr>\n",
       "    <tr>\n",
       "      <th>min</th>\n",
       "      <td>1.000000</td>\n",
       "      <td>1.100000</td>\n",
       "      <td>1.700000</td>\n",
       "      <td>10.512617</td>\n",
       "      <td>3841.000000</td>\n",
       "      <td>25.600421</td>\n",
       "      <td>955.262052</td>\n",
       "      <td>-59.780313</td>\n",
       "      <td>0.000000</td>\n",
       "    </tr>\n",
       "    <tr>\n",
       "      <th>25%</th>\n",
       "      <td>622.750000</td>\n",
       "      <td>2.800000</td>\n",
       "      <td>8.200000</td>\n",
       "      <td>17.456904</td>\n",
       "      <td>32028.000000</td>\n",
       "      <td>44.189477</td>\n",
       "      <td>974.938528</td>\n",
       "      <td>17.887376</td>\n",
       "      <td>0.000000</td>\n",
       "    </tr>\n",
       "    <tr>\n",
       "      <th>50%</th>\n",
       "      <td>1146.500000</td>\n",
       "      <td>8.000000</td>\n",
       "      <td>13.350000</td>\n",
       "      <td>19.777070</td>\n",
       "      <td>51483.000000</td>\n",
       "      <td>51.799424</td>\n",
       "      <td>994.688107</td>\n",
       "      <td>155.699432</td>\n",
       "      <td>0.000000</td>\n",
       "    </tr>\n",
       "    <tr>\n",
       "      <th>75%</th>\n",
       "      <td>1642.250000</td>\n",
       "      <td>39.725000</td>\n",
       "      <td>49.925000</td>\n",
       "      <td>22.586934</td>\n",
       "      <td>58809.750000</td>\n",
       "      <td>60.418913</td>\n",
       "      <td>1011.103386</td>\n",
       "      <td>323.966254</td>\n",
       "      <td>0.000000</td>\n",
       "    </tr>\n",
       "    <tr>\n",
       "      <th>max</th>\n",
       "      <td>2213.000000</td>\n",
       "      <td>999.900000</td>\n",
       "      <td>1999.900000</td>\n",
       "      <td>27.949531</td>\n",
       "      <td>69055.000000</td>\n",
       "      <td>72.686949</td>\n",
       "      <td>1020.450858</td>\n",
       "      <td>494.377666</td>\n",
       "      <td>1.000000</td>\n",
       "    </tr>\n",
       "  </tbody>\n",
       "</table>\n",
       "</div>"
      ],
      "text/plain": [
       "        sensors.id  sensors.pm25  sensors.pm10  sensors.temperature  \\\n",
       "count  1980.000000   1980.000000   1980.000000          1980.000000   \n",
       "mean   1119.607071    121.504949    221.948788            19.795763   \n",
       "std     641.418781    228.228624    437.514474             3.954071   \n",
       "min       1.000000      1.100000      1.700000            10.512617   \n",
       "25%     622.750000      2.800000      8.200000            17.456904   \n",
       "50%    1146.500000      8.000000     13.350000            19.777070   \n",
       "75%    1642.250000     39.725000     49.925000            22.586934   \n",
       "max    2213.000000    999.900000   1999.900000            27.949531   \n",
       "\n",
       "        sensors.gas  sensors.humidity  sensors.pressure  sensors.altitude  \\\n",
       "count   1980.000000       1980.000000       1980.000000       1980.000000   \n",
       "mean   45035.208586         52.018205        993.587440        166.087886   \n",
       "std    15968.926714         10.817985         17.697798        150.006308   \n",
       "min     3841.000000         25.600421        955.262052        -59.780313   \n",
       "25%    32028.000000         44.189477        974.938528         17.887376   \n",
       "50%    51483.000000         51.799424        994.688107        155.699432   \n",
       "75%    58809.750000         60.418913       1011.103386        323.966254   \n",
       "max    69055.000000         72.686949       1020.450858        494.377666   \n",
       "\n",
       "       sensors.classification  \n",
       "count             1980.000000  \n",
       "mean                 0.247475  \n",
       "std                  0.431654  \n",
       "min                  0.000000  \n",
       "25%                  0.000000  \n",
       "50%                  0.000000  \n",
       "75%                  0.000000  \n",
       "max                  1.000000  "
      ]
     },
     "execution_count": 93,
     "metadata": {},
     "output_type": "execute_result"
    }
   ],
   "source": [
    "improvedData.describe()"
   ]
  },
  {
   "cell_type": "code",
   "execution_count": 94,
   "metadata": {},
   "outputs": [],
   "source": [
    "data = improvedData"
   ]
  },
  {
   "cell_type": "code",
   "execution_count": null,
   "metadata": {},
   "outputs": [],
   "source": []
  },
  {
   "cell_type": "markdown",
   "metadata": {},
   "source": [
    "### 3.3 Outliers"
   ]
  },
  {
   "cell_type": "markdown",
   "metadata": {},
   "source": [
    "Here we are going to check if there are any outlier in our dataframes, and handle with them "
   ]
  },
  {
   "cell_type": "code",
   "execution_count": 95,
   "metadata": {},
   "outputs": [
    {
     "data": {
      "text/plain": [
       "Text(0.5, 1.0, 'PM 25 BoxPlot')"
      ]
     },
     "execution_count": 95,
     "metadata": {},
     "output_type": "execute_result"
    },
    {
     "data": {
      "image/png": "[encoded data removed]",
      "text/plain": [
       "<Figure size 432x288 with 1 Axes>"
      ]
     },
     "metadata": {
      "needs_background": "light"
     },
     "output_type": "display_data"
    }
   ],
   "source": [
    "sns.boxplot(x=data['sensors.pm25']).set_title('PM 25 BoxPlot')"
   ]
  },
  {
   "cell_type": "code",
   "execution_count": 96,
   "metadata": {},
   "outputs": [
    {
     "data": {
      "text/plain": [
       "Text(0.5, 1.0, 'PM 10 BoxPlot')"
      ]
     },
     "execution_count": 96,
     "metadata": {},
     "output_type": "execute_result"
    },
    {
     "data": {
      "image/png": "[encoded data removed]",
      "text/plain": [
       "<Figure size 432x288 with 1 Axes>"
      ]
     },
     "metadata": {
      "needs_background": "light"
     },
     "output_type": "display_data"
    }
   ],
   "source": [
    "sns.boxplot(x=data['sensors.pm10']).set_title('PM 10 BoxPlot')"
   ]
  },
  {
   "cell_type": "code",
   "execution_count": 97,
   "metadata": {},
   "outputs": [
    {
     "data": {
      "text/plain": [
       "Text(0.5, 1.0, 'Temperature BoxPlot')"
      ]
     },
     "execution_count": 97,
     "metadata": {},
     "output_type": "execute_result"
    },
    {
     "data": {
      "image/png": "[encoded data removed]",
      "text/plain": [
       "<Figure size 432x288 with 1 Axes>"
      ]
     },
     "metadata": {
      "needs_background": "light"
     },
     "output_type": "display_data"
    }
   ],
   "source": [
    "sns.boxplot(x=data['sensors.temperature']).set_title('Temperature BoxPlot')"
   ]
  },
  {
   "cell_type": "code",
   "execution_count": 98,
   "metadata": {},
   "outputs": [
    {
     "data": {
      "text/plain": [
       "Text(0.5, 1.0, 'Gas BoxPlot')"
      ]
     },
     "execution_count": 98,
     "metadata": {},
     "output_type": "execute_result"
    },
    {
     "data": {
      "image/png": "[encoded data removed]",
      "text/plain": [
       "<Figure size 432x288 with 1 Axes>"
      ]
     },
     "metadata": {
      "needs_background": "light"
     },
     "output_type": "display_data"
    }
   ],
   "source": [
    "sns.boxplot(x=data['sensors.gas']).set_title('Gas BoxPlot')"
   ]
  },
  {
   "cell_type": "code",
   "execution_count": 99,
   "metadata": {},
   "outputs": [
    {
     "data": {
      "text/plain": [
       "Text(0.5, 1.0, 'Humidity BoxPlot')"
      ]
     },
     "execution_count": 99,
     "metadata": {},
     "output_type": "execute_result"
    },
    {
     "data": {
      "image/png": "[encoded data removed]",
      "text/plain": [
       "<Figure size 432x288 with 1 Axes>"
      ]
     },
     "metadata": {
      "needs_background": "light"
     },
     "output_type": "display_data"
    }
   ],
   "source": [
    "sns.boxplot(x=data['sensors.humidity']).set_title('Humidity BoxPlot')"
   ]
  },
  {
   "cell_type": "code",
   "execution_count": 100,
   "metadata": {},
   "outputs": [
    {
     "data": {
      "text/plain": [
       "Text(0.5, 1.0, 'Pressure BoxPlot')"
      ]
     },
     "execution_count": 100,
     "metadata": {},
     "output_type": "execute_result"
    },
    {
     "data": {
      "image/png": "[encoded data removed]",
      "text/plain": [
       "<Figure size 432x288 with 1 Axes>"
      ]
     },
     "metadata": {
      "needs_background": "light"
     },
     "output_type": "display_data"
    }
   ],
   "source": [
    "sns.boxplot(x=data['sensors.pressure']).set_title('Pressure BoxPlot')"
   ]
  },
  {
   "cell_type": "code",
   "execution_count": 101,
   "metadata": {},
   "outputs": [
    {
     "data": {
      "text/plain": [
       "Text(0.5, 1.0, 'Altitude BoxPlot')"
      ]
     },
     "execution_count": 101,
     "metadata": {},
     "output_type": "execute_result"
    },
    {
     "data": {
      "image/png": "[encoded data removed]",
      "text/plain": [
       "<Figure size 432x288 with 1 Axes>"
      ]
     },
     "metadata": {
      "needs_background": "light"
     },
     "output_type": "display_data"
    }
   ],
   "source": [
    "sns.boxplot(x=data['sensors.altitude']).set_title('Altitude BoxPlot')"
   ]
  },
  {
   "cell_type": "markdown",
   "metadata": {},
   "source": [
    "#### Assign features only"
   ]
  },
  {
   "cell_type": "markdown",
   "metadata": {},
   "source": [
    "Feature altitude was deleted because it was giving negative values"
   ]
  },
  {
   "cell_type": "code",
   "execution_count": 102,
   "metadata": {},
   "outputs": [
    {
     "data": {
      "text/plain": [
       "<matplotlib.axes._subplots.AxesSubplot at 0x7fbf6976db80>"
      ]
     },
     "execution_count": 102,
     "metadata": {},
     "output_type": "execute_result"
    },
    {
     "data": {
      "image/png": "[encoded data removed]",
      "text/plain": [
       "<Figure size 432x288 with 1 Axes>"
      ]
     },
     "metadata": {
      "needs_background": "light"
     },
     "output_type": "display_data"
    }
   ],
   "source": [
    "features = data[['sensors.pm25','sensors.pm10','sensors.temperature', 'sensors.gas', 'sensors.humidity', 'sensors.pressure','sensors.classification']]\n",
    "features.boxplot()"
   ]
  },
  {
   "cell_type": "markdown",
   "metadata": {},
   "source": [
    "Now that we have spotted some outliers, its time to get rid of them"
   ]
  },
  {
   "cell_type": "markdown",
   "metadata": {},
   "source": [
    "#### Z-score method"
   ]
  },
  {
   "cell_type": "code",
   "execution_count": 138,
   "metadata": {},
   "outputs": [
    {
     "name": "stdout",
     "output_type": "stream",
     "text": [
      "[[3.85914793 3.69401374 1.44166969 ... 1.35436888 1.359603   4.18568991]\n",
      " [5.39597235 5.43043055 1.443897   ... 1.3547722  1.36001546 4.18568991]\n",
      " [4.92768612 4.95097218 1.44712275 ... 1.35540971 1.36066742 4.18568991]\n",
      " ...\n",
      " [0.2202593  0.21807419 0.09402166 ... 0.9321148  0.9317654  0.23890924]\n",
      " [0.2202593  0.21807419 0.07950575 ... 0.93190089 0.93155529 0.23890924]\n",
      " [0.2202593  0.21807419 0.06925245 ... 0.93238659 0.93203236 0.23890924]]\n"
     ]
    }
   ],
   "source": [
    "z = np.abs(stats.zscore(features))\n",
    "print(z)"
   ]
  },
  {
   "cell_type": "code",
   "execution_count": 139,
   "metadata": {},
   "outputs": [
    {
     "name": "stdout",
     "output_type": "stream",
     "text": [
      "(array([ 0,  0,  0,  1,  1,  1,  2,  2,  2,  3,  3,  3,  4,  4,  4,  5,  5,\n",
      "        5,  6,  6,  6,  7,  7,  8,  8,  8,  9,  9,  9, 10, 10, 10, 11, 11,\n",
      "       11, 12, 12, 12, 13, 13, 13, 14, 14, 14, 15, 16, 17, 17, 17, 18, 18,\n",
      "       18, 19, 20, 20, 20, 21, 21, 22, 23, 24]), array([0, 1, 7, 0, 1, 7, 0, 1, 7, 0, 1, 7, 0, 1, 7, 0, 1, 7, 0, 1, 7, 0,\n",
      "       7, 0, 1, 7, 0, 1, 7, 0, 1, 7, 0, 1, 7, 0, 1, 7, 0, 1, 7, 0, 1, 7,\n",
      "       7, 7, 0, 1, 7, 0, 1, 7, 7, 0, 1, 7, 1, 7, 7, 7, 7]))\n"
     ]
    }
   ],
   "source": [
    "threshold = 3\n",
    "print(np.where(z > threshold))"
   ]
  },
  {
   "cell_type": "code",
   "execution_count": 141,
   "metadata": {},
   "outputs": [
    {
     "name": "stdout",
     "output_type": "stream",
     "text": [
      "ANTES DE REMOVER:  (463, 8)\n",
      "DEPOIS DE REMOVER:  (438, 8)\n",
      "Removidos:  25\n"
     ]
    }
   ],
   "source": [
    "abs_z_scores = np.abs(z)\n",
    "filtered_entries = (abs_z_scores < threshold).all(axis=1)\n",
    "print(\"ANTES DE REMOVER: \",features.shape)\n",
    "featuresZ = features[filtered_entries]\n",
    "print(\"DEPOIS DE REMOVER: \",featuresClean.shape)\n",
    "print(\"Removidos: \", features.shape[0]-featuresClean.shape[0])"
   ]
  },
  {
   "cell_type": "markdown",
   "metadata": {},
   "source": [
    "#### IRQ method"
   ]
  },
  {
   "cell_type": "code",
   "execution_count": 142,
   "metadata": {},
   "outputs": [
    {
     "name": "stdout",
     "output_type": "stream",
     "text": [
      "sensors.pm25                  4.150000\n",
      "sensors.pm10                  4.750000\n",
      "sensors.temperature          10.608203\n",
      "sensors.gas               20496.000000\n",
      "sensors.humidity             21.707457\n",
      "sensors.pressure             42.604216\n",
      "sensors.altitude            359.861651\n",
      "sensors.classification        0.000000\n",
      "dtype: float64\n"
     ]
    }
   ],
   "source": [
    "Q1 = features.quantile(0.25)\n",
    "Q3 = features.quantile(0.75)\n",
    "IQR = Q3 - Q1\n",
    "print(IQR)"
   ]
  },
  {
   "cell_type": "code",
   "execution_count": 143,
   "metadata": {},
   "outputs": [
    {
     "name": "stdout",
     "output_type": "stream",
     "text": [
      "ANTES DE REMOVER:  (463, 8)\n",
      "DEPOIS DE REMOVER:  (376, 8)\n",
      "Removidos:  87\n"
     ]
    }
   ],
   "source": [
    "featuresIQR = features[~((features < (Q1 - 1.5 * IQR)) |(features > (Q3 + 1.5 * IQR))).any(axis=1)]\n",
    "print(\"ANTES DE REMOVER: \", features.shape)\n",
    "print(\"DEPOIS DE REMOVER: \", featuresIQR.shape)\n",
    "print(\"Removidos: \", features.shape[0]- featuresIQR.shape[0])\n",
    "#particles = particlesNow"
   ]
  },
  {
   "cell_type": "markdown",
   "metadata": {},
   "source": [
    "#### Assing Variables Without Outliers"
   ]
  },
  {
   "cell_type": "markdown",
   "metadata": {},
   "source": [
    "Here we have to assign the datasets WITHOUT OUTLIERS, in order to proceeed to normalization and standarization with correct values. We are going to use IQR since this is removing more data"
   ]
  },
  {
   "cell_type": "code",
   "execution_count": 144,
   "metadata": {},
   "outputs": [
    {
     "data": {
      "text/plain": [
       "(376, 8)"
      ]
     },
     "execution_count": 144,
     "metadata": {},
     "output_type": "execute_result"
    }
   ],
   "source": [
    "data = featuresIQR\n",
    "data.shape"
   ]
  },
  {
   "cell_type": "code",
   "execution_count": 148,
   "metadata": {},
   "outputs": [],
   "source": [
    "features = featuresIQR"
   ]
  },
  {
   "cell_type": "markdown",
   "metadata": {},
   "source": [
    "### 3.4 Normalização"
   ]
  },
  {
   "cell_type": "code",
   "execution_count": 103,
   "metadata": {},
   "outputs": [
    {
     "data": {
      "text/plain": [
       "(1980, 7)"
      ]
     },
     "execution_count": 103,
     "metadata": {},
     "output_type": "execute_result"
    }
   ],
   "source": [
    "# Normalization\n",
    "from sklearn.preprocessing import MinMaxScaler\n",
    "scaler = MinMaxScaler() # Create the Scaler\n",
    "minmax = pd.DataFrame(scaler.fit_transform(features.values), columns=features.columns, index=features.index)\n",
    "minmax.head()\n",
    "minmax.shape"
   ]
  },
  {
   "cell_type": "code",
   "execution_count": null,
   "metadata": {},
   "outputs": [],
   "source": []
  },
  {
   "cell_type": "markdown",
   "metadata": {},
   "source": [
    "### 3.5 Standarização"
   ]
  },
  {
   "cell_type": "code",
   "execution_count": 104,
   "metadata": {},
   "outputs": [
    {
     "data": {
      "text/plain": [
       "(1980, 7)"
      ]
     },
     "execution_count": 104,
     "metadata": {},
     "output_type": "execute_result"
    }
   ],
   "source": [
    "# Standarization\n",
    "from sklearn.preprocessing import StandardScaler\n",
    "scaler = StandardScaler() # Create Scaler\n",
    "standard = pd.DataFrame(scaler.fit_transform(features.values), columns=features.columns, index=features.index)\n",
    "standard.head()\n",
    "standard.shape"
   ]
  },
  {
   "cell_type": "markdown",
   "metadata": {},
   "source": [
    "## 4. Create clean data files\n",
    "The last step of the task is save the previous cleaned data, so that it can be used in the future."
   ]
  },
  {
   "cell_type": "markdown",
   "metadata": {},
   "source": [
    "Save data without outliers into 2 different files: normalized and standarized"
   ]
  },
  {
   "cell_type": "markdown",
   "metadata": {},
   "source": [
    "##### Clean Data"
   ]
  },
  {
   "cell_type": "code",
   "execution_count": 105,
   "metadata": {},
   "outputs": [],
   "source": [
    "data = features"
   ]
  },
  {
   "cell_type": "code",
   "execution_count": 106,
   "metadata": {},
   "outputs": [],
   "source": [
    "#Save clean csv\n",
    "data.to_csv('data/data.csv')"
   ]
  },
  {
   "cell_type": "markdown",
   "metadata": {},
   "source": [
    "#### Normalized -> MinMax"
   ]
  },
  {
   "cell_type": "code",
   "execution_count": 107,
   "metadata": {},
   "outputs": [],
   "source": [
    "#Save normalized csv \n",
    "minmax.to_csv('data/minmax.csv')"
   ]
  },
  {
   "cell_type": "markdown",
   "metadata": {},
   "source": [
    "#### Standarized -> Standard Scaler"
   ]
  },
  {
   "cell_type": "code",
   "execution_count": 108,
   "metadata": {},
   "outputs": [],
   "source": [
    "#Save standarized csv\n",
    "standard.to_csv('data/standarized.csv')"
   ]
  },
  {
   "cell_type": "code",
   "execution_count": null,
   "metadata": {},
   "outputs": [],
   "source": []
  }
 ],
 "metadata": {
  "kernelspec": {
   "display_name": "Python 3",
   "language": "python",
   "name": "python3"
  },
  "language_info": {
   "codemirror_mode": {
    "name": "ipython",
    "version": 3
   },
   "file_extension": ".py",
   "mimetype": "text/x-python",
   "name": "python",
   "nbconvert_exporter": "python",
   "pygments_lexer": "ipython3",
   "version": "3.8.3"
  }
 },
 "nbformat": 4,
 "nbformat_minor": 2
}
