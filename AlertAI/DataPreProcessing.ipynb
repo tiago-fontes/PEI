{
 "cells": [
  {
   "cell_type": "markdown",
   "metadata": {},
   "source": [
    "# AlertAI - Data Pre-Processing \n",
    "This notebook is responsible for the development of the data prepocessing unit that will in de future be integrated in the pipeline of AlertAI component in RideCare Project.\n",
    "\n",
    "#### by PEILoad"
   ]
  },
  {
   "cell_type": "markdown",
   "metadata": {},
   "source": [
    "### The steps of this task are:\n",
    "1. Import Required Libraries \n",
    "2. Acquire the Data\n",
    "3. Data Preparation\n",
    "4. Re-Write processed Data"
   ]
  },
  {
   "cell_type": "markdown",
   "metadata": {},
   "source": [
    "## 1. Import Libraries\n",
    "This section, as name says, is destined to import the libraries that will be used in the file."
   ]
  },
  {
   "cell_type": "code",
   "execution_count": 214,
   "metadata": {},
   "outputs": [],
   "source": [
    "import numpy as np\n",
    "import pandas as pd\n",
    "import math\n",
    "import sklearn\n",
    "import seaborn as sns\n",
    "import matplotlib.pyplot as plt\n",
    "from scipy import stats\n",
    "from sklearn.utils import shuffle"
   ]
  },
  {
   "cell_type": "markdown",
   "metadata": {},
   "source": [
    "## 2. Data Acquisition\n",
    "Step corresponding to gather the Data in order to manipulate it later on."
   ]
  },
  {
   "cell_type": "code",
   "execution_count": 41,
   "metadata": {},
   "outputs": [
    {
     "data": {
      "text/html": [
       "<div>\n",
       "<style scoped>\n",
       "    .dataframe tbody tr th:only-of-type {\n",
       "        vertical-align: middle;\n",
       "    }\n",
       "\n",
       "    .dataframe tbody tr th {\n",
       "        vertical-align: top;\n",
       "    }\n",
       "\n",
       "    .dataframe thead th {\n",
       "        text-align: right;\n",
       "    }\n",
       "</style>\n",
       "<table border=\"1\" class=\"dataframe\">\n",
       "  <thead>\n",
       "    <tr style=\"text-align: right;\">\n",
       "      <th></th>\n",
       "      <th>sensor1.id</th>\n",
       "      <th>sensor1.carId</th>\n",
       "      <th>sensor1.carLocation</th>\n",
       "      <th>sensor1.timeValue</th>\n",
       "      <th>sensor1.pm25</th>\n",
       "      <th>sensor1.pm10</th>\n",
       "    </tr>\n",
       "  </thead>\n",
       "  <tbody>\n",
       "    <tr>\n",
       "      <th>0</th>\n",
       "      <td>15</td>\n",
       "      <td>VP-35-44</td>\n",
       "      <td>41.5608 -8.3968</td>\n",
       "      <td>2020-11-20 14:30:59</td>\n",
       "      <td>2.4</td>\n",
       "      <td>5.5</td>\n",
       "    </tr>\n",
       "    <tr>\n",
       "      <th>1</th>\n",
       "      <td>14</td>\n",
       "      <td>VP-35-44</td>\n",
       "      <td>41.5608 -8.3968</td>\n",
       "      <td>2020-11-20 14:22:31</td>\n",
       "      <td>2.3</td>\n",
       "      <td>4.5</td>\n",
       "    </tr>\n",
       "    <tr>\n",
       "      <th>2</th>\n",
       "      <td>13</td>\n",
       "      <td>VP-35-44</td>\n",
       "      <td>41.5608 -8.3968</td>\n",
       "      <td>2020-11-20 14:22:20</td>\n",
       "      <td>2.3</td>\n",
       "      <td>4.5</td>\n",
       "    </tr>\n",
       "    <tr>\n",
       "      <th>3</th>\n",
       "      <td>12</td>\n",
       "      <td>VP-35-44</td>\n",
       "      <td>41.5608 -8.3968</td>\n",
       "      <td>2020-11-20 14:22:10</td>\n",
       "      <td>2.3</td>\n",
       "      <td>4.5</td>\n",
       "    </tr>\n",
       "    <tr>\n",
       "      <th>4</th>\n",
       "      <td>11</td>\n",
       "      <td>VP-35-44</td>\n",
       "      <td>41.5608 -8.3968</td>\n",
       "      <td>2020-11-20 11:52:56</td>\n",
       "      <td>2.5</td>\n",
       "      <td>4.8</td>\n",
       "    </tr>\n",
       "  </tbody>\n",
       "</table>\n",
       "</div>"
      ],
      "text/plain": [
       "   sensor1.id sensor1.carId sensor1.carLocation    sensor1.timeValue  \\\n",
       "0          15      VP-35-44     41.5608 -8.3968  2020-11-20 14:30:59   \n",
       "1          14      VP-35-44     41.5608 -8.3968  2020-11-20 14:22:31   \n",
       "2          13      VP-35-44     41.5608 -8.3968  2020-11-20 14:22:20   \n",
       "3          12      VP-35-44     41.5608 -8.3968  2020-11-20 14:22:10   \n",
       "4          11      VP-35-44     41.5608 -8.3968  2020-11-20 11:52:56   \n",
       "\n",
       "   sensor1.pm25  sensor1.pm10  \n",
       "0           2.4           5.5  \n",
       "1           2.3           4.5  \n",
       "2           2.3           4.5  \n",
       "3           2.3           4.5  \n",
       "4           2.5           4.8  "
      ]
     },
     "execution_count": 41,
     "metadata": {},
     "output_type": "execute_result"
    }
   ],
   "source": [
    "dataSensor1 = pd.read_csv(\"sensor1_raw.csv\") \n",
    "dataSensor2 = pd.read_csv(\"sensor2_raw.csv\") \n",
    "dataSensor1.head()"
   ]
  },
  {
   "cell_type": "markdown",
   "metadata": {},
   "source": [
    "## 3. Data Pre-processing\n",
    "Where the \"magic\" happens!\n",
    "Section where the data will be cleaned and ready to fill de model."
   ]
  },
  {
   "cell_type": "markdown",
   "metadata": {},
   "source": [
    "### 3.1 Null Values Verification & Elimination"
   ]
  },
  {
   "cell_type": "markdown",
   "metadata": {},
   "source": [
    "Here we are going to validate the datasets: checking if there are missing values and try to avoid them: deleting or replace them for the most common values of the respectively feature"
   ]
  },
  {
   "cell_type": "code",
   "execution_count": 27,
   "metadata": {},
   "outputs": [
    {
     "name": "stdout",
     "output_type": "stream",
     "text": [
      "Dataset1: Missing values  0\n",
      "Dataset2: Missing values  0\n"
     ]
    }
   ],
   "source": [
    "#Missing values verification for whole dataset\n",
    "nullValues1 = dataSensor1.isnull().values.sum()\n",
    "nullValues2 = dataSensor2.isnull().values.sum()\n",
    "\n",
    "print(\"Dataset1: Missing values \",nullValues1)\n",
    "print(\"Dataset2: Missing values \", nullValues2)"
   ]
  },
  {
   "cell_type": "code",
   "execution_count": 28,
   "metadata": {},
   "outputs": [],
   "source": [
    "#Missing values for each feature"
   ]
  },
  {
   "cell_type": "code",
   "execution_count": 29,
   "metadata": {},
   "outputs": [
    {
     "name": "stdout",
     "output_type": "stream",
     "text": [
      "---------Dataset Sensor 1 ------------\n",
      "sensor1.id             0\n",
      "sensor1.carId          0\n",
      "sensor1.carLocation    0\n",
      "sensor1.timeValue      0\n",
      "sensor1.pm25           0\n",
      "sensor1.pm10           0\n",
      "dtype: int64\n",
      "---------Dataset Sensor 2 ------------\n",
      "sensor2.id             0\n",
      "sensor2.carId          0\n",
      "sensor2.carLocation    0\n",
      "sensor2.timeValue      0\n",
      "sensor2.temperature    0\n",
      "sensor2.gas            0\n",
      "sensor2.humidity       0\n",
      "sensor2.pressure       0\n",
      "sensor2.altitude       0\n",
      "dtype: int64\n"
     ]
    }
   ],
   "source": [
    "print(\"---------Dataset Sensor 1 ------------\")\n",
    "print(dataSensor1.isnull().sum())\n",
    "print(\"---------Dataset Sensor 2 ------------\")\n",
    "print(dataSensor2.isnull().sum())"
   ]
  },
  {
   "cell_type": "code",
   "execution_count": 30,
   "metadata": {},
   "outputs": [],
   "source": [
    "#Describe the dataset for more realistic informations about features"
   ]
  },
  {
   "cell_type": "code",
   "execution_count": 31,
   "metadata": {},
   "outputs": [
    {
     "name": "stdout",
     "output_type": "stream",
     "text": [
      "        sensor1.id sensor1.carId sensor1.carLocation    sensor1.timeValue  \\\n",
      "count    15.000000            15                  15                   15   \n",
      "unique         NaN             1                   1                   15   \n",
      "top            NaN      VP-35-44     41.5608 -8.3968  2020-11-20 11:51:51   \n",
      "freq           NaN            15                  15                    1   \n",
      "mean      8.000000           NaN                 NaN                  NaN   \n",
      "std       4.472136           NaN                 NaN                  NaN   \n",
      "min       1.000000           NaN                 NaN                  NaN   \n",
      "25%       4.500000           NaN                 NaN                  NaN   \n",
      "50%       8.000000           NaN                 NaN                  NaN   \n",
      "75%      11.500000           NaN                 NaN                  NaN   \n",
      "max      15.000000           NaN                 NaN                  NaN   \n",
      "\n",
      "        sensor1.pm25  sensor1.pm10  \n",
      "count      15.000000     15.000000  \n",
      "unique           NaN           NaN  \n",
      "top              NaN           NaN  \n",
      "freq             NaN           NaN  \n",
      "mean        2.400000      5.093333  \n",
      "std         0.136277      0.339046  \n",
      "min         2.300000      4.500000  \n",
      "25%         2.300000      5.000000  \n",
      "50%         2.300000      5.200000  \n",
      "75%         2.550000      5.300000  \n",
      "max         2.600000      5.500000  \n"
     ]
    }
   ],
   "source": [
    "print(dataSensor1.describe(include='all'))"
   ]
  },
  {
   "cell_type": "markdown",
   "metadata": {},
   "source": [
    "### 3.2 NaN Verification & Elimination"
   ]
  },
  {
   "cell_type": "markdown",
   "metadata": {},
   "source": [
    "In this subsection we are going to verify the existance of NaN values. Tipically, they can cause some troubles \n",
    "ahead - so it is important to handle them now"
   ]
  },
  {
   "cell_type": "code",
   "execution_count": 42,
   "metadata": {},
   "outputs": [
    {
     "name": "stdout",
     "output_type": "stream",
     "text": [
      "NAN Finder: \n",
      " Sensor1: 0 \n",
      " Sensor2: 0 \n"
     ]
    }
   ],
   "source": [
    "NaNSensor1 = dataSensor1.isna().sum()\n",
    "NaNSensor2 = dataSensor2.isna().sum()\n",
    "print(\"NAN Finder: \\n Sensor1: %s \\n Sensor2: %s \" % (NaNSensor1.sum(),NaNSensor2.sum()))"
   ]
  },
  {
   "cell_type": "markdown",
   "metadata": {},
   "source": [
    "Lets drop all the Nan Found "
   ]
  },
  {
   "cell_type": "code",
   "execution_count": 49,
   "metadata": {},
   "outputs": [
    {
     "name": "stdout",
     "output_type": "stream",
     "text": [
      "Sensor1: \n",
      " Antes -> 15 \n",
      " Depois 15 \n",
      " \n",
      " Sensor2: \n",
      " Antes ->  15 \n",
      " Depois -> 15 \n",
      "\n",
      "\n",
      "Foram removidos: \n",
      " Sensor1: 0 \n",
      " Sensor2: 0\n"
     ]
    }
   ],
   "source": [
    "dataSensor1Clean = dataSensor1.dropna()\n",
    "dataSensor2Clean = dataSensor2.dropna()\n",
    "print(\"Sensor1: \\n Antes -> %s \\n Depois %s \\n \\n Sensor2: \\n Antes ->  %s \\n Depois -> %s \" % (dataSensor1.shape[0],dataSensor1Clean.shape[0],dataSensor2.shape[0],dataSensor2Clean.shape[0]))\n",
    "print(\"\\n\")\n",
    "print(\"Foram removidos: \\n Sensor1: %s \\n Sensor2: %s\" % (dataSensor1.shape[0]-dataSensor1Clean.shape[0],dataSensor2.shape[0]-dataSensor2Clean.shape[0]))"
   ]
  },
  {
   "cell_type": "markdown",
   "metadata": {},
   "source": [
    "Finally, we present a brief visual representation of how our datasets are composed in termos of unwanted values"
   ]
  },
  {
   "cell_type": "code",
   "execution_count": 50,
   "metadata": {},
   "outputs": [],
   "source": [
    "#Assign the same variables for not making mistakes further\n",
    "dataSensor1 = dataSensor1Clean\n",
    "dataSensor2 = dataSensor2Clean"
   ]
  },
  {
   "cell_type": "code",
   "execution_count": 60,
   "metadata": {},
   "outputs": [
    {
     "name": "stdout",
     "output_type": "stream",
     "text": [
      "Sensor 1\n",
      "sensor1.id             0\n",
      "sensor1.carId          0\n",
      "sensor1.carLocation    0\n",
      "sensor1.timeValue      0\n",
      "sensor1.pm25           0\n",
      "sensor1.pm10           0\n",
      "dtype: int64\n",
      "<class 'pandas.core.frame.DataFrame'>\n",
      "Int64Index: 15 entries, 0 to 14\n",
      "Data columns (total 6 columns):\n",
      " #   Column               Non-Null Count  Dtype  \n",
      "---  ------               --------------  -----  \n",
      " 0   sensor1.id           15 non-null     int64  \n",
      " 1   sensor1.carId        15 non-null     object \n",
      " 2   sensor1.carLocation  15 non-null     object \n",
      " 3   sensor1.timeValue    15 non-null     object \n",
      " 4   sensor1.pm25         15 non-null     float64\n",
      " 5   sensor1.pm10         15 non-null     float64\n",
      "dtypes: float64(2), int64(1), object(3)\n",
      "memory usage: 840.0+ bytes\n"
     ]
    },
    {
     "data": {
      "image/png": "[encoded data removed]",
      "text/plain": [
       "<Figure size 432x288 with 1 Axes>"
      ]
     },
     "metadata": {
      "needs_background": "light"
     },
     "output_type": "display_data"
    }
   ],
   "source": [
    "print(\"Sensor 1\")\n",
    "sns.heatmap(dataSensor1.isnull(), cbar=False)\n",
    "dataSensor1.info()"
   ]
  },
  {
   "cell_type": "code",
   "execution_count": 83,
   "metadata": {},
   "outputs": [
    {
     "name": "stdout",
     "output_type": "stream",
     "text": [
      "Sensor 2\n",
      "<class 'pandas.core.frame.DataFrame'>\n",
      "Int64Index: 15 entries, 0 to 14\n",
      "Data columns (total 9 columns):\n",
      " #   Column               Non-Null Count  Dtype  \n",
      "---  ------               --------------  -----  \n",
      " 0   sensor2.id           15 non-null     int64  \n",
      " 1   sensor2.carId        15 non-null     object \n",
      " 2   sensor2.carLocation  15 non-null     object \n",
      " 3   sensor2.timeValue    15 non-null     object \n",
      " 4   sensor2.temperature  15 non-null     float64\n",
      " 5   sensor2.gas          15 non-null     int64  \n",
      " 6   sensor2.humidity     15 non-null     float64\n",
      " 7   sensor2.pressure     15 non-null     float64\n",
      " 8   sensor2.altitude     15 non-null     float64\n",
      "dtypes: float64(4), int64(2), object(3)\n",
      "memory usage: 1.2+ KB\n"
     ]
    },
    {
     "data": {
      "image/png": "[encoded data removed]",
      "text/plain": [
       "<Figure size 432x288 with 1 Axes>"
      ]
     },
     "metadata": {
      "needs_background": "light"
     },
     "output_type": "display_data"
    }
   ],
   "source": [
    "print(\"Sensor 2\")\n",
    "sns.heatmap(dataSensor1.isnull(), cbar=False)\n",
    "dataSensor2.info()"
   ]
  },
  {
   "cell_type": "markdown",
   "metadata": {},
   "source": [
    "### 3.3 Outliers"
   ]
  },
  {
   "cell_type": "markdown",
   "metadata": {},
   "source": [
    "Here we are going to check if there are any outlier in our dataframes, and handle with them "
   ]
  },
  {
   "cell_type": "markdown",
   "metadata": {},
   "source": [
    "#### Sensor 1"
   ]
  },
  {
   "cell_type": "code",
   "execution_count": 80,
   "metadata": {},
   "outputs": [
    {
     "name": "stdout",
     "output_type": "stream",
     "text": [
      "Sensor1 BoxPlot\n"
     ]
    },
    {
     "data": {
      "text/plain": [
       "<matplotlib.axes._subplots.AxesSubplot at 0x7fd6d68930d0>"
      ]
     },
     "execution_count": 80,
     "metadata": {},
     "output_type": "execute_result"
    },
    {
     "data": {
      "image/png": "[encoded data removed]",
      "text/plain": [
       "<Figure size 432x288 with 1 Axes>"
      ]
     },
     "metadata": {
      "needs_background": "light"
     },
     "output_type": "display_data"
    }
   ],
   "source": [
    "print(\"Sensor1 BoxPlot\")\n",
    "sns.boxplot(x=dataSensor1['sensor1.pm25'])"
   ]
  },
  {
   "cell_type": "code",
   "execution_count": 81,
   "metadata": {},
   "outputs": [
    {
     "data": {
      "text/plain": [
       "<matplotlib.axes._subplots.AxesSubplot at 0x7fd6db6cd940>"
      ]
     },
     "execution_count": 81,
     "metadata": {},
     "output_type": "execute_result"
    },
    {
     "data": {
      "image/png": "[encoded data removed]",
      "text/plain": [
       "<Figure size 432x288 with 1 Axes>"
      ]
     },
     "metadata": {
      "needs_background": "light"
     },
     "output_type": "display_data"
    }
   ],
   "source": [
    "sns.boxplot(x=dataSensor1['sensor1.pm10'])"
   ]
  },
  {
   "cell_type": "code",
   "execution_count": 77,
   "metadata": {},
   "outputs": [
    {
     "data": {
      "text/plain": [
       "<matplotlib.axes._subplots.AxesSubplot at 0x7fd6db664940>"
      ]
     },
     "execution_count": 77,
     "metadata": {},
     "output_type": "execute_result"
    },
    {
     "data": {
      "image/png": "[encoded data removed]",
      "text/plain": [
       "<Figure size 432x288 with 1 Axes>"
      ]
     },
     "metadata": {
      "needs_background": "light"
     },
     "output_type": "display_data"
    }
   ],
   "source": [
    "particles = dataSensor1[['sensor1.pm25', 'sensor1.pm10']]\n",
    "particles.boxplot()"
   ]
  },
  {
   "cell_type": "markdown",
   "metadata": {},
   "source": [
    "#### Sensor 2"
   ]
  },
  {
   "cell_type": "code",
   "execution_count": 84,
   "metadata": {},
   "outputs": [
    {
     "name": "stdout",
     "output_type": "stream",
     "text": [
      "Sensor2 BoxPlot\n"
     ]
    },
    {
     "data": {
      "text/plain": [
       "<matplotlib.axes._subplots.AxesSubplot at 0x7fd6db7ad1f0>"
      ]
     },
     "execution_count": 84,
     "metadata": {},
     "output_type": "execute_result"
    },
    {
     "data": {
      "image/png": "[encoded data removed]",
      "text/plain": [
       "<Figure size 432x288 with 1 Axes>"
      ]
     },
     "metadata": {
      "needs_background": "light"
     },
     "output_type": "display_data"
    }
   ],
   "source": [
    "print(\"Sensor2 BoxPlot\")\n",
    "sns.boxplot(x=dataSensor2['sensor2.temperature'])"
   ]
  },
  {
   "cell_type": "code",
   "execution_count": 87,
   "metadata": {},
   "outputs": [
    {
     "data": {
      "text/plain": [
       "<matplotlib.axes._subplots.AxesSubplot at 0x7fd6dcbc7490>"
      ]
     },
     "execution_count": 87,
     "metadata": {},
     "output_type": "execute_result"
    },
    {
     "data": {
      "image/png": "[encoded data removed]",
      "text/plain": [
       "<Figure size 432x288 with 1 Axes>"
      ]
     },
     "metadata": {
      "needs_background": "light"
     },
     "output_type": "display_data"
    }
   ],
   "source": [
    "sns.boxplot(x=dataSensor2['sensor2.gas'])"
   ]
  },
  {
   "cell_type": "code",
   "execution_count": 88,
   "metadata": {},
   "outputs": [
    {
     "data": {
      "text/plain": [
       "<matplotlib.axes._subplots.AxesSubplot at 0x7fd6dcc04eb0>"
      ]
     },
     "execution_count": 88,
     "metadata": {},
     "output_type": "execute_result"
    },
    {
     "data": {
      "image/png": "[encoded data removed]",
      "text/plain": [
       "<Figure size 432x288 with 1 Axes>"
      ]
     },
     "metadata": {
      "needs_background": "light"
     },
     "output_type": "display_data"
    }
   ],
   "source": [
    "sns.boxplot(x=dataSensor2['sensor2.humidity'])"
   ]
  },
  {
   "cell_type": "code",
   "execution_count": 89,
   "metadata": {},
   "outputs": [
    {
     "data": {
      "text/plain": [
       "<matplotlib.axes._subplots.AxesSubplot at 0x7fd6dcc61a00>"
      ]
     },
     "execution_count": 89,
     "metadata": {},
     "output_type": "execute_result"
    },
    {
     "data": {
      "image/png": "[encoded data removed]",
      "text/plain": [
       "<Figure size 432x288 with 1 Axes>"
      ]
     },
     "metadata": {
      "needs_background": "light"
     },
     "output_type": "display_data"
    }
   ],
   "source": [
    "sns.boxplot(x=dataSensor2['sensor2.pressure'])"
   ]
  },
  {
   "cell_type": "code",
   "execution_count": 90,
   "metadata": {},
   "outputs": [
    {
     "data": {
      "text/plain": [
       "<matplotlib.axes._subplots.AxesSubplot at 0x7fd6dcca9130>"
      ]
     },
     "execution_count": 90,
     "metadata": {},
     "output_type": "execute_result"
    },
    {
     "data": {
      "image/png": "[encoded data removed]",
      "text/plain": [
       "<Figure size 432x288 with 1 Axes>"
      ]
     },
     "metadata": {
      "needs_background": "light"
     },
     "output_type": "display_data"
    }
   ],
   "source": [
    "sns.boxplot(x=dataSensor2['sensor2.altitude'])"
   ]
  },
  {
   "cell_type": "code",
   "execution_count": 93,
   "metadata": {},
   "outputs": [
    {
     "data": {
      "text/plain": [
       "<matplotlib.axes._subplots.AxesSubplot at 0x7fd6dcd4dc70>"
      ]
     },
     "execution_count": 93,
     "metadata": {},
     "output_type": "execute_result"
    },
    {
     "data": {
      "image/png": "[encoded data removed]",
      "text/plain": [
       "<Figure size 432x288 with 1 Axes>"
      ]
     },
     "metadata": {
      "needs_background": "light"
     },
     "output_type": "display_data"
    }
   ],
   "source": [
    "metrics = dataSensor2[['sensor2.temperature', 'sensor2.gas', 'sensor2.humidity', 'sensor2.pressure', 'sensor2.altitude']]\n",
    "metrics.boxplot()"
   ]
  },
  {
   "cell_type": "markdown",
   "metadata": {},
   "source": [
    "Now that we have spotted some outliers, its time to get rid of them"
   ]
  },
  {
   "cell_type": "markdown",
   "metadata": {},
   "source": [
    "#### Z-score method"
   ]
  },
  {
   "cell_type": "code",
   "execution_count": 132,
   "metadata": {},
   "outputs": [],
   "source": [
    "outliers=[]\n",
    "def detect_outlier(data_1):\n",
    "    \n",
    "    threshold=3\n",
    "    mean_1 = np.mean(data_1)\n",
    "    std_1 =np.std(data_1)\n",
    "    \n",
    "    \n",
    "    for y in data_1:\n",
    "        z_score= (y - mean_1)/std_1 \n",
    "        if np.abs(z_score) > threshold:\n",
    "            outliers.append(y)\n",
    "    return outliers"
   ]
  },
  {
   "cell_type": "markdown",
   "metadata": {},
   "source": [
    "##### Sensor1"
   ]
  },
  {
   "cell_type": "code",
   "execution_count": 96,
   "metadata": {},
   "outputs": [
    {
     "name": "stdout",
     "output_type": "stream",
     "text": [
      "[[0.         1.24154139]\n",
      " [0.75955453 1.81142924]\n",
      " [0.75955453 1.81142924]\n",
      " [0.75955453 1.81142924]\n",
      " [0.75955453 0.89553805]\n",
      " [0.75955453 0.63094726]\n",
      " [0.75955453 0.63094726]\n",
      " [0.75955453 0.63094726]\n",
      " [0.75955453 0.63094726]\n",
      " [0.75955453 0.63094726]\n",
      " [0.75955453 0.63094726]\n",
      " [1.51910905 0.3256502 ]\n",
      " [1.51910905 0.3256502 ]\n",
      " [1.51910905 0.3256502 ]\n",
      " [1.51910905 0.3256502 ]]\n"
     ]
    }
   ],
   "source": [
    "z = np.abs(stats.zscore(particles))\n",
    "print(z)"
   ]
  },
  {
   "cell_type": "code",
   "execution_count": 131,
   "metadata": {},
   "outputs": [
    {
     "name": "stdout",
     "output_type": "stream",
     "text": [
      "(array([], dtype=int64), array([], dtype=int64))\n"
     ]
    }
   ],
   "source": [
    "threshold = 3\n",
    "print(np.where(z > threshold))"
   ]
  },
  {
   "cell_type": "code",
   "execution_count": 133,
   "metadata": {},
   "outputs": [
    {
     "name": "stdout",
     "output_type": "stream",
     "text": [
      "Outliers de sensor1.pm25: []\n",
      "Outliers de sensor1.pm10: []\n"
     ]
    }
   ],
   "source": [
    "for colum in particles:\n",
    "    print(\"Outliers de %s: %s\" % (colum,detect_outlier(particles[colum])))"
   ]
  },
  {
   "cell_type": "markdown",
   "metadata": {},
   "source": [
    "##### Sensor2"
   ]
  },
  {
   "cell_type": "code",
   "execution_count": 128,
   "metadata": {},
   "outputs": [
    {
     "name": "stdout",
     "output_type": "stream",
     "text": [
      "[[1.69120839 1.78125445 2.12994506 1.73479552 1.73485834]\n",
      " [1.65375036 0.86864518 1.52965858 1.61092404 1.61088565]\n",
      " [1.64406294 1.27434563 1.5171999  1.64761018 1.64760062]\n",
      " [1.6408338  1.63914827 1.35695189 1.63767367 1.63765621]\n",
      " [0.55304409 1.0830944  0.50634919 0.58543496 0.58544869]\n",
      " [0.55950237 0.89911765 0.48019115 0.58964465 0.58965503]\n",
      " [0.56983562 0.62251812 0.53808978 0.58973694 0.58974725]\n",
      " [0.5762939  0.348139   0.55079743 0.59394654 0.59395348]\n",
      " [0.58662715 0.05694821 0.5309615  0.59990026 0.59990242]\n",
      " [0.59696039 0.22282334 0.55647653 0.60390004 0.60389898]\n",
      " [0.61181444 0.52638498 0.56238076 0.60732941 0.60732558]\n",
      " [0.62731431 0.85468832 0.61362225 0.61039804 0.61039172]\n",
      " [0.64216836 1.11162137 0.65841963 0.60991952 0.60991359]\n",
      " [0.65250161 1.39424772 0.73582646 0.61587267 0.61586189]\n",
      " [0.65379326 0.17746355 0.80064076 0.62492039 0.6249022 ]]\n"
     ]
    }
   ],
   "source": [
    "z = np.abs(stats.zscore(metrics))\n",
    "print(z)"
   ]
  },
  {
   "cell_type": "code",
   "execution_count": 134,
   "metadata": {},
   "outputs": [
    {
     "name": "stdout",
     "output_type": "stream",
     "text": [
      "(array([], dtype=int64), array([], dtype=int64))\n"
     ]
    }
   ],
   "source": [
    "print(np.where(z > threshold))"
   ]
  },
  {
   "cell_type": "code",
   "execution_count": 135,
   "metadata": {},
   "outputs": [
    {
     "name": "stdout",
     "output_type": "stream",
     "text": [
      "Outliers de sensor2.temperature: []\n",
      "Outliers de sensor2.gas: []\n",
      "Outliers de sensor2.humidity: []\n",
      "Outliers de sensor2.pressure: []\n",
      "Outliers de sensor2.altitude: []\n"
     ]
    }
   ],
   "source": [
    "for colum in metrics:\n",
    "    print(\"Outliers de %s: %s\" % (colum,detect_outlier(metrics[colum])))"
   ]
  },
  {
   "cell_type": "markdown",
   "metadata": {},
   "source": [
    "#### IRQ method"
   ]
  },
  {
   "cell_type": "code",
   "execution_count": 212,
   "metadata": {},
   "outputs": [],
   "source": [
    "def iqr_outlier_finder(data):\n",
    "    outlier =[] \n",
    "    for x in data: \n",
    "        if ((x> upper_bound) or (x<lower_bound)): \n",
    "             outlier.append(x)\n",
    "    return outlier"
   ]
  },
  {
   "cell_type": "markdown",
   "metadata": {},
   "source": [
    "##### Sensor 1"
   ]
  },
  {
   "cell_type": "code",
   "execution_count": 208,
   "metadata": {},
   "outputs": [],
   "source": [
    "particlesSorted = shuffle(particles)"
   ]
  },
  {
   "cell_type": "code",
   "execution_count": 209,
   "metadata": {},
   "outputs": [],
   "source": [
    "q1, q3= np.percentile(particlesSorted,[25,75])"
   ]
  },
  {
   "cell_type": "code",
   "execution_count": 210,
   "metadata": {},
   "outputs": [],
   "source": [
    "iqr = q3 - q1"
   ]
  },
  {
   "cell_type": "code",
   "execution_count": 211,
   "metadata": {},
   "outputs": [
    {
     "name": "stdout",
     "output_type": "stream",
     "text": [
      "-2.0500000000000007\n",
      "9.55\n"
     ]
    }
   ],
   "source": [
    "lower_bound = q1 -(1.5 * iqr)\n",
    "print(lower_bound)\n",
    "upper_bound = q3 +(1.5 * iqr)\n",
    "print(upper_bound)"
   ]
  },
  {
   "cell_type": "code",
   "execution_count": 213,
   "metadata": {},
   "outputs": [
    {
     "name": "stdout",
     "output_type": "stream",
     "text": [
      " outlier in the sensor1.pm25 is 0\n",
      " outlier in the sensor1.pm10 is 0\n"
     ]
    }
   ],
   "source": [
    "for colum in particlesSorted:\n",
    "    outs = iqr_outlier_finder(particlesSorted[colum])\n",
    "    print(' outlier in the %s is %s' % (colum, len(outs))) "
   ]
  },
  {
   "cell_type": "markdown",
   "metadata": {},
   "source": [
    "##### Sensor 2"
   ]
  },
  {
   "cell_type": "code",
   "execution_count": 216,
   "metadata": {},
   "outputs": [],
   "source": [
    "metricsSorted = shuffle(metrics)"
   ]
  },
  {
   "cell_type": "code",
   "execution_count": 217,
   "metadata": {},
   "outputs": [],
   "source": [
    "q1, q3= np.percentile(metricsSorted,[25,75])"
   ]
  },
  {
   "cell_type": "code",
   "execution_count": 218,
   "metadata": {},
   "outputs": [],
   "source": [
    "iqr = q3 - q1"
   ]
  },
  {
   "cell_type": "code",
   "execution_count": 219,
   "metadata": {},
   "outputs": [
    {
     "name": "stdout",
     "output_type": "stream",
     "text": [
      "-1393.9651802140702\n",
      "2447.716979136234\n"
     ]
    }
   ],
   "source": [
    "lower_bound = q1 -(1.5 * iqr)\n",
    "print(lower_bound)\n",
    "upper_bound = q3 +(1.5 * iqr)\n",
    "print(upper_bound)"
   ]
  },
  {
   "cell_type": "code",
   "execution_count": 220,
   "metadata": {},
   "outputs": [
    {
     "name": "stdout",
     "output_type": "stream",
     "text": [
      " outlier in the sensor2.temperature is 0\n",
      " outlier in the sensor2.gas is 15\n",
      " outlier in the sensor2.humidity is 0\n",
      " outlier in the sensor2.pressure is 0\n",
      " outlier in the sensor2.altitude is 0\n"
     ]
    }
   ],
   "source": [
    "for colum in metricsSorted:\n",
    "    outs = iqr_outlier_finder(metricsSorted[colum])\n",
    "    print(' outlier in the %s is %s' % (colum, len(outs))) "
   ]
  },
  {
   "cell_type": "markdown",
   "metadata": {},
   "source": [
    "### 3.4 Normalização"
   ]
  },
  {
   "cell_type": "code",
   "execution_count": null,
   "metadata": {},
   "outputs": [],
   "source": []
  },
  {
   "cell_type": "code",
   "execution_count": null,
   "metadata": {},
   "outputs": [],
   "source": []
  },
  {
   "cell_type": "code",
   "execution_count": null,
   "metadata": {},
   "outputs": [],
   "source": []
  },
  {
   "cell_type": "code",
   "execution_count": null,
   "metadata": {},
   "outputs": [],
   "source": []
  },
  {
   "cell_type": "markdown",
   "metadata": {},
   "source": [
    "## 4. Create clean data files\n",
    "The last step of the task is save the previous cleaned data, so that it can be used in the future."
   ]
  },
  {
   "cell_type": "code",
   "execution_count": null,
   "metadata": {},
   "outputs": [],
   "source": []
  }
 ],
 "metadata": {
  "kernelspec": {
   "display_name": "Python 3",
   "language": "python",
   "name": "python3"
  },
  "language_info": {
   "codemirror_mode": {
    "name": "ipython",
    "version": 3
   },
   "file_extension": ".py",
   "mimetype": "text/x-python",
   "name": "python",
   "nbconvert_exporter": "python",
   "pygments_lexer": "ipython3",
   "version": "3.8.3"
  }
 },
 "nbformat": 4,
 "nbformat_minor": 2
}
