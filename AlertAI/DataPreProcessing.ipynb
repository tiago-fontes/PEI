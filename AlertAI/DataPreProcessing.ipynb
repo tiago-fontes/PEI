{
 "cells": [
  {
   "cell_type": "markdown",
   "metadata": {},
   "source": [
    "# AlertAI - Data Pre-Processing \n",
    "This notebook is responsible for the development of the data prepocessing unit that will in de future be integrated in the pipeline of AlertAI component in RideCare Project.\n",
    "\n",
    "#### by PEILoad"
   ]
  },
  {
   "cell_type": "markdown",
   "metadata": {},
   "source": [
    "### The steps of this task are:\n",
    "1. Import Required Libraries \n",
    "2. Acquire the Data\n",
    "3. Data Preparation\n",
    "4. Re-Write processed Data"
   ]
  },
  {
   "cell_type": "markdown",
   "metadata": {},
   "source": [
    "## 1. Import Libraries\n",
    "This section, as name says, is destined to import the libraries that will be used in the file."
   ]
  },
  {
   "cell_type": "code",
   "execution_count": 135,
   "metadata": {},
   "outputs": [],
   "source": [
    "import numpy as np\n",
    "import pandas as pd\n",
    "import math\n",
    "import sklearn\n",
    "import seaborn as sns\n",
    "import matplotlib.pyplot as plt\n",
    "from scipy import stats\n",
    "from sklearn.utils import shuffle"
   ]
  },
  {
   "cell_type": "markdown",
   "metadata": {},
   "source": [
    "## 2. Data Acquisition\n",
    "Step corresponding to gather the Data in order to manipulate it later on."
   ]
  },
  {
   "cell_type": "code",
   "execution_count": 136,
   "metadata": {},
   "outputs": [
    {
     "data": {
      "text/html": [
       "<div>\n",
       "<style scoped>\n",
       "    .dataframe tbody tr th:only-of-type {\n",
       "        vertical-align: middle;\n",
       "    }\n",
       "\n",
       "    .dataframe tbody tr th {\n",
       "        vertical-align: top;\n",
       "    }\n",
       "\n",
       "    .dataframe thead th {\n",
       "        text-align: right;\n",
       "    }\n",
       "</style>\n",
       "<table border=\"1\" class=\"dataframe\">\n",
       "  <thead>\n",
       "    <tr style=\"text-align: right;\">\n",
       "      <th></th>\n",
       "      <th>sensors.id</th>\n",
       "      <th>sensors.carId</th>\n",
       "      <th>sensors.carLocation</th>\n",
       "      <th>sensors.timeValue</th>\n",
       "      <th>sensors.pm25</th>\n",
       "      <th>sensors.pm10</th>\n",
       "      <th>sensors.temperature</th>\n",
       "      <th>sensors.gas</th>\n",
       "      <th>sensors.humidity</th>\n",
       "      <th>sensors.pressure</th>\n",
       "      <th>sensors.altitude</th>\n",
       "      <th>sensors.tags</th>\n",
       "      <th>sensors.classification</th>\n",
       "    </tr>\n",
       "  </thead>\n",
       "  <tbody>\n",
       "    <tr>\n",
       "      <th>0</th>\n",
       "      <td>518</td>\n",
       "      <td>66-ZZ-66</td>\n",
       "      <td>41.5608 -8.3968</td>\n",
       "      <td>2020-11-28 18:29:15</td>\n",
       "      <td>644.6</td>\n",
       "      <td>1191.0</td>\n",
       "      <td>14.075117</td>\n",
       "      <td>15504</td>\n",
       "      <td>64.529485</td>\n",
       "      <td>967.846065</td>\n",
       "      <td>385.068009</td>\n",
       "      <td>Existência de fumo, vidros fechados, AC desligado</td>\n",
       "      <td>1</td>\n",
       "    </tr>\n",
       "    <tr>\n",
       "      <th>1</th>\n",
       "      <td>517</td>\n",
       "      <td>66-ZZ-66</td>\n",
       "      <td>41.5608 -8.3968</td>\n",
       "      <td>2020-11-28 18:29:04</td>\n",
       "      <td>884.5</td>\n",
       "      <td>1713.6</td>\n",
       "      <td>14.063789</td>\n",
       "      <td>14141</td>\n",
       "      <td>66.012250</td>\n",
       "      <td>967.837346</td>\n",
       "      <td>385.143343</td>\n",
       "      <td>Existência de fumo, vidros fechados, AC desligado</td>\n",
       "      <td>1</td>\n",
       "    </tr>\n",
       "    <tr>\n",
       "      <th>2</th>\n",
       "      <td>516</td>\n",
       "      <td>66-ZZ-66</td>\n",
       "      <td>41.5608 -8.3968</td>\n",
       "      <td>2020-11-28 18:28:53</td>\n",
       "      <td>811.4</td>\n",
       "      <td>1569.3</td>\n",
       "      <td>14.047383</td>\n",
       "      <td>17158</td>\n",
       "      <td>65.654890</td>\n",
       "      <td>967.823565</td>\n",
       "      <td>385.262419</td>\n",
       "      <td>Existência de fumo, vidros fechados, AC desligado</td>\n",
       "      <td>1</td>\n",
       "    </tr>\n",
       "    <tr>\n",
       "      <th>3</th>\n",
       "      <td>515</td>\n",
       "      <td>66-ZZ-66</td>\n",
       "      <td>41.5608 -8.3968</td>\n",
       "      <td>2020-11-28 18:28:42</td>\n",
       "      <td>828.5</td>\n",
       "      <td>1566.5</td>\n",
       "      <td>14.039766</td>\n",
       "      <td>16767</td>\n",
       "      <td>64.965988</td>\n",
       "      <td>967.831027</td>\n",
       "      <td>385.197946</td>\n",
       "      <td>Existência de fumo, vidros fechados, AC desligado</td>\n",
       "      <td>1</td>\n",
       "    </tr>\n",
       "    <tr>\n",
       "      <th>4</th>\n",
       "      <td>514</td>\n",
       "      <td>66-ZZ-66</td>\n",
       "      <td>41.5608 -8.3968</td>\n",
       "      <td>2020-11-28 18:28:31</td>\n",
       "      <td>904.1</td>\n",
       "      <td>1772.0</td>\n",
       "      <td>14.036836</td>\n",
       "      <td>15793</td>\n",
       "      <td>64.422399</td>\n",
       "      <td>967.829522</td>\n",
       "      <td>385.210952</td>\n",
       "      <td>Existência de fumo, vidros fechados, AC desligado</td>\n",
       "      <td>1</td>\n",
       "    </tr>\n",
       "  </tbody>\n",
       "</table>\n",
       "</div>"
      ],
      "text/plain": [
       "   sensors.id sensors.carId sensors.carLocation    sensors.timeValue  \\\n",
       "0         518      66-ZZ-66     41.5608 -8.3968  2020-11-28 18:29:15   \n",
       "1         517      66-ZZ-66     41.5608 -8.3968  2020-11-28 18:29:04   \n",
       "2         516      66-ZZ-66     41.5608 -8.3968  2020-11-28 18:28:53   \n",
       "3         515      66-ZZ-66     41.5608 -8.3968  2020-11-28 18:28:42   \n",
       "4         514      66-ZZ-66     41.5608 -8.3968  2020-11-28 18:28:31   \n",
       "\n",
       "   sensors.pm25  sensors.pm10  sensors.temperature  sensors.gas  \\\n",
       "0         644.6        1191.0            14.075117        15504   \n",
       "1         884.5        1713.6            14.063789        14141   \n",
       "2         811.4        1569.3            14.047383        17158   \n",
       "3         828.5        1566.5            14.039766        16767   \n",
       "4         904.1        1772.0            14.036836        15793   \n",
       "\n",
       "   sensors.humidity  sensors.pressure  sensors.altitude  \\\n",
       "0         64.529485        967.846065        385.068009   \n",
       "1         66.012250        967.837346        385.143343   \n",
       "2         65.654890        967.823565        385.262419   \n",
       "3         64.965988        967.831027        385.197946   \n",
       "4         64.422399        967.829522        385.210952   \n",
       "\n",
       "                                        sensors.tags  sensors.classification  \n",
       "0  Existência de fumo, vidros fechados, AC desligado                       1  \n",
       "1  Existência de fumo, vidros fechados, AC desligado                       1  \n",
       "2  Existência de fumo, vidros fechados, AC desligado                       1  \n",
       "3  Existência de fumo, vidros fechados, AC desligado                       1  \n",
       "4  Existência de fumo, vidros fechados, AC desligado                       1  "
      ]
     },
     "execution_count": 136,
     "metadata": {},
     "output_type": "execute_result"
    }
   ],
   "source": [
    "data = pd.read_csv(\"data/raw_data.csv\") \n",
    "data.head()"
   ]
  },
  {
   "cell_type": "markdown",
   "metadata": {},
   "source": [
    "## 3. Data Pre-processing\n",
    "Where the \"magic\" happens!\n",
    "Section where the data will be cleaned and ready to fill de model."
   ]
  },
  {
   "cell_type": "markdown",
   "metadata": {},
   "source": [
    "### 3.1 Null Values Verification & Elimination"
   ]
  },
  {
   "cell_type": "markdown",
   "metadata": {},
   "source": [
    "Here we are going to validate the datasets: checking if there are missing values and try to avoid them: deleting or replace them for the most common values of the respectively feature"
   ]
  },
  {
   "cell_type": "code",
   "execution_count": 111,
   "metadata": {},
   "outputs": [
    {
     "name": "stdout",
     "output_type": "stream",
     "text": [
      "Missing values on dataset:  0\n"
     ]
    }
   ],
   "source": [
    "#Missing values verification for whole dataset\n",
    "nullValues = data.isnull().values.sum()\n",
    "\n",
    "print(\"Missing values on dataset: \",nullValues)"
   ]
  },
  {
   "cell_type": "code",
   "execution_count": 112,
   "metadata": {},
   "outputs": [
    {
     "name": "stdout",
     "output_type": "stream",
     "text": [
      "---------Dataset ------------\n",
      "sensors.id                0\n",
      "sensors.carId             0\n",
      "sensors.carLocation       0\n",
      "sensors.timeValue         0\n",
      "sensors.pm25              0\n",
      "sensors.pm10              0\n",
      "sensors.temperature       0\n",
      "sensors.gas               0\n",
      "sensors.humidity          0\n",
      "sensors.pressure          0\n",
      "sensors.altitude          0\n",
      "sensors.tags              0\n",
      "sensors.classification    0\n",
      "dtype: int64\n"
     ]
    }
   ],
   "source": [
    "#Missing values for each feature\n",
    "print(\"---------Dataset ------------\")\n",
    "print(data.isnull().sum())"
   ]
  },
  {
   "cell_type": "code",
   "execution_count": 113,
   "metadata": {},
   "outputs": [
    {
     "name": "stdout",
     "output_type": "stream",
     "text": [
      "        sensors.id sensors.carId sensors.carLocation    sensors.timeValue  \\\n",
      "count   463.000000           463                 463                  463   \n",
      "unique         NaN             2                   1                  463   \n",
      "top            NaN      VP-35-44     41.5608 -8.3968  2020-11-25 12:12:08   \n",
      "freq           NaN           251                 463                    1   \n",
      "mean    234.969762           NaN                 NaN                  NaN   \n",
      "std     139.144134           NaN                 NaN                  NaN   \n",
      "min       1.000000           NaN                 NaN                  NaN   \n",
      "25%     116.500000           NaN                 NaN                  NaN   \n",
      "50%     232.000000           NaN                 NaN                  NaN   \n",
      "75%     347.500000           NaN                 NaN                  NaN   \n",
      "max     518.000000           NaN                 NaN                  NaN   \n",
      "\n",
      "        sensors.pm25  sensors.pm10  sensors.temperature   sensors.gas  \\\n",
      "count     463.000000    463.000000           463.000000    463.000000   \n",
      "unique           NaN           NaN                  NaN           NaN   \n",
      "top              NaN           NaN                  NaN           NaN   \n",
      "freq             NaN           NaN                  NaN           NaN   \n",
      "mean       42.182721     79.232613            21.407469  38161.090713   \n",
      "std       156.269960    301.290148             5.091515  12764.401691   \n",
      "min         0.900000      1.300000            13.426680   9152.000000   \n",
      "25%         5.850000      9.650000            15.271016  31673.000000   \n",
      "50%         7.800000     12.900000            23.863203  32715.000000   \n",
      "75%        10.000000     14.400000            25.879219  52169.000000   \n",
      "max       999.900000   1999.900000            27.949531  60247.000000   \n",
      "\n",
      "        sensors.humidity  sensors.pressure  sensors.altitude  \\\n",
      "count         463.000000        463.000000        463.000000   \n",
      "unique               NaN               NaN               NaN   \n",
      "top                  NaN               NaN               NaN   \n",
      "freq                 NaN               NaN               NaN   \n",
      "mean           42.988586        997.123396        136.742993   \n",
      "std            11.688754         21.640337        182.842801   \n",
      "min            25.600421        967.816309        -59.780313   \n",
      "25%            34.202547        974.198505        -29.536928   \n",
      "50%            36.456648       1016.577510        -27.667035   \n",
      "75%            55.910004       1016.802721        330.324723   \n",
      "max            66.090665       1020.450858        385.325117   \n",
      "\n",
      "                                             sensors.tags  \\\n",
      "count                                                 463   \n",
      "unique                                                  4   \n",
      "top     Não existência de fumo, vidros fechados, AC de...   \n",
      "freq                                                  219   \n",
      "mean                                                  NaN   \n",
      "std                                                   NaN   \n",
      "min                                                   NaN   \n",
      "25%                                                   NaN   \n",
      "50%                                                   NaN   \n",
      "75%                                                   NaN   \n",
      "max                                                   NaN   \n",
      "\n",
      "        sensors.classification  \n",
      "count               463.000000  \n",
      "unique                     NaN  \n",
      "top                        NaN  \n",
      "freq                       NaN  \n",
      "mean                  0.053996  \n",
      "std                   0.226254  \n",
      "min                   0.000000  \n",
      "25%                   0.000000  \n",
      "50%                   0.000000  \n",
      "75%                   0.000000  \n",
      "max                   1.000000  \n"
     ]
    }
   ],
   "source": [
    "#Describe the dataset for more realistic informations about features\n",
    "print(data.describe(include='all'))"
   ]
  },
  {
   "cell_type": "markdown",
   "metadata": {},
   "source": [
    "### 3.2 NaN Verification & Elimination"
   ]
  },
  {
   "cell_type": "markdown",
   "metadata": {},
   "source": [
    "In this subsection we are going to verify the existance of NaN values. Tipically, they can cause some troubles \n",
    "ahead - so it is important to handle them now"
   ]
  },
  {
   "cell_type": "code",
   "execution_count": 114,
   "metadata": {},
   "outputs": [
    {
     "name": "stdout",
     "output_type": "stream",
     "text": [
      "NAN Finder: \n",
      " Total: 0 \n"
     ]
    }
   ],
   "source": [
    "NaN = data.isna().sum()\n",
    "print(\"NAN Finder: \\n Total: %s \" % (NaN.sum()))"
   ]
  },
  {
   "cell_type": "markdown",
   "metadata": {},
   "source": [
    "Lets drop all the Nan Found "
   ]
  },
  {
   "cell_type": "code",
   "execution_count": 115,
   "metadata": {},
   "outputs": [
    {
     "name": "stdout",
     "output_type": "stream",
     "text": [
      "Dataset: \n",
      " Antes -> 463 \n",
      " Depois 463 \n",
      "Foram removidos: 0\n"
     ]
    }
   ],
   "source": [
    "dataClean = data.dropna()\n",
    "print(\"Dataset: \\n Antes -> %s \\n Depois %s \" % (data.shape[0],dataClean.shape[0]))\n",
    "print(\"Foram removidos: %s\" % (data.shape[0]-dataClean.shape[0]))"
   ]
  },
  {
   "cell_type": "markdown",
   "metadata": {},
   "source": [
    "Finally, we present a brief visual representation of how our datasets are composed in termos of unwanted values"
   ]
  },
  {
   "cell_type": "code",
   "execution_count": 116,
   "metadata": {},
   "outputs": [],
   "source": [
    "#Assign the same variables for not making mistakes further\n",
    "data = dataClean"
   ]
  },
  {
   "cell_type": "code",
   "execution_count": 117,
   "metadata": {},
   "outputs": [
    {
     "name": "stdout",
     "output_type": "stream",
     "text": [
      "Dataset Information\n",
      "<class 'pandas.core.frame.DataFrame'>\n",
      "Int64Index: 463 entries, 0 to 462\n",
      "Data columns (total 13 columns):\n",
      " #   Column                  Non-Null Count  Dtype  \n",
      "---  ------                  --------------  -----  \n",
      " 0   sensors.id              463 non-null    int64  \n",
      " 1   sensors.carId           463 non-null    object \n",
      " 2   sensors.carLocation     463 non-null    object \n",
      " 3   sensors.timeValue       463 non-null    object \n",
      " 4   sensors.pm25            463 non-null    float64\n",
      " 5   sensors.pm10            463 non-null    float64\n",
      " 6   sensors.temperature     463 non-null    float64\n",
      " 7   sensors.gas             463 non-null    int64  \n",
      " 8   sensors.humidity        463 non-null    float64\n",
      " 9   sensors.pressure        463 non-null    float64\n",
      " 10  sensors.altitude        463 non-null    float64\n",
      " 11  sensors.tags            463 non-null    object \n",
      " 12  sensors.classification  463 non-null    int64  \n",
      "dtypes: float64(6), int64(3), object(4)\n",
      "memory usage: 50.6+ KB\n"
     ]
    },
    {
     "data": {
      "image/png": "[encoded data removed]",
      "text/plain": [
       "<Figure size 432x288 with 1 Axes>"
      ]
     },
     "metadata": {
      "needs_background": "light"
     },
     "output_type": "display_data"
    }
   ],
   "source": [
    "print(\"Dataset Information\")\n",
    "sns.heatmap(data.isnull(), cbar=False)\n",
    "data.info()"
   ]
  },
  {
   "cell_type": "markdown",
   "metadata": {},
   "source": [
    "### 3.3 Outliers"
   ]
  },
  {
   "cell_type": "markdown",
   "metadata": {},
   "source": [
    "Here we are going to check if there are any outlier in our dataframes, and handle with them "
   ]
  },
  {
   "cell_type": "code",
   "execution_count": 118,
   "metadata": {},
   "outputs": [
    {
     "data": {
      "text/plain": [
       "Text(0.5, 1.0, 'PM 25 BoxPlot')"
      ]
     },
     "execution_count": 118,
     "metadata": {},
     "output_type": "execute_result"
    },
    {
     "data": {
      "image/png": "[encoded data removed]",
      "text/plain": [
       "<Figure size 432x288 with 1 Axes>"
      ]
     },
     "metadata": {
      "needs_background": "light"
     },
     "output_type": "display_data"
    }
   ],
   "source": [
    "sns.boxplot(x=data['sensors.pm25']).set_title('PM 25 BoxPlot')"
   ]
  },
  {
   "cell_type": "code",
   "execution_count": 119,
   "metadata": {},
   "outputs": [
    {
     "data": {
      "text/plain": [
       "Text(0.5, 1.0, 'PM 10 BoxPlot')"
      ]
     },
     "execution_count": 119,
     "metadata": {},
     "output_type": "execute_result"
    },
    {
     "data": {
      "image/png": "[encoded data removed]",
      "text/plain": [
       "<Figure size 432x288 with 1 Axes>"
      ]
     },
     "metadata": {
      "needs_background": "light"
     },
     "output_type": "display_data"
    }
   ],
   "source": [
    "sns.boxplot(x=data['sensors.pm10']).set_title('PM 10 BoxPlot')"
   ]
  },
  {
   "cell_type": "code",
   "execution_count": 120,
   "metadata": {},
   "outputs": [
    {
     "data": {
      "text/plain": [
       "Text(0.5, 1.0, 'Temperature BoxPlot')"
      ]
     },
     "execution_count": 120,
     "metadata": {},
     "output_type": "execute_result"
    },
    {
     "data": {
      "image/png": "[encoded data removed]",
      "text/plain": [
       "<Figure size 432x288 with 1 Axes>"
      ]
     },
     "metadata": {
      "needs_background": "light"
     },
     "output_type": "display_data"
    }
   ],
   "source": [
    "sns.boxplot(x=data['sensors.temperature']).set_title('Temperature BoxPlot')"
   ]
  },
  {
   "cell_type": "code",
   "execution_count": 121,
   "metadata": {},
   "outputs": [
    {
     "data": {
      "text/plain": [
       "Text(0.5, 1.0, 'Gas BoxPlot')"
      ]
     },
     "execution_count": 121,
     "metadata": {},
     "output_type": "execute_result"
    },
    {
     "data": {
      "image/png": "[encoded data removed]",
      "text/plain": [
       "<Figure size 432x288 with 1 Axes>"
      ]
     },
     "metadata": {
      "needs_background": "light"
     },
     "output_type": "display_data"
    }
   ],
   "source": [
    "sns.boxplot(x=data['sensors.gas']).set_title('Gas BoxPlot')"
   ]
  },
  {
   "cell_type": "code",
   "execution_count": 122,
   "metadata": {},
   "outputs": [
    {
     "data": {
      "text/plain": [
       "Text(0.5, 1.0, 'Humidity BoxPlot')"
      ]
     },
     "execution_count": 122,
     "metadata": {},
     "output_type": "execute_result"
    },
    {
     "data": {
      "image/png": "[encoded data removed]",
      "text/plain": [
       "<Figure size 432x288 with 1 Axes>"
      ]
     },
     "metadata": {
      "needs_background": "light"
     },
     "output_type": "display_data"
    }
   ],
   "source": [
    "sns.boxplot(x=data['sensors.humidity']).set_title('Humidity BoxPlot')"
   ]
  },
  {
   "cell_type": "code",
   "execution_count": 123,
   "metadata": {},
   "outputs": [
    {
     "data": {
      "text/plain": [
       "Text(0.5, 1.0, 'Pressure BoxPlot')"
      ]
     },
     "execution_count": 123,
     "metadata": {},
     "output_type": "execute_result"
    },
    {
     "data": {
      "image/png": "[encoded data removed]",
      "text/plain": [
       "<Figure size 432x288 with 1 Axes>"
      ]
     },
     "metadata": {
      "needs_background": "light"
     },
     "output_type": "display_data"
    }
   ],
   "source": [
    "sns.boxplot(x=data['sensors.pressure']).set_title('Pressure BoxPlot')"
   ]
  },
  {
   "cell_type": "code",
   "execution_count": 124,
   "metadata": {},
   "outputs": [
    {
     "data": {
      "text/plain": [
       "Text(0.5, 1.0, 'Altitude BoxPlot')"
      ]
     },
     "execution_count": 124,
     "metadata": {},
     "output_type": "execute_result"
    },
    {
     "data": {
      "image/png": "[encoded data removed]",
      "text/plain": [
       "<Figure size 432x288 with 1 Axes>"
      ]
     },
     "metadata": {
      "needs_background": "light"
     },
     "output_type": "display_data"
    }
   ],
   "source": [
    "sns.boxplot(x=data['sensors.altitude']).set_title('Altitude BoxPlot')"
   ]
  },
  {
   "cell_type": "markdown",
   "metadata": {},
   "source": [
    "#### Assign features only"
   ]
  },
  {
   "cell_type": "code",
   "execution_count": 137,
   "metadata": {},
   "outputs": [
    {
     "data": {
      "text/plain": [
       "<matplotlib.axes._subplots.AxesSubplot at 0x7fad1c267c40>"
      ]
     },
     "execution_count": 137,
     "metadata": {},
     "output_type": "execute_result"
    },
    {
     "data": {
      "image/png": "[encoded data removed]",
      "text/plain": [
       "<Figure size 432x288 with 1 Axes>"
      ]
     },
     "metadata": {
      "needs_background": "light"
     },
     "output_type": "display_data"
    }
   ],
   "source": [
    "features = data[['sensors.pm25','sensors.pm10','sensors.temperature', 'sensors.gas', 'sensors.humidity', 'sensors.pressure', 'sensors.altitude','sensors.classification']]\n",
    "features.boxplot()"
   ]
  },
  {
   "cell_type": "markdown",
   "metadata": {},
   "source": [
    "Now that we have spotted some outliers, its time to get rid of them"
   ]
  },
  {
   "cell_type": "markdown",
   "metadata": {},
   "source": [
    "#### Z-score method"
   ]
  },
  {
   "cell_type": "code",
   "execution_count": 138,
   "metadata": {},
   "outputs": [
    {
     "name": "stdout",
     "output_type": "stream",
     "text": [
      "[[3.85914793 3.69401374 1.44166969 ... 1.35436888 1.359603   4.18568991]\n",
      " [5.39597235 5.43043055 1.443897   ... 1.3547722  1.36001546 4.18568991]\n",
      " [4.92768612 4.95097218 1.44712275 ... 1.35540971 1.36066742 4.18568991]\n",
      " ...\n",
      " [0.2202593  0.21807419 0.09402166 ... 0.9321148  0.9317654  0.23890924]\n",
      " [0.2202593  0.21807419 0.07950575 ... 0.93190089 0.93155529 0.23890924]\n",
      " [0.2202593  0.21807419 0.06925245 ... 0.93238659 0.93203236 0.23890924]]\n"
     ]
    }
   ],
   "source": [
    "z = np.abs(stats.zscore(features))\n",
    "print(z)"
   ]
  },
  {
   "cell_type": "code",
   "execution_count": 139,
   "metadata": {},
   "outputs": [
    {
     "name": "stdout",
     "output_type": "stream",
     "text": [
      "(array([ 0,  0,  0,  1,  1,  1,  2,  2,  2,  3,  3,  3,  4,  4,  4,  5,  5,\n",
      "        5,  6,  6,  6,  7,  7,  8,  8,  8,  9,  9,  9, 10, 10, 10, 11, 11,\n",
      "       11, 12, 12, 12, 13, 13, 13, 14, 14, 14, 15, 16, 17, 17, 17, 18, 18,\n",
      "       18, 19, 20, 20, 20, 21, 21, 22, 23, 24]), array([0, 1, 7, 0, 1, 7, 0, 1, 7, 0, 1, 7, 0, 1, 7, 0, 1, 7, 0, 1, 7, 0,\n",
      "       7, 0, 1, 7, 0, 1, 7, 0, 1, 7, 0, 1, 7, 0, 1, 7, 0, 1, 7, 0, 1, 7,\n",
      "       7, 7, 0, 1, 7, 0, 1, 7, 7, 0, 1, 7, 1, 7, 7, 7, 7]))\n"
     ]
    }
   ],
   "source": [
    "threshold = 3\n",
    "print(np.where(z > threshold))"
   ]
  },
  {
   "cell_type": "code",
   "execution_count": 141,
   "metadata": {},
   "outputs": [
    {
     "name": "stdout",
     "output_type": "stream",
     "text": [
      "ANTES DE REMOVER:  (463, 8)\n",
      "DEPOIS DE REMOVER:  (438, 8)\n",
      "Removidos:  25\n"
     ]
    }
   ],
   "source": [
    "abs_z_scores = np.abs(z)\n",
    "filtered_entries = (abs_z_scores < threshold).all(axis=1)\n",
    "print(\"ANTES DE REMOVER: \",features.shape)\n",
    "featuresZ = features[filtered_entries]\n",
    "print(\"DEPOIS DE REMOVER: \",featuresClean.shape)\n",
    "print(\"Removidos: \", features.shape[0]-featuresClean.shape[0])"
   ]
  },
  {
   "cell_type": "markdown",
   "metadata": {},
   "source": [
    "#### IRQ method"
   ]
  },
  {
   "cell_type": "code",
   "execution_count": 142,
   "metadata": {},
   "outputs": [
    {
     "name": "stdout",
     "output_type": "stream",
     "text": [
      "sensors.pm25                  4.150000\n",
      "sensors.pm10                  4.750000\n",
      "sensors.temperature          10.608203\n",
      "sensors.gas               20496.000000\n",
      "sensors.humidity             21.707457\n",
      "sensors.pressure             42.604216\n",
      "sensors.altitude            359.861651\n",
      "sensors.classification        0.000000\n",
      "dtype: float64\n"
     ]
    }
   ],
   "source": [
    "Q1 = features.quantile(0.25)\n",
    "Q3 = features.quantile(0.75)\n",
    "IQR = Q3 - Q1\n",
    "print(IQR)"
   ]
  },
  {
   "cell_type": "code",
   "execution_count": 143,
   "metadata": {},
   "outputs": [
    {
     "name": "stdout",
     "output_type": "stream",
     "text": [
      "ANTES DE REMOVER:  (463, 8)\n",
      "DEPOIS DE REMOVER:  (376, 8)\n",
      "Removidos:  87\n"
     ]
    }
   ],
   "source": [
    "featuresIQR = features[~((features < (Q1 - 1.5 * IQR)) |(features > (Q3 + 1.5 * IQR))).any(axis=1)]\n",
    "print(\"ANTES DE REMOVER: \", features.shape)\n",
    "print(\"DEPOIS DE REMOVER: \", featuresIQR.shape)\n",
    "print(\"Removidos: \", features.shape[0]- featuresIQR.shape[0])\n",
    "#particles = particlesNow"
   ]
  },
  {
   "cell_type": "markdown",
   "metadata": {},
   "source": [
    "#### Assing Variables Without Outliers"
   ]
  },
  {
   "cell_type": "markdown",
   "metadata": {},
   "source": [
    "Here we have to assign the datasets WITHOUT OUTLIERS, in order to proceeed to normalization and standarization with correct values. We are going to use IQR since this is removing more data"
   ]
  },
  {
   "cell_type": "code",
   "execution_count": 144,
   "metadata": {},
   "outputs": [
    {
     "data": {
      "text/plain": [
       "(376, 8)"
      ]
     },
     "execution_count": 144,
     "metadata": {},
     "output_type": "execute_result"
    }
   ],
   "source": [
    "data = featuresIQR\n",
    "data.shape"
   ]
  },
  {
   "cell_type": "code",
   "execution_count": 148,
   "metadata": {},
   "outputs": [],
   "source": [
    "features = featuresIQR"
   ]
  },
  {
   "cell_type": "markdown",
   "metadata": {},
   "source": [
    "### 3.4 Normalização"
   ]
  },
  {
   "cell_type": "code",
   "execution_count": 149,
   "metadata": {},
   "outputs": [
    {
     "data": {
      "text/plain": [
       "(376, 8)"
      ]
     },
     "execution_count": 149,
     "metadata": {},
     "output_type": "execute_result"
    }
   ],
   "source": [
    "# Normalization\n",
    "from sklearn.preprocessing import MinMaxScaler\n",
    "scaler = MinMaxScaler() # Create the Scaler\n",
    "minmax = pd.DataFrame(scaler.fit_transform(features.values), columns=features.columns, index=features.index)\n",
    "minmax.head()\n",
    "minmax.shape"
   ]
  },
  {
   "cell_type": "code",
   "execution_count": null,
   "metadata": {},
   "outputs": [],
   "source": []
  },
  {
   "cell_type": "markdown",
   "metadata": {},
   "source": [
    "### 3.5 Standarização"
   ]
  },
  {
   "cell_type": "code",
   "execution_count": 152,
   "metadata": {},
   "outputs": [
    {
     "data": {
      "text/plain": [
       "(376, 8)"
      ]
     },
     "execution_count": 152,
     "metadata": {},
     "output_type": "execute_result"
    }
   ],
   "source": [
    "# Standarization\n",
    "from sklearn.preprocessing import StandardScaler\n",
    "scaler = StandardScaler() # Create Scaler\n",
    "standard = pd.DataFrame(scaler.fit_transform(features.values), columns=features.columns, index=features.index)\n",
    "standard.head()\n",
    "standard.shape"
   ]
  },
  {
   "cell_type": "markdown",
   "metadata": {},
   "source": [
    "## 4. Create clean data files\n",
    "The last step of the task is save the previous cleaned data, so that it can be used in the future."
   ]
  },
  {
   "cell_type": "markdown",
   "metadata": {},
   "source": [
    "Save data without outliers into 2 different files: normalized and standarized"
   ]
  },
  {
   "cell_type": "markdown",
   "metadata": {},
   "source": [
    "#### Normalized -> MinMax"
   ]
  },
  {
   "cell_type": "code",
   "execution_count": 153,
   "metadata": {},
   "outputs": [],
   "source": [
    "#Save normalized csv \n",
    "minmax.to_csv('data/minmax.csv')"
   ]
  },
  {
   "cell_type": "markdown",
   "metadata": {},
   "source": [
    "#### Standarized -> Standard Scaler"
   ]
  },
  {
   "cell_type": "code",
   "execution_count": 154,
   "metadata": {},
   "outputs": [],
   "source": [
    "#Save standarized csv\n",
    "standard.to_csv('data/standarized.csv')"
   ]
  },
  {
   "cell_type": "code",
   "execution_count": null,
   "metadata": {},
   "outputs": [],
   "source": []
  }
 ],
 "metadata": {
  "kernelspec": {
   "display_name": "Python 3",
   "language": "python",
   "name": "python3"
  },
  "language_info": {
   "codemirror_mode": {
    "name": "ipython",
    "version": 3
   },
   "file_extension": ".py",
   "mimetype": "text/x-python",
   "name": "python",
   "nbconvert_exporter": "python",
   "pygments_lexer": "ipython3",
   "version": "3.8.3"
  }
 },
 "nbformat": 4,
 "nbformat_minor": 2
}
